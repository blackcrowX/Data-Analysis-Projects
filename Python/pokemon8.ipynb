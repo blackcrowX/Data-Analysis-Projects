{
  "nbformat": 4,
  "nbformat_minor": 0,
  "metadata": {
    "colab": {
      "provenance": [],
      "authorship_tag": "ABX9TyPWnjMka6w12DkUIiPFNQhE",
      "include_colab_link": true
    },
    "kernelspec": {
      "name": "python3",
      "display_name": "Python 3"
    },
    "language_info": {
      "name": "python"
    }
  },
  "cells": [
    {
      "cell_type": "markdown",
      "metadata": {
        "id": "view-in-github",
        "colab_type": "text"
      },
      "source": [
        "<a href=\"https://colab.research.google.com/github/blackcrowX/Data-Analysis-Projects/blob/main/Python/pokemon8.ipynb\" target=\"_parent\"><img src=\"https://colab.research.google.com/assets/colab-badge.svg\" alt=\"Open In Colab\"/></a>"
      ]
    },
    {
      "cell_type": "markdown",
      "source": [
        "<h1 align=\"center\">Exploratory Data Analysis into Pokemon</h1>\n",
        "\n",
        "<img src=\"https://static.wikia.nocookie.net/logo-timeline/images/2/21/Pok%C3%A9mon_%28Print%29.svg/revision/latest?cb=20181024043055\"/>\n",
        "\n",
        "<p align=\"center\"><em>Image taken from: https://logo-timeline.fandom.com/wiki/Pok%C3%A9mon/Other</em></p>\n"
      ],
      "metadata": {
        "id": "JWSUki5ob710"
      }
    },
    {
      "cell_type": "markdown",
      "source": [
        "## Table of Contents"
      ],
      "metadata": {
        "id": "kP7ZZr60_Cnj"
      }
    },
    {
      "cell_type": "markdown",
      "source": [
        "*   Introduction\n",
        "*   Data\n",
        "*   Setup\n",
        "\n",
        "  1. [Load Libraries](#1)\n",
        "  2. [Load Data](#2)\n",
        "\n",
        "*   Data Cleaning\n",
        "\n",
        "  3. [Read Data](#3)\n",
        "  4. [Basic Analysis](#4)\n",
        "  5. [Data Cleaning](#5)\n",
        "  6. [Frequency](#6)\n",
        "  7. [The Strongest and The Weakest](#7)\n",
        "\n",
        "*   Data Analysis\n",
        "\n",
        "  5. [Frequency](#6)\n",
        "  6. [The Strongest and The Weakest](#7)\n",
        "  7. [The Fastest and The Slowest](#8)\n",
        "  8. [Summary](#9)\n",
        "\n",
        "*   Data Visualisation\n",
        "\n",
        "  8. [Count Plot](#11)\n",
        "  9. [Pie Plot](#12)\n",
        "  10. [Box Plot and Violin Plot](#13)\n",
        "  11. [Swarm Flot](#14)\n",
        "  12. [Heat Map](#15)\n",
        "\n",
        "*   Findings"
      ],
      "metadata": {
        "id": "sbT8ddMKIs26"
      }
    },
    {
      "cell_type": "markdown",
      "source": [
        "# Introduction \n"
      ],
      "metadata": {
        "id": "BANrAqFTx1jk"
      }
    },
    {
      "cell_type": "markdown",
      "source": [
        "This data analysis case study will be on a dataset regarding pokemon. It contains data manipulations to try and find answers to questions using visuals of data and statistics. \n",
        "\n",
        "Considering how diverse Pokemon are, I was interested in analyzing this datset to learn how the game is balanced and to potentially identify the best Pokemon, if there exists one.\n",
        "\n"
      ],
      "metadata": {
        "id": "YexmpsxxyAyC"
      }
    },
    {
      "cell_type": "markdown",
      "source": [
        "## Data"
      ],
      "metadata": {
        "id": "xMenjEXYsnQ9"
      }
    },
    {
      "cell_type": "markdown",
      "source": [
        "The Pokemon dataset is a listing of all 898 Pokemon species, 1072 including alternate forms, as of 2021. It contains data about their number, name, first and second type, basic statistics, total statistics,  generation, and legendary status.\n",
        "\n",
        "Source: <a href=\"https://data.world/data-society/pokemon-with-stats\">data.world</a>"
      ],
      "metadata": {
        "id": "jxDz7eKzsnZq"
      }
    },
    {
      "cell_type": "markdown",
      "source": [
        "# Setup"
      ],
      "metadata": {
        "id": "l8bAEY4PL3iJ"
      }
    },
    {
      "cell_type": "markdown",
      "source": [
        "## Step 1: Import Libraries\n",
        "\n",
        "Import and configure libraries required for data analysis."
      ],
      "metadata": {
        "id": "S3zet4pwHop4"
      }
    },
    {
      "cell_type": "code",
      "execution_count": 3,
      "metadata": {
        "id": "uIMVuregZIms"
      },
      "outputs": [],
      "source": [
        "import numpy as np\n",
        "import pandas as pd\n",
        "pd.plotting.register_matplotlib_converters()\n",
        "import matplotlib.pyplot as plt\n",
        "%matplotlib inline\n",
        "import seaborn as sns"
      ]
    },
    {
      "cell_type": "markdown",
      "source": [
        "## Step 2: Import Dataset\n",
        "Import dataset as variable `df` into Python."
      ],
      "metadata": {
        "id": "gGu8GQPZH0-g"
      }
    },
    {
      "cell_type": "code",
      "source": [
        "url = 'https://raw.githubusercontent.com/blackcrowX/Data-Analysis-Projects/main/Datasets/pokemon-stats-gen-1-8.csv'\n",
        "df = pd.read_csv(url)"
      ],
      "metadata": {
        "id": "OBcdg-IfI2g_"
      },
      "execution_count": 10,
      "outputs": []
    },
    {
      "cell_type": "markdown",
      "source": [
        "# Data Cleaning"
      ],
      "metadata": {
        "id": "VmPTEE5rskgs"
      }
    },
    {
      "cell_type": "markdown",
      "source": [
        "## Step 3: Review Data\n",
        "\n",
        "Read the first five rows of the dataframe."
      ],
      "metadata": {
        "id": "v2plaMd-IgYZ"
      }
    },
    {
      "cell_type": "code",
      "source": [
        "df.head()"
      ],
      "metadata": {
        "colab": {
          "base_uri": "https://localhost:8080/",
          "height": 206
        },
        "id": "pASr1U16ZRHT",
        "outputId": "738a2594-969e-4a71-ccde-0c0ac63a01a1"
      },
      "execution_count": 11,
      "outputs": [
        {
          "output_type": "execute_result",
          "data": {
            "text/plain": [
              "   number                 name  type1   type2  total  hp  attack  defense  \\\n",
              "0       1            Bulbasaur  Grass  Poison    318  45      49       49   \n",
              "1       2              Ivysaur  Grass  Poison    405  60      62       63   \n",
              "2       3             Venusaur  Grass  Poison    525  80      82       83   \n",
              "3       3        Mega Venusaur  Grass  Poison    625  80     100      123   \n",
              "4       3  Gigantamax Venusaur  Grass  Poison    525  80      82       83   \n",
              "\n",
              "   sp_attack  sp_defense  speed  generation  legendary  \n",
              "0         65          65     45           1      False  \n",
              "1         80          80     60           1      False  \n",
              "2        100         100     80           1      False  \n",
              "3        122         120     80           1      False  \n",
              "4        100         100     80           1      False  "
            ],
            "text/html": [
              "\n",
              "  <div id=\"df-5af4ac10-f305-4c99-b724-d8cdfc1d656d\">\n",
              "    <div class=\"colab-df-container\">\n",
              "      <div>\n",
              "<style scoped>\n",
              "    .dataframe tbody tr th:only-of-type {\n",
              "        vertical-align: middle;\n",
              "    }\n",
              "\n",
              "    .dataframe tbody tr th {\n",
              "        vertical-align: top;\n",
              "    }\n",
              "\n",
              "    .dataframe thead th {\n",
              "        text-align: right;\n",
              "    }\n",
              "</style>\n",
              "<table border=\"1\" class=\"dataframe\">\n",
              "  <thead>\n",
              "    <tr style=\"text-align: right;\">\n",
              "      <th></th>\n",
              "      <th>number</th>\n",
              "      <th>name</th>\n",
              "      <th>type1</th>\n",
              "      <th>type2</th>\n",
              "      <th>total</th>\n",
              "      <th>hp</th>\n",
              "      <th>attack</th>\n",
              "      <th>defense</th>\n",
              "      <th>sp_attack</th>\n",
              "      <th>sp_defense</th>\n",
              "      <th>speed</th>\n",
              "      <th>generation</th>\n",
              "      <th>legendary</th>\n",
              "    </tr>\n",
              "  </thead>\n",
              "  <tbody>\n",
              "    <tr>\n",
              "      <th>0</th>\n",
              "      <td>1</td>\n",
              "      <td>Bulbasaur</td>\n",
              "      <td>Grass</td>\n",
              "      <td>Poison</td>\n",
              "      <td>318</td>\n",
              "      <td>45</td>\n",
              "      <td>49</td>\n",
              "      <td>49</td>\n",
              "      <td>65</td>\n",
              "      <td>65</td>\n",
              "      <td>45</td>\n",
              "      <td>1</td>\n",
              "      <td>False</td>\n",
              "    </tr>\n",
              "    <tr>\n",
              "      <th>1</th>\n",
              "      <td>2</td>\n",
              "      <td>Ivysaur</td>\n",
              "      <td>Grass</td>\n",
              "      <td>Poison</td>\n",
              "      <td>405</td>\n",
              "      <td>60</td>\n",
              "      <td>62</td>\n",
              "      <td>63</td>\n",
              "      <td>80</td>\n",
              "      <td>80</td>\n",
              "      <td>60</td>\n",
              "      <td>1</td>\n",
              "      <td>False</td>\n",
              "    </tr>\n",
              "    <tr>\n",
              "      <th>2</th>\n",
              "      <td>3</td>\n",
              "      <td>Venusaur</td>\n",
              "      <td>Grass</td>\n",
              "      <td>Poison</td>\n",
              "      <td>525</td>\n",
              "      <td>80</td>\n",
              "      <td>82</td>\n",
              "      <td>83</td>\n",
              "      <td>100</td>\n",
              "      <td>100</td>\n",
              "      <td>80</td>\n",
              "      <td>1</td>\n",
              "      <td>False</td>\n",
              "    </tr>\n",
              "    <tr>\n",
              "      <th>3</th>\n",
              "      <td>3</td>\n",
              "      <td>Mega Venusaur</td>\n",
              "      <td>Grass</td>\n",
              "      <td>Poison</td>\n",
              "      <td>625</td>\n",
              "      <td>80</td>\n",
              "      <td>100</td>\n",
              "      <td>123</td>\n",
              "      <td>122</td>\n",
              "      <td>120</td>\n",
              "      <td>80</td>\n",
              "      <td>1</td>\n",
              "      <td>False</td>\n",
              "    </tr>\n",
              "    <tr>\n",
              "      <th>4</th>\n",
              "      <td>3</td>\n",
              "      <td>Gigantamax Venusaur</td>\n",
              "      <td>Grass</td>\n",
              "      <td>Poison</td>\n",
              "      <td>525</td>\n",
              "      <td>80</td>\n",
              "      <td>82</td>\n",
              "      <td>83</td>\n",
              "      <td>100</td>\n",
              "      <td>100</td>\n",
              "      <td>80</td>\n",
              "      <td>1</td>\n",
              "      <td>False</td>\n",
              "    </tr>\n",
              "  </tbody>\n",
              "</table>\n",
              "</div>\n",
              "      <button class=\"colab-df-convert\" onclick=\"convertToInteractive('df-5af4ac10-f305-4c99-b724-d8cdfc1d656d')\"\n",
              "              title=\"Convert this dataframe to an interactive table.\"\n",
              "              style=\"display:none;\">\n",
              "        \n",
              "  <svg xmlns=\"http://www.w3.org/2000/svg\" height=\"24px\"viewBox=\"0 0 24 24\"\n",
              "       width=\"24px\">\n",
              "    <path d=\"M0 0h24v24H0V0z\" fill=\"none\"/>\n",
              "    <path d=\"M18.56 5.44l.94 2.06.94-2.06 2.06-.94-2.06-.94-.94-2.06-.94 2.06-2.06.94zm-11 1L8.5 8.5l.94-2.06 2.06-.94-2.06-.94L8.5 2.5l-.94 2.06-2.06.94zm10 10l.94 2.06.94-2.06 2.06-.94-2.06-.94-.94-2.06-.94 2.06-2.06.94z\"/><path d=\"M17.41 7.96l-1.37-1.37c-.4-.4-.92-.59-1.43-.59-.52 0-1.04.2-1.43.59L10.3 9.45l-7.72 7.72c-.78.78-.78 2.05 0 2.83L4 21.41c.39.39.9.59 1.41.59.51 0 1.02-.2 1.41-.59l7.78-7.78 2.81-2.81c.8-.78.8-2.07 0-2.86zM5.41 20L4 18.59l7.72-7.72 1.47 1.35L5.41 20z\"/>\n",
              "  </svg>\n",
              "      </button>\n",
              "      \n",
              "  <style>\n",
              "    .colab-df-container {\n",
              "      display:flex;\n",
              "      flex-wrap:wrap;\n",
              "      gap: 12px;\n",
              "    }\n",
              "\n",
              "    .colab-df-convert {\n",
              "      background-color: #E8F0FE;\n",
              "      border: none;\n",
              "      border-radius: 50%;\n",
              "      cursor: pointer;\n",
              "      display: none;\n",
              "      fill: #1967D2;\n",
              "      height: 32px;\n",
              "      padding: 0 0 0 0;\n",
              "      width: 32px;\n",
              "    }\n",
              "\n",
              "    .colab-df-convert:hover {\n",
              "      background-color: #E2EBFA;\n",
              "      box-shadow: 0px 1px 2px rgba(60, 64, 67, 0.3), 0px 1px 3px 1px rgba(60, 64, 67, 0.15);\n",
              "      fill: #174EA6;\n",
              "    }\n",
              "\n",
              "    [theme=dark] .colab-df-convert {\n",
              "      background-color: #3B4455;\n",
              "      fill: #D2E3FC;\n",
              "    }\n",
              "\n",
              "    [theme=dark] .colab-df-convert:hover {\n",
              "      background-color: #434B5C;\n",
              "      box-shadow: 0px 1px 3px 1px rgba(0, 0, 0, 0.15);\n",
              "      filter: drop-shadow(0px 1px 2px rgba(0, 0, 0, 0.3));\n",
              "      fill: #FFFFFF;\n",
              "    }\n",
              "  </style>\n",
              "\n",
              "      <script>\n",
              "        const buttonEl =\n",
              "          document.querySelector('#df-5af4ac10-f305-4c99-b724-d8cdfc1d656d button.colab-df-convert');\n",
              "        buttonEl.style.display =\n",
              "          google.colab.kernel.accessAllowed ? 'block' : 'none';\n",
              "\n",
              "        async function convertToInteractive(key) {\n",
              "          const element = document.querySelector('#df-5af4ac10-f305-4c99-b724-d8cdfc1d656d');\n",
              "          const dataTable =\n",
              "            await google.colab.kernel.invokeFunction('convertToInteractive',\n",
              "                                                     [key], {});\n",
              "          if (!dataTable) return;\n",
              "\n",
              "          const docLinkHtml = 'Like what you see? Visit the ' +\n",
              "            '<a target=\"_blank\" href=https://colab.research.google.com/notebooks/data_table.ipynb>data table notebook</a>'\n",
              "            + ' to learn more about interactive tables.';\n",
              "          element.innerHTML = '';\n",
              "          dataTable['output_type'] = 'display_data';\n",
              "          await google.colab.output.renderOutput(dataTable, element);\n",
              "          const docLink = document.createElement('div');\n",
              "          docLink.innerHTML = docLinkHtml;\n",
              "          element.appendChild(docLink);\n",
              "        }\n",
              "      </script>\n",
              "    </div>\n",
              "  </div>\n",
              "  "
            ]
          },
          "metadata": {},
          "execution_count": 11
        }
      ]
    },
    {
      "cell_type": "markdown",
      "source": [
        "Read the last five rows of the dataframe."
      ],
      "metadata": {
        "id": "jUl_fRJS5xjT"
      }
    },
    {
      "cell_type": "code",
      "source": [
        "df.tail()"
      ],
      "metadata": {
        "id": "5K5F20dN5x_M",
        "outputId": "fd35bbda-02fd-4480-99cb-2986588bb86e",
        "colab": {
          "base_uri": "https://localhost:8080/",
          "height": 206
        }
      },
      "execution_count": 6,
      "outputs": [
        {
          "output_type": "execute_result",
          "data": {
            "text/plain": [
              "      number                  name    type1  type2  total   hp  attack  \\\n",
              "1067     896             Glastrier      Ice    NaN    580  100     145   \n",
              "1068     897             Spectrier    Ghost    NaN    580  100      65   \n",
              "1069     898               Calyrex  Psychic  Grass    500  100      80   \n",
              "1070     898     Ice Rider Calyrex  Psychic    Ice    680  100     165   \n",
              "1071     898  Shadow Rider Calyrex  Psychic  Ghost    680  100      85   \n",
              "\n",
              "      defense  sp_attack  sp_defense  speed  generation  legendary  \n",
              "1067      130         65         110     30           8       True  \n",
              "1068       60        145          80    130           8       True  \n",
              "1069       80         80          80     80           8       True  \n",
              "1070      150         85         130     50           8       True  \n",
              "1071       80        165         100    150           8       True  "
            ],
            "text/html": [
              "\n",
              "  <div id=\"df-3eee4cfe-7dc0-407e-89bc-c6f6c3d37f08\">\n",
              "    <div class=\"colab-df-container\">\n",
              "      <div>\n",
              "<style scoped>\n",
              "    .dataframe tbody tr th:only-of-type {\n",
              "        vertical-align: middle;\n",
              "    }\n",
              "\n",
              "    .dataframe tbody tr th {\n",
              "        vertical-align: top;\n",
              "    }\n",
              "\n",
              "    .dataframe thead th {\n",
              "        text-align: right;\n",
              "    }\n",
              "</style>\n",
              "<table border=\"1\" class=\"dataframe\">\n",
              "  <thead>\n",
              "    <tr style=\"text-align: right;\">\n",
              "      <th></th>\n",
              "      <th>number</th>\n",
              "      <th>name</th>\n",
              "      <th>type1</th>\n",
              "      <th>type2</th>\n",
              "      <th>total</th>\n",
              "      <th>hp</th>\n",
              "      <th>attack</th>\n",
              "      <th>defense</th>\n",
              "      <th>sp_attack</th>\n",
              "      <th>sp_defense</th>\n",
              "      <th>speed</th>\n",
              "      <th>generation</th>\n",
              "      <th>legendary</th>\n",
              "    </tr>\n",
              "  </thead>\n",
              "  <tbody>\n",
              "    <tr>\n",
              "      <th>1067</th>\n",
              "      <td>896</td>\n",
              "      <td>Glastrier</td>\n",
              "      <td>Ice</td>\n",
              "      <td>NaN</td>\n",
              "      <td>580</td>\n",
              "      <td>100</td>\n",
              "      <td>145</td>\n",
              "      <td>130</td>\n",
              "      <td>65</td>\n",
              "      <td>110</td>\n",
              "      <td>30</td>\n",
              "      <td>8</td>\n",
              "      <td>True</td>\n",
              "    </tr>\n",
              "    <tr>\n",
              "      <th>1068</th>\n",
              "      <td>897</td>\n",
              "      <td>Spectrier</td>\n",
              "      <td>Ghost</td>\n",
              "      <td>NaN</td>\n",
              "      <td>580</td>\n",
              "      <td>100</td>\n",
              "      <td>65</td>\n",
              "      <td>60</td>\n",
              "      <td>145</td>\n",
              "      <td>80</td>\n",
              "      <td>130</td>\n",
              "      <td>8</td>\n",
              "      <td>True</td>\n",
              "    </tr>\n",
              "    <tr>\n",
              "      <th>1069</th>\n",
              "      <td>898</td>\n",
              "      <td>Calyrex</td>\n",
              "      <td>Psychic</td>\n",
              "      <td>Grass</td>\n",
              "      <td>500</td>\n",
              "      <td>100</td>\n",
              "      <td>80</td>\n",
              "      <td>80</td>\n",
              "      <td>80</td>\n",
              "      <td>80</td>\n",
              "      <td>80</td>\n",
              "      <td>8</td>\n",
              "      <td>True</td>\n",
              "    </tr>\n",
              "    <tr>\n",
              "      <th>1070</th>\n",
              "      <td>898</td>\n",
              "      <td>Ice Rider Calyrex</td>\n",
              "      <td>Psychic</td>\n",
              "      <td>Ice</td>\n",
              "      <td>680</td>\n",
              "      <td>100</td>\n",
              "      <td>165</td>\n",
              "      <td>150</td>\n",
              "      <td>85</td>\n",
              "      <td>130</td>\n",
              "      <td>50</td>\n",
              "      <td>8</td>\n",
              "      <td>True</td>\n",
              "    </tr>\n",
              "    <tr>\n",
              "      <th>1071</th>\n",
              "      <td>898</td>\n",
              "      <td>Shadow Rider Calyrex</td>\n",
              "      <td>Psychic</td>\n",
              "      <td>Ghost</td>\n",
              "      <td>680</td>\n",
              "      <td>100</td>\n",
              "      <td>85</td>\n",
              "      <td>80</td>\n",
              "      <td>165</td>\n",
              "      <td>100</td>\n",
              "      <td>150</td>\n",
              "      <td>8</td>\n",
              "      <td>True</td>\n",
              "    </tr>\n",
              "  </tbody>\n",
              "</table>\n",
              "</div>\n",
              "      <button class=\"colab-df-convert\" onclick=\"convertToInteractive('df-3eee4cfe-7dc0-407e-89bc-c6f6c3d37f08')\"\n",
              "              title=\"Convert this dataframe to an interactive table.\"\n",
              "              style=\"display:none;\">\n",
              "        \n",
              "  <svg xmlns=\"http://www.w3.org/2000/svg\" height=\"24px\"viewBox=\"0 0 24 24\"\n",
              "       width=\"24px\">\n",
              "    <path d=\"M0 0h24v24H0V0z\" fill=\"none\"/>\n",
              "    <path d=\"M18.56 5.44l.94 2.06.94-2.06 2.06-.94-2.06-.94-.94-2.06-.94 2.06-2.06.94zm-11 1L8.5 8.5l.94-2.06 2.06-.94-2.06-.94L8.5 2.5l-.94 2.06-2.06.94zm10 10l.94 2.06.94-2.06 2.06-.94-2.06-.94-.94-2.06-.94 2.06-2.06.94z\"/><path d=\"M17.41 7.96l-1.37-1.37c-.4-.4-.92-.59-1.43-.59-.52 0-1.04.2-1.43.59L10.3 9.45l-7.72 7.72c-.78.78-.78 2.05 0 2.83L4 21.41c.39.39.9.59 1.41.59.51 0 1.02-.2 1.41-.59l7.78-7.78 2.81-2.81c.8-.78.8-2.07 0-2.86zM5.41 20L4 18.59l7.72-7.72 1.47 1.35L5.41 20z\"/>\n",
              "  </svg>\n",
              "      </button>\n",
              "      \n",
              "  <style>\n",
              "    .colab-df-container {\n",
              "      display:flex;\n",
              "      flex-wrap:wrap;\n",
              "      gap: 12px;\n",
              "    }\n",
              "\n",
              "    .colab-df-convert {\n",
              "      background-color: #E8F0FE;\n",
              "      border: none;\n",
              "      border-radius: 50%;\n",
              "      cursor: pointer;\n",
              "      display: none;\n",
              "      fill: #1967D2;\n",
              "      height: 32px;\n",
              "      padding: 0 0 0 0;\n",
              "      width: 32px;\n",
              "    }\n",
              "\n",
              "    .colab-df-convert:hover {\n",
              "      background-color: #E2EBFA;\n",
              "      box-shadow: 0px 1px 2px rgba(60, 64, 67, 0.3), 0px 1px 3px 1px rgba(60, 64, 67, 0.15);\n",
              "      fill: #174EA6;\n",
              "    }\n",
              "\n",
              "    [theme=dark] .colab-df-convert {\n",
              "      background-color: #3B4455;\n",
              "      fill: #D2E3FC;\n",
              "    }\n",
              "\n",
              "    [theme=dark] .colab-df-convert:hover {\n",
              "      background-color: #434B5C;\n",
              "      box-shadow: 0px 1px 3px 1px rgba(0, 0, 0, 0.15);\n",
              "      filter: drop-shadow(0px 1px 2px rgba(0, 0, 0, 0.3));\n",
              "      fill: #FFFFFF;\n",
              "    }\n",
              "  </style>\n",
              "\n",
              "      <script>\n",
              "        const buttonEl =\n",
              "          document.querySelector('#df-3eee4cfe-7dc0-407e-89bc-c6f6c3d37f08 button.colab-df-convert');\n",
              "        buttonEl.style.display =\n",
              "          google.colab.kernel.accessAllowed ? 'block' : 'none';\n",
              "\n",
              "        async function convertToInteractive(key) {\n",
              "          const element = document.querySelector('#df-3eee4cfe-7dc0-407e-89bc-c6f6c3d37f08');\n",
              "          const dataTable =\n",
              "            await google.colab.kernel.invokeFunction('convertToInteractive',\n",
              "                                                     [key], {});\n",
              "          if (!dataTable) return;\n",
              "\n",
              "          const docLinkHtml = 'Like what you see? Visit the ' +\n",
              "            '<a target=\"_blank\" href=https://colab.research.google.com/notebooks/data_table.ipynb>data table notebook</a>'\n",
              "            + ' to learn more about interactive tables.';\n",
              "          element.innerHTML = '';\n",
              "          dataTable['output_type'] = 'display_data';\n",
              "          await google.colab.output.renderOutput(dataTable, element);\n",
              "          const docLink = document.createElement('div');\n",
              "          docLink.innerHTML = docLinkHtml;\n",
              "          element.appendChild(docLink);\n",
              "        }\n",
              "      </script>\n",
              "    </div>\n",
              "  </div>\n",
              "  "
            ]
          },
          "metadata": {},
          "execution_count": 6
        }
      ]
    },
    {
      "cell_type": "markdown",
      "source": [
        "From the intial review of the head and tail of the dataframe. The amount of entries match the amount of pokemon species and alternate forms. Furthermore there seem to be missing values (`NaN`) and the entries have a unique name instead of number value. "
      ],
      "metadata": {
        "id": "GO_9E3JJDrJR"
      }
    },
    {
      "cell_type": "markdown",
      "source": [
        "## Step 4: Data Info\n",
        "Check the info of the dataset."
      ],
      "metadata": {
        "id": "hYWjwo8B5U0o"
      }
    },
    {
      "cell_type": "code",
      "source": [
        "df.info()"
      ],
      "metadata": {
        "id": "0-eDMjUh6TjC",
        "outputId": "7e9552b8-28f1-4bd5-993a-0c333edb2007",
        "colab": {
          "base_uri": "https://localhost:8080/"
        }
      },
      "execution_count": 13,
      "outputs": [
        {
          "output_type": "stream",
          "name": "stdout",
          "text": [
            "<class 'pandas.core.frame.DataFrame'>\n",
            "RangeIndex: 1072 entries, 0 to 1071\n",
            "Data columns (total 13 columns):\n",
            " #   Column      Non-Null Count  Dtype \n",
            "---  ------      --------------  ----- \n",
            " 0   number      1072 non-null   int64 \n",
            " 1   name        1072 non-null   object\n",
            " 2   type1       1072 non-null   object\n",
            " 3   type2       574 non-null    object\n",
            " 4   total       1072 non-null   int64 \n",
            " 5   hp          1072 non-null   int64 \n",
            " 6   attack      1072 non-null   int64 \n",
            " 7   defense     1072 non-null   int64 \n",
            " 8   sp_attack   1072 non-null   int64 \n",
            " 9   sp_defense  1072 non-null   int64 \n",
            " 10  speed       1072 non-null   int64 \n",
            " 11  generation  1072 non-null   int64 \n",
            " 12  legendary   1072 non-null   bool  \n",
            "dtypes: bool(1), int64(9), object(3)\n",
            "memory usage: 101.7+ KB\n"
          ]
        }
      ]
    },
    {
      "cell_type": "markdown",
      "source": [
        "The basic insight here is that the dataframe has 13 columns of which nine are of type integer, three are of type object and one is of type boolean. The amount of rows matches the amount of pokemon species including alternate forms. The column types match their respective value."
      ],
      "metadata": {
        "id": "oCxujdblBPI9"
      }
    },
    {
      "cell_type": "markdown",
      "source": [
        "## Step 5: Missing Values\n",
        "Check for `Null` or `NaN` values.\n"
      ],
      "metadata": {
        "id": "6H8LnYgM7kD5"
      }
    },
    {
      "cell_type": "code",
      "source": [
        "df.isnull().sum()"
      ],
      "metadata": {
        "id": "BWGjeipl75DG",
        "outputId": "f5b3fe03-85ed-426f-b680-f9b97fa8012b",
        "colab": {
          "base_uri": "https://localhost:8080/"
        }
      },
      "execution_count": 12,
      "outputs": [
        {
          "output_type": "execute_result",
          "data": {
            "text/plain": [
              "number          0\n",
              "name            0\n",
              "type1           0\n",
              "type2         498\n",
              "total           0\n",
              "hp              0\n",
              "attack          0\n",
              "defense         0\n",
              "sp_attack       0\n",
              "sp_defense      0\n",
              "speed           0\n",
              "generation      0\n",
              "legendary       0\n",
              "dtype: int64"
            ]
          },
          "metadata": {},
          "execution_count": 12
        }
      ]
    },
    {
      "cell_type": "markdown",
      "source": [
        "Since all Pokemon species have a primary type but not necessarily a secondary type, we'll fill in these missing values with a placeholder."
      ],
      "metadata": {
        "id": "dnoEDOObNGcj"
      }
    },
    {
      "cell_type": "code",
      "source": [
        "df['type2'].fillna(value='None', inplace=True)"
      ],
      "metadata": {
        "id": "_8qugRE6P1DV"
      },
      "execution_count": 17,
      "outputs": []
    },
    {
      "cell_type": "markdown",
      "source": [
        "## Step 6: Organize Columns\n",
        "\n",
        "Create new column (`type`) by combining columns `type1`and `type2`."
      ],
      "metadata": {
        "id": "b__pxaVSDCs2"
      }
    },
    {
      "cell_type": "code",
      "source": [
        "df[\"type\"] = df.apply(lambda x: x[\"type1\"] if pd.isnull(x[\"type2\"]) else f'{x[\"type1\"]} _{x[\"type2\"]}', axis=1)"
      ],
      "metadata": {
        "id": "LWjdfCvOE_nD"
      },
      "execution_count": 23,
      "outputs": []
    },
    {
      "cell_type": "markdown",
      "source": [
        "Rename columns `type1` into `primary_type` and `type2` into `secondary_type`."
      ],
      "metadata": {
        "id": "4xc_4hCwJiW_"
      }
    },
    {
      "cell_type": "code",
      "source": [
        "df.rename(columns = {\"type1\":\"primary_type\", \"type2\":\"secondary_type\"}, inplace = True)"
      ],
      "metadata": {
        "id": "K1gJH05nJhzF"
      },
      "execution_count": 27,
      "outputs": []
    },
    {
      "cell_type": "markdown",
      "source": [
        "Check columns in the dataframe."
      ],
      "metadata": {
        "id": "FVeNUCfXHGm7"
      }
    },
    {
      "cell_type": "code",
      "source": [
        "df.columns"
      ],
      "metadata": {
        "id": "8VbCfJwzHNCv",
        "outputId": "e25c86c0-b355-4278-e874-1e466b730415",
        "colab": {
          "base_uri": "https://localhost:8080/"
        }
      },
      "execution_count": 28,
      "outputs": [
        {
          "output_type": "execute_result",
          "data": {
            "text/plain": [
              "Index(['number', 'name', 'primary_type', 'secondary_type', 'total', 'hp',\n",
              "       'attack', 'defense', 'sp_attack', 'sp_defense', 'speed', 'generation',\n",
              "       'legendary', 'type'],\n",
              "      dtype='object')"
            ]
          },
          "metadata": {},
          "execution_count": 28
        }
      ]
    },
    {
      "cell_type": "markdown",
      "source": [
        "## Step 7: Set Index\n",
        "\n",
        "Adjust dataframe index to `\"name\"`."
      ],
      "metadata": {
        "id": "hnthHTusWRdA"
      }
    },
    {
      "cell_type": "code",
      "source": [
        "df.set_index(\"name\")"
      ],
      "metadata": {
        "colab": {
          "base_uri": "https://localhost:8080/",
          "height": 455
        },
        "id": "cqpmMBwcUEVY",
        "outputId": "1607d6ed-0ebe-4c4f-99bd-dc223c7b1dd9"
      },
      "execution_count": 29,
      "outputs": [
        {
          "output_type": "execute_result",
          "data": {
            "text/plain": [
              "                      number primary_type secondary_type  total   hp  attack  \\\n",
              "name                                                                           \n",
              "Bulbasaur                  1        Grass         Poison    318   45      49   \n",
              "Ivysaur                    2        Grass         Poison    405   60      62   \n",
              "Venusaur                   3        Grass         Poison    525   80      82   \n",
              "Mega Venusaur              3        Grass         Poison    625   80     100   \n",
              "Gigantamax Venusaur        3        Grass         Poison    525   80      82   \n",
              "...                      ...          ...            ...    ...  ...     ...   \n",
              "Glastrier                896          Ice           None    580  100     145   \n",
              "Spectrier                897        Ghost           None    580  100      65   \n",
              "Calyrex                  898      Psychic          Grass    500  100      80   \n",
              "Ice Rider Calyrex        898      Psychic            Ice    680  100     165   \n",
              "Shadow Rider Calyrex     898      Psychic          Ghost    680  100      85   \n",
              "\n",
              "                      defense  sp_attack  sp_defense  speed  generation  \\\n",
              "name                                                                      \n",
              "Bulbasaur                  49         65          65     45           1   \n",
              "Ivysaur                    63         80          80     60           1   \n",
              "Venusaur                   83        100         100     80           1   \n",
              "Mega Venusaur             123        122         120     80           1   \n",
              "Gigantamax Venusaur        83        100         100     80           1   \n",
              "...                       ...        ...         ...    ...         ...   \n",
              "Glastrier                 130         65         110     30           8   \n",
              "Spectrier                  60        145          80    130           8   \n",
              "Calyrex                    80         80          80     80           8   \n",
              "Ice Rider Calyrex         150         85         130     50           8   \n",
              "Shadow Rider Calyrex       80        165         100    150           8   \n",
              "\n",
              "                      legendary            type  \n",
              "name                                             \n",
              "Bulbasaur                 False   Grass _Poison  \n",
              "Ivysaur                   False   Grass _Poison  \n",
              "Venusaur                  False   Grass _Poison  \n",
              "Mega Venusaur             False   Grass _Poison  \n",
              "Gigantamax Venusaur       False   Grass _Poison  \n",
              "...                         ...             ...  \n",
              "Glastrier                  True       Ice _None  \n",
              "Spectrier                  True     Ghost _None  \n",
              "Calyrex                    True  Psychic _Grass  \n",
              "Ice Rider Calyrex          True    Psychic _Ice  \n",
              "Shadow Rider Calyrex       True  Psychic _Ghost  \n",
              "\n",
              "[1072 rows x 13 columns]"
            ],
            "text/html": [
              "\n",
              "  <div id=\"df-8c6d027f-8fba-47d5-a212-23210124e85a\">\n",
              "    <div class=\"colab-df-container\">\n",
              "      <div>\n",
              "<style scoped>\n",
              "    .dataframe tbody tr th:only-of-type {\n",
              "        vertical-align: middle;\n",
              "    }\n",
              "\n",
              "    .dataframe tbody tr th {\n",
              "        vertical-align: top;\n",
              "    }\n",
              "\n",
              "    .dataframe thead th {\n",
              "        text-align: right;\n",
              "    }\n",
              "</style>\n",
              "<table border=\"1\" class=\"dataframe\">\n",
              "  <thead>\n",
              "    <tr style=\"text-align: right;\">\n",
              "      <th></th>\n",
              "      <th>number</th>\n",
              "      <th>primary_type</th>\n",
              "      <th>secondary_type</th>\n",
              "      <th>total</th>\n",
              "      <th>hp</th>\n",
              "      <th>attack</th>\n",
              "      <th>defense</th>\n",
              "      <th>sp_attack</th>\n",
              "      <th>sp_defense</th>\n",
              "      <th>speed</th>\n",
              "      <th>generation</th>\n",
              "      <th>legendary</th>\n",
              "      <th>type</th>\n",
              "    </tr>\n",
              "    <tr>\n",
              "      <th>name</th>\n",
              "      <th></th>\n",
              "      <th></th>\n",
              "      <th></th>\n",
              "      <th></th>\n",
              "      <th></th>\n",
              "      <th></th>\n",
              "      <th></th>\n",
              "      <th></th>\n",
              "      <th></th>\n",
              "      <th></th>\n",
              "      <th></th>\n",
              "      <th></th>\n",
              "      <th></th>\n",
              "    </tr>\n",
              "  </thead>\n",
              "  <tbody>\n",
              "    <tr>\n",
              "      <th>Bulbasaur</th>\n",
              "      <td>1</td>\n",
              "      <td>Grass</td>\n",
              "      <td>Poison</td>\n",
              "      <td>318</td>\n",
              "      <td>45</td>\n",
              "      <td>49</td>\n",
              "      <td>49</td>\n",
              "      <td>65</td>\n",
              "      <td>65</td>\n",
              "      <td>45</td>\n",
              "      <td>1</td>\n",
              "      <td>False</td>\n",
              "      <td>Grass _Poison</td>\n",
              "    </tr>\n",
              "    <tr>\n",
              "      <th>Ivysaur</th>\n",
              "      <td>2</td>\n",
              "      <td>Grass</td>\n",
              "      <td>Poison</td>\n",
              "      <td>405</td>\n",
              "      <td>60</td>\n",
              "      <td>62</td>\n",
              "      <td>63</td>\n",
              "      <td>80</td>\n",
              "      <td>80</td>\n",
              "      <td>60</td>\n",
              "      <td>1</td>\n",
              "      <td>False</td>\n",
              "      <td>Grass _Poison</td>\n",
              "    </tr>\n",
              "    <tr>\n",
              "      <th>Venusaur</th>\n",
              "      <td>3</td>\n",
              "      <td>Grass</td>\n",
              "      <td>Poison</td>\n",
              "      <td>525</td>\n",
              "      <td>80</td>\n",
              "      <td>82</td>\n",
              "      <td>83</td>\n",
              "      <td>100</td>\n",
              "      <td>100</td>\n",
              "      <td>80</td>\n",
              "      <td>1</td>\n",
              "      <td>False</td>\n",
              "      <td>Grass _Poison</td>\n",
              "    </tr>\n",
              "    <tr>\n",
              "      <th>Mega Venusaur</th>\n",
              "      <td>3</td>\n",
              "      <td>Grass</td>\n",
              "      <td>Poison</td>\n",
              "      <td>625</td>\n",
              "      <td>80</td>\n",
              "      <td>100</td>\n",
              "      <td>123</td>\n",
              "      <td>122</td>\n",
              "      <td>120</td>\n",
              "      <td>80</td>\n",
              "      <td>1</td>\n",
              "      <td>False</td>\n",
              "      <td>Grass _Poison</td>\n",
              "    </tr>\n",
              "    <tr>\n",
              "      <th>Gigantamax Venusaur</th>\n",
              "      <td>3</td>\n",
              "      <td>Grass</td>\n",
              "      <td>Poison</td>\n",
              "      <td>525</td>\n",
              "      <td>80</td>\n",
              "      <td>82</td>\n",
              "      <td>83</td>\n",
              "      <td>100</td>\n",
              "      <td>100</td>\n",
              "      <td>80</td>\n",
              "      <td>1</td>\n",
              "      <td>False</td>\n",
              "      <td>Grass _Poison</td>\n",
              "    </tr>\n",
              "    <tr>\n",
              "      <th>...</th>\n",
              "      <td>...</td>\n",
              "      <td>...</td>\n",
              "      <td>...</td>\n",
              "      <td>...</td>\n",
              "      <td>...</td>\n",
              "      <td>...</td>\n",
              "      <td>...</td>\n",
              "      <td>...</td>\n",
              "      <td>...</td>\n",
              "      <td>...</td>\n",
              "      <td>...</td>\n",
              "      <td>...</td>\n",
              "      <td>...</td>\n",
              "    </tr>\n",
              "    <tr>\n",
              "      <th>Glastrier</th>\n",
              "      <td>896</td>\n",
              "      <td>Ice</td>\n",
              "      <td>None</td>\n",
              "      <td>580</td>\n",
              "      <td>100</td>\n",
              "      <td>145</td>\n",
              "      <td>130</td>\n",
              "      <td>65</td>\n",
              "      <td>110</td>\n",
              "      <td>30</td>\n",
              "      <td>8</td>\n",
              "      <td>True</td>\n",
              "      <td>Ice _None</td>\n",
              "    </tr>\n",
              "    <tr>\n",
              "      <th>Spectrier</th>\n",
              "      <td>897</td>\n",
              "      <td>Ghost</td>\n",
              "      <td>None</td>\n",
              "      <td>580</td>\n",
              "      <td>100</td>\n",
              "      <td>65</td>\n",
              "      <td>60</td>\n",
              "      <td>145</td>\n",
              "      <td>80</td>\n",
              "      <td>130</td>\n",
              "      <td>8</td>\n",
              "      <td>True</td>\n",
              "      <td>Ghost _None</td>\n",
              "    </tr>\n",
              "    <tr>\n",
              "      <th>Calyrex</th>\n",
              "      <td>898</td>\n",
              "      <td>Psychic</td>\n",
              "      <td>Grass</td>\n",
              "      <td>500</td>\n",
              "      <td>100</td>\n",
              "      <td>80</td>\n",
              "      <td>80</td>\n",
              "      <td>80</td>\n",
              "      <td>80</td>\n",
              "      <td>80</td>\n",
              "      <td>8</td>\n",
              "      <td>True</td>\n",
              "      <td>Psychic _Grass</td>\n",
              "    </tr>\n",
              "    <tr>\n",
              "      <th>Ice Rider Calyrex</th>\n",
              "      <td>898</td>\n",
              "      <td>Psychic</td>\n",
              "      <td>Ice</td>\n",
              "      <td>680</td>\n",
              "      <td>100</td>\n",
              "      <td>165</td>\n",
              "      <td>150</td>\n",
              "      <td>85</td>\n",
              "      <td>130</td>\n",
              "      <td>50</td>\n",
              "      <td>8</td>\n",
              "      <td>True</td>\n",
              "      <td>Psychic _Ice</td>\n",
              "    </tr>\n",
              "    <tr>\n",
              "      <th>Shadow Rider Calyrex</th>\n",
              "      <td>898</td>\n",
              "      <td>Psychic</td>\n",
              "      <td>Ghost</td>\n",
              "      <td>680</td>\n",
              "      <td>100</td>\n",
              "      <td>85</td>\n",
              "      <td>80</td>\n",
              "      <td>165</td>\n",
              "      <td>100</td>\n",
              "      <td>150</td>\n",
              "      <td>8</td>\n",
              "      <td>True</td>\n",
              "      <td>Psychic _Ghost</td>\n",
              "    </tr>\n",
              "  </tbody>\n",
              "</table>\n",
              "<p>1072 rows × 13 columns</p>\n",
              "</div>\n",
              "      <button class=\"colab-df-convert\" onclick=\"convertToInteractive('df-8c6d027f-8fba-47d5-a212-23210124e85a')\"\n",
              "              title=\"Convert this dataframe to an interactive table.\"\n",
              "              style=\"display:none;\">\n",
              "        \n",
              "  <svg xmlns=\"http://www.w3.org/2000/svg\" height=\"24px\"viewBox=\"0 0 24 24\"\n",
              "       width=\"24px\">\n",
              "    <path d=\"M0 0h24v24H0V0z\" fill=\"none\"/>\n",
              "    <path d=\"M18.56 5.44l.94 2.06.94-2.06 2.06-.94-2.06-.94-.94-2.06-.94 2.06-2.06.94zm-11 1L8.5 8.5l.94-2.06 2.06-.94-2.06-.94L8.5 2.5l-.94 2.06-2.06.94zm10 10l.94 2.06.94-2.06 2.06-.94-2.06-.94-.94-2.06-.94 2.06-2.06.94z\"/><path d=\"M17.41 7.96l-1.37-1.37c-.4-.4-.92-.59-1.43-.59-.52 0-1.04.2-1.43.59L10.3 9.45l-7.72 7.72c-.78.78-.78 2.05 0 2.83L4 21.41c.39.39.9.59 1.41.59.51 0 1.02-.2 1.41-.59l7.78-7.78 2.81-2.81c.8-.78.8-2.07 0-2.86zM5.41 20L4 18.59l7.72-7.72 1.47 1.35L5.41 20z\"/>\n",
              "  </svg>\n",
              "      </button>\n",
              "      \n",
              "  <style>\n",
              "    .colab-df-container {\n",
              "      display:flex;\n",
              "      flex-wrap:wrap;\n",
              "      gap: 12px;\n",
              "    }\n",
              "\n",
              "    .colab-df-convert {\n",
              "      background-color: #E8F0FE;\n",
              "      border: none;\n",
              "      border-radius: 50%;\n",
              "      cursor: pointer;\n",
              "      display: none;\n",
              "      fill: #1967D2;\n",
              "      height: 32px;\n",
              "      padding: 0 0 0 0;\n",
              "      width: 32px;\n",
              "    }\n",
              "\n",
              "    .colab-df-convert:hover {\n",
              "      background-color: #E2EBFA;\n",
              "      box-shadow: 0px 1px 2px rgba(60, 64, 67, 0.3), 0px 1px 3px 1px rgba(60, 64, 67, 0.15);\n",
              "      fill: #174EA6;\n",
              "    }\n",
              "\n",
              "    [theme=dark] .colab-df-convert {\n",
              "      background-color: #3B4455;\n",
              "      fill: #D2E3FC;\n",
              "    }\n",
              "\n",
              "    [theme=dark] .colab-df-convert:hover {\n",
              "      background-color: #434B5C;\n",
              "      box-shadow: 0px 1px 3px 1px rgba(0, 0, 0, 0.15);\n",
              "      filter: drop-shadow(0px 1px 2px rgba(0, 0, 0, 0.3));\n",
              "      fill: #FFFFFF;\n",
              "    }\n",
              "  </style>\n",
              "\n",
              "      <script>\n",
              "        const buttonEl =\n",
              "          document.querySelector('#df-8c6d027f-8fba-47d5-a212-23210124e85a button.colab-df-convert');\n",
              "        buttonEl.style.display =\n",
              "          google.colab.kernel.accessAllowed ? 'block' : 'none';\n",
              "\n",
              "        async function convertToInteractive(key) {\n",
              "          const element = document.querySelector('#df-8c6d027f-8fba-47d5-a212-23210124e85a');\n",
              "          const dataTable =\n",
              "            await google.colab.kernel.invokeFunction('convertToInteractive',\n",
              "                                                     [key], {});\n",
              "          if (!dataTable) return;\n",
              "\n",
              "          const docLinkHtml = 'Like what you see? Visit the ' +\n",
              "            '<a target=\"_blank\" href=https://colab.research.google.com/notebooks/data_table.ipynb>data table notebook</a>'\n",
              "            + ' to learn more about interactive tables.';\n",
              "          element.innerHTML = '';\n",
              "          dataTable['output_type'] = 'display_data';\n",
              "          await google.colab.output.renderOutput(dataTable, element);\n",
              "          const docLink = document.createElement('div');\n",
              "          docLink.innerHTML = docLinkHtml;\n",
              "          element.appendChild(docLink);\n",
              "        }\n",
              "      </script>\n",
              "    </div>\n",
              "  </div>\n",
              "  "
            ]
          },
          "metadata": {},
          "execution_count": 29
        }
      ]
    }
  ]
}