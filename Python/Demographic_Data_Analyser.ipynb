{
  "nbformat": 4,
  "nbformat_minor": 0,
  "metadata": {
    "colab": {
      "provenance": [],
      "authorship_tag": "ABX9TyP4egh7jjl/Q+JhAWxiEHPy",
      "include_colab_link": true
    },
    "kernelspec": {
      "name": "python3",
      "display_name": "Python 3"
    },
    "language_info": {
      "name": "python"
    }
  },
  "cells": [
    {
      "cell_type": "markdown",
      "metadata": {
        "id": "view-in-github",
        "colab_type": "text"
      },
      "source": [
        "<a href=\"https://colab.research.google.com/github/blackcrowX/Data_Analysis_Projects/blob/main/Python/Demographic_Data_Analyser.ipynb\" target=\"_parent\"><img src=\"https://colab.research.google.com/assets/colab-badge.svg\" alt=\"Open In Colab\"/></a>"
      ]
    },
    {
      "cell_type": "markdown",
      "source": [
        "<div align=\"center\">\n",
        "<h1>Demographic Data Analyser</h1>\n",
        "<img src=\"https://i.postimg.cc/K8mbkyhz/Logo-Black.png\"/>\n",
        "</div>"
      ],
      "metadata": {
        "id": "Z2-O2oH73HSG"
      }
    },
    {
      "cell_type": "markdown",
      "source": [
        "## Table of Contents\n",
        "* Introduction\n",
        "* Setup\n",
        "  * Import Libraries\n",
        "  * Import Data\n",
        "* Data Analysis\n",
        "  * Data Cleaning\n",
        "  * Draw Line Plot\n",
        "  * Draw Bar Plot\n",
        "  * Draw Box Plot"
      ],
      "metadata": {
        "id": "MCewidGz2wDp"
      }
    },
    {
      "cell_type": "markdown",
      "source": [
        "<h1 align=\"center\">Introduction</h1>\n",
        "\n",
        "In this challenge you must analyze demographic data using Pandas. You are given a dataset of demographic data that was extracted from the 1994 Census database. The dataset was published by <a href=\"https://www.freecodecamp.org/learn/data-analysis-with-python/data-analysis-with-python-projects/demographic-data-analyzer\">freeCodeCamp</a>. Here is a sample of what the data looks like:\n",
        "\n",
        "|    |   age | workclass        |   fnlwgt | education   |   education-num | marital-status     | occupation        | relationship   | race   | sex    |   capital-gain |   capital-loss |   hours-per-week | native-country   | salary   |\n",
        "|---:|------:|:-----------------|---------:|:------------|----------------:|:-------------------|:------------------|:---------------|:-------|:-------|---------------:|---------------:|-----------------:|:-----------------|:---------|\n",
        "|  0 |    39 | State-gov        |    77516 | Bachelors   |              13 | Never-married      | Adm-clerical      | Not-in-family  | White  | Male   |           2174 |              0 |               40 | United-States    | <=50K    |\n",
        "|  1 |    50 | Self-emp-not-inc |    83311 | Bachelors   |              13 | Married-civ-spouse | Exec-managerial   | Husband        | White  | Male   |              0 |              0 |               13 | United-States    | <=50K    |\n",
        "|  2 |    38 | Private          |   215646 | HS-grad     |               9 | Divorced           | Handlers-cleaners | Not-in-family  | White  | Male   |              0 |              0 |               40 | United-States    | <=50K    |\n",
        "|  3 |    53 | Private          |   234721 | 11th        |               7 | Married-civ-spouse | Handlers-cleaners | Husband        | Black  | Male   |              0 |              0 |               40 | United-States    | <=50K    |\n",
        "|  4 |    28 | Private          |   338409 | Bachelors   |              13 | Married-civ-spouse | Prof-specialty    | Wife           | Black  | Female |              0 |              0 |               40 | Cuba             | <=50K    |"
      ],
      "metadata": {
        "id": "S9aliKJm251d"
      }
    },
    {
      "cell_type": "markdown",
      "source": [
        "<h1 align=\"center\">Setup</h1>"
      ],
      "metadata": {
        "id": "q6uoGcKg25lq"
      }
    },
    {
      "cell_type": "markdown",
      "source": [
        "## Step 1: Import Libraries\n",
        "\n",
        "Import and configure libraries required for data analysis."
      ],
      "metadata": {
        "id": "7V721Bfu2-T6"
      }
    },
    {
      "cell_type": "code",
      "source": [
        "import pandas as pd"
      ],
      "metadata": {
        "id": "U0h63HWO5vTa"
      },
      "execution_count": 9,
      "outputs": []
    },
    {
      "cell_type": "markdown",
      "source": [
        "## Step 2: Import Dataset\n",
        "Use Pandas to import the data from `adult_data.csv`."
      ],
      "metadata": {
        "id": "a09JTkiy2qFl"
      }
    },
    {
      "cell_type": "code",
      "execution_count": 10,
      "metadata": {
        "id": "IQYWDcFz2Hsz"
      },
      "outputs": [],
      "source": [
        "url = \"https://raw.githubusercontent.com/blackcrowX/Data-Analysis-Projects/main/Python/Demographic_Data_Analyser/adult_data.csv\"\n",
        "df = pd.read_csv(url)"
      ]
    },
    {
      "cell_type": "markdown",
      "source": [
        "<h1 align=\"center\">Data Analysis</h1>"
      ],
      "metadata": {
        "id": "A939rUL_3tIT"
      }
    },
    {
      "cell_type": "markdown",
      "source": [
        "## Step 3: Race Count\n",
        "\n",
        "How many people of each race are represented in this dataset? This should be a Pandas series with race names as the index labels. (race column)"
      ],
      "metadata": {
        "id": "I1dJsKMKdSYU"
      }
    },
    {
      "cell_type": "code",
      "source": [
        "race_count = df['race'].value_counts()\n",
        "print(race_count)"
      ],
      "metadata": {
        "id": "NpdzJ17ZdUDQ",
        "colab": {
          "base_uri": "https://localhost:8080/"
        },
        "outputId": "9d2429c1-05c8-44cf-d1a1-d700e0ec052e"
      },
      "execution_count": 12,
      "outputs": [
        {
          "output_type": "stream",
          "name": "stdout",
          "text": [
            "White                 27816\n",
            "Black                  3124\n",
            "Asian-Pac-Islander     1039\n",
            "Amer-Indian-Eskimo      311\n",
            "Other                   271\n",
            "Name: race, dtype: int64\n"
          ]
        }
      ]
    },
    {
      "cell_type": "markdown",
      "source": [
        "## Step 4: Draw Line plot\n",
        "\n",
        "What is the average age of men?"
      ],
      "metadata": {
        "id": "OvYLoXhc3vRb"
      }
    },
    {
      "cell_type": "code",
      "source": [],
      "metadata": {
        "id": "MJNsI7B75G8X"
      },
      "execution_count": null,
      "outputs": []
    },
    {
      "cell_type": "markdown",
      "source": [
        "## Step 5: \n",
        "\n",
        "What is the percentage of people who have a Bachelor's degree?"
      ],
      "metadata": {
        "id": "TulPOnNU5K1k"
      }
    },
    {
      "cell_type": "code",
      "source": [],
      "metadata": {
        "id": "kuq2kE_Y5DdO"
      },
      "execution_count": null,
      "outputs": []
    },
    {
      "cell_type": "markdown",
      "source": [
        "## Step 6: \n",
        "\n",
        "What percentage of people with advanced education (Bachelors, Masters, or Doctorate) make more than 50K?"
      ],
      "metadata": {
        "id": "oewiD9pA6XeV"
      }
    },
    {
      "cell_type": "code",
      "source": [],
      "metadata": {
        "id": "QmdF6dda5B1k"
      },
      "execution_count": null,
      "outputs": []
    },
    {
      "cell_type": "markdown",
      "source": [
        "## Step 7: \n",
        "\n",
        "What percentage of people without advanced education make more than 50K?"
      ],
      "metadata": {
        "id": "pNIQPWvp4swd"
      }
    },
    {
      "cell_type": "code",
      "source": [],
      "metadata": {
        "id": "gfHRwqng4tH0"
      },
      "execution_count": null,
      "outputs": []
    },
    {
      "cell_type": "markdown",
      "source": [
        "## Step 8: \n",
        "\n",
        "What is the minimum number of hours a person works per week?"
      ],
      "metadata": {
        "id": "JasPjESf4tbc"
      }
    },
    {
      "cell_type": "code",
      "source": [],
      "metadata": {
        "id": "MQL5heEw4t2P"
      },
      "execution_count": null,
      "outputs": []
    },
    {
      "cell_type": "markdown",
      "source": [
        "## Step 9: \n",
        "\n",
        "What percentage of the people who work the minimum number of hours per week have a salary of more than 50K?"
      ],
      "metadata": {
        "id": "gg02NSlV40Yy"
      }
    },
    {
      "cell_type": "code",
      "source": [],
      "metadata": {
        "id": "OOQ5w7g94z8S"
      },
      "execution_count": null,
      "outputs": []
    },
    {
      "cell_type": "markdown",
      "source": [
        "## Step 10:\n",
        "\n",
        "What country has the highest percentage of people that earn >50K and what is that percentage?"
      ],
      "metadata": {
        "id": "MGdTRAl5401Z"
      }
    },
    {
      "cell_type": "code",
      "source": [],
      "metadata": {
        "id": "CsQgmS6v41Je"
      },
      "execution_count": null,
      "outputs": []
    },
    {
      "cell_type": "markdown",
      "source": [
        "## Step 11:\n",
        "\n",
        "Identify the most popular occupation for those who earn >50K in India."
      ],
      "metadata": {
        "id": "vbproZNL48oy"
      }
    },
    {
      "cell_type": "code",
      "source": [],
      "metadata": {
        "id": "Hjwpz8Cu48-P"
      },
      "execution_count": null,
      "outputs": []
    }
  ]
}