{
  "nbformat": 4,
  "nbformat_minor": 0,
  "metadata": {
    "colab": {
      "provenance": [],
      "authorship_tag": "ABX9TyN1JWIZPmAyC4rpLnBiwzdr",
      "include_colab_link": true
    },
    "kernelspec": {
      "name": "python3",
      "display_name": "Python 3"
    },
    "language_info": {
      "name": "python"
    }
  },
  "cells": [
    {
      "cell_type": "markdown",
      "metadata": {
        "id": "view-in-github",
        "colab_type": "text"
      },
      "source": [
        "<a href=\"https://colab.research.google.com/github/blackcrowX/Data_Analytics_Projects/blob/main/Pokemon_Scraping.ipynb\" target=\"_parent\"><img src=\"https://colab.research.google.com/assets/colab-badge.svg\" alt=\"Open In Colab\"/></a>"
      ]
    },
    {
      "cell_type": "code",
      "source": [
        "import datetime\n",
        "\n",
        "today = datetime.date.today()\n",
        "\n",
        "print(today)"
      ],
      "metadata": {
        "colab": {
          "base_uri": "https://localhost:8080/"
        },
        "id": "Py5XY4WF7MsJ",
        "outputId": "6064d036-bee1-4e9c-8072-a108a9a4d5cc"
      },
      "execution_count": 2,
      "outputs": [
        {
          "output_type": "stream",
          "name": "stdout",
          "text": [
            "2023-05-25\n"
          ]
        }
      ]
    },
    {
      "cell_type": "code",
      "source": [
        "from bs4 import BeautifulSoup\n",
        "from datetime import datetime\n",
        "import json\n",
        "import time\n",
        "import random\n",
        "import re\n",
        "import pandas as pd\n",
        "import numpy as np"
      ],
      "metadata": {
        "id": "FYgP66H3AXY2"
      },
      "execution_count": 10,
      "outputs": []
    },
    {
      "cell_type": "code",
      "source": [
        "import plotly.offline as py # plotly for interactive and presentation graphs\n",
        "import plotly.graph_objs as go\n",
        "import plotly.express as px\n",
        "import seaborn as sns\n",
        "import matplotlib.pyplot as plt\n",
        "%matplotlib inline\n",
        "py.init_notebook_mode(connected=True)\n",
        "plt.style.use('seaborn') # use the seaborn style for matplotlib graphs"
      ],
      "metadata": {
        "colab": {
          "base_uri": "https://localhost:8080/",
          "height": 91
        },
        "id": "4mPqPQvtAYMg",
        "outputId": "72898100-3b3e-4370-ba61-4a41e7228fd8"
      },
      "execution_count": 11,
      "outputs": [
        {
          "output_type": "display_data",
          "data": {
            "text/html": [
              "        <script type=\"text/javascript\">\n",
              "        window.PlotlyConfig = {MathJaxConfig: 'local'};\n",
              "        if (window.MathJax && window.MathJax.Hub && window.MathJax.Hub.Config) {window.MathJax.Hub.Config({SVG: {font: \"STIX-Web\"}});}\n",
              "        if (typeof require !== 'undefined') {\n",
              "        require.undef(\"plotly\");\n",
              "        requirejs.config({\n",
              "            paths: {\n",
              "                'plotly': ['https://cdn.plot.ly/plotly-2.18.2.min']\n",
              "            }\n",
              "        });\n",
              "        require(['plotly'], function(Plotly) {\n",
              "            window._Plotly = Plotly;\n",
              "        });\n",
              "        }\n",
              "        </script>\n",
              "        "
            ]
          },
          "metadata": {}
        },
        {
          "output_type": "stream",
          "name": "stderr",
          "text": [
            "<ipython-input-11-aa05388cb79b>:9: MatplotlibDeprecationWarning:\n",
            "\n",
            "The seaborn styles shipped by Matplotlib are deprecated since 3.6, as they no longer correspond to the styles shipped by seaborn. However, they will remain available as 'seaborn-v0_8-<style>'. Alternatively, directly use the seaborn API instead.\n",
            "\n"
          ]
        }
      ]
    },
    {
      "cell_type": "code",
      "source": [
        "scrape_date = datetime.today().strftime('%Y-%m-%d')\n",
        "scrape_date"
      ],
      "metadata": {
        "colab": {
          "base_uri": "https://localhost:8080/",
          "height": 36
        },
        "id": "uniX2kHAAlsp",
        "outputId": "c03e18ae-c336-4b9a-e9db-4cb9d5907efe"
      },
      "execution_count": 12,
      "outputs": [
        {
          "output_type": "execute_result",
          "data": {
            "text/plain": [
              "'2023-05-25'"
            ],
            "application/vnd.google.colaboratory.intrinsic+json": {
              "type": "string"
            }
          },
          "metadata": {},
          "execution_count": 12
        }
      ]
    },
    {
      "cell_type": "code",
      "source": [
        "url_list =[\n",
        "  'https://bulbapedia.bulbagarden.net/wiki/Bulbasaur_(Pok%C3%A9mon)',\n",
        "  'https://bulbapedia.bulbagarden.net/wiki/Bulbasaur_(Pok%C3%A9mon)',\n",
        "  'https://bulbapedia.bulbagarden.net/wiki/Pidgeotto_(Pok%C3%A9mon)'\n",
        "]"
      ],
      "metadata": {
        "id": "7jA7MIaKA8Xa"
      },
      "execution_count": null,
      "outputs": []
    },
    {
      "cell_type": "code",
      "source": [
        "url = \"https://bulbapedia.bulbagarden.net/wiki/Bulbasaur_(Pok%C3%A9mon)\"\n",
        "headers = {\"User-Agent\": \"Mozilla/5.0 (Windows NT 10.0; Win64; x64) AppleWebKit/537.36 (KHTML, like Gecko) Chrome/78.0.3904.108 Safari/537.36\", \"Accept-Encoding\":\"gzip, deflate\", \"Accept\":\"text/html,application/xhtml+xml,application/xml;q=0.9,*/*;q=0.8\", \"DNT\":\"1\",\"Connection\":\"close\", \"Upgrade-Insecure-Requests\":\"1\"}\n",
        "page = requests.get(url, headers=headers)\n",
        "\n",
        "soup1 = BeautifulSoup(page.content, 'html.parser')\n",
        "soup2 = BeautifulSoup(soup1.prettify(), \"html.parser\")"
      ],
      "metadata": {
        "id": "_Ze0FQoU6s3t"
      },
      "execution_count": 82,
      "outputs": []
    },
    {
      "cell_type": "code",
      "source": [
        "pokemonData = [0]*13"
      ],
      "metadata": {
        "id": "n3i7R4cRFsdg"
      },
      "execution_count": 64,
      "outputs": []
    },
    {
      "cell_type": "code",
      "source": [
        "pokemonData[ 0 ] = (int) ((soup2.select( 'th big big a[href*=\"/wiki/List_of_Pok%C3%A9mon_by_National_Pok%C3%A9dex_numbe\"] span' )[ 0 ].get_text()).replace( '#', ''))\n",
        "print(pokemonData[ 0 ])"
      ],
      "metadata": {
        "colab": {
          "base_uri": "https://localhost:8080/"
        },
        "id": "c6UXylfkEoeh",
        "outputId": "45eb823d-c0ee-4394-b0d8-96760b0a99d0"
      },
      "execution_count": 65,
      "outputs": [
        {
          "output_type": "stream",
          "name": "stdout",
          "text": [
            "17\n"
          ]
        }
      ]
    },
    {
      "cell_type": "code",
      "source": [
        "pokemonData[ 1 ] = (soup2.find(id=\"firstHeading\").get_text())[ :-16 ]\n",
        "print(pokemonData[ 1 ])"
      ],
      "metadata": {
        "colab": {
          "base_uri": "https://localhost:8080/"
        },
        "id": "XxOnZcOTFX_w",
        "outputId": "ba0f733d-ccd8-4402-a8ed-f99f762c5f1b"
      },
      "execution_count": 66,
      "outputs": [
        {
          "output_type": "stream",
          "name": "stdout",
          "text": [
            "\n",
            "      Pidgeotto\n"
          ]
        }
      ]
    },
    {
      "cell_type": "code",
      "source": [
        "#get types of pokemon\n",
        "pokemonData[ 2 ] = soup2.select( 'td[width=\"45px\"] a[href*=\"(type)\"] span b')[ 0 ].get_text() \n",
        "if soup2.select( 'a[href*=\"(type)\"] span b' )[ 1 ].get_text() != 'Unknown':\n",
        "\t \tpokemonData[ 2 ] += '/' + soup2.select( 'td[width=\"45px\"] a[href*=\"(type)\"] span b' )[ 1 ].get_text()\n",
        "print(pokemonData[ 2 ])"
      ],
      "metadata": {
        "colab": {
          "base_uri": "https://localhost:8080/"
        },
        "id": "--cW3TBXJ2dB",
        "outputId": "9469bdd7-1959-4ebf-f6a6-d5ce0a7adf52"
      },
      "execution_count": 75,
      "outputs": [
        {
          "output_type": "stream",
          "name": "stdout",
          "text": [
            "\n",
            "                       Ghost\n",
            "                      /\n",
            "                       Fire\n",
            "                      \n"
          ]
        }
      ]
    },
    {
      "cell_type": "code",
      "source": [],
      "metadata": {
        "id": "XRo2udEAYTiw"
      },
      "execution_count": null,
      "outputs": []
    },
    {
      "cell_type": "code",
      "source": [
        "#get abilities of pokemon (including hidden abilities)\n",
        "pokemonData[ 3 ] = soup2.select( 'td a[href*=\"(Ability)\"] span' )[ 0 ].get_text()\n",
        "if soup2.select('td a[href*=\"(Ability)\"] span')[ 1 ].get_text() != 'Cacophony':\n",
        "  pokemonData[ 3 ] +='/' + soup2.select( 'td a[href*=\"(Ability)\"] span' )[ 1 ].get_text()\n",
        "if soup2.select( 'td a[href*=\"(Ability)\"] span' )[ 4 ].get_text() != 'Cacophony':\n",
        "\tpokemonData[ 3 ] += '/' + soup2.select( 'td a[href*=\"(Ability)\"] span' )[ 4 ].get_text()\n",
        "if soup2.select( 'td a[href*=\"(Ability)\"] span' )[ 8 ].get_text() != 'Cacophony':\n",
        "\tpokemonData[ 3 ] += '/' + soup2.select( 'td a[href*=\"(Ability)\"] span' )[ 8 ].get_text()\n",
        "elif soup2.select( 'td a[href*=\"(Ability)\"] span' )[ 3 ].get_text() != 'Cacophony':\t\n",
        "\tpokemonData[ 3 ] += '/' + soup2.select( 'td a[href*=\"(Ability)\"] span' )[ 3 ].get_text()\n",
        " \n",
        "print(pokemonData[ 3 ])"
      ],
      "metadata": {
        "colab": {
          "base_uri": "https://localhost:8080/",
          "height": 246
        },
        "id": "75gR4N4RK747",
        "outputId": "3eaed35c-a0b4-45b8-ec9e-07a46869440c"
      },
      "execution_count": 84,
      "outputs": [
        {
          "output_type": "error",
          "ename": "IndexError",
          "evalue": "ignored",
          "traceback": [
            "\u001b[0;31m---------------------------------------------------------------------------\u001b[0m",
            "\u001b[0;31mIndexError\u001b[0m                                Traceback (most recent call last)",
            "\u001b[0;32m<ipython-input-84-6331b29075e4>\u001b[0m in \u001b[0;36m<cell line: 7>\u001b[0;34m()\u001b[0m\n\u001b[1;32m      5\u001b[0m \u001b[0;32mif\u001b[0m \u001b[0msoup2\u001b[0m\u001b[0;34m.\u001b[0m\u001b[0mselect\u001b[0m\u001b[0;34m(\u001b[0m \u001b[0;34m'td a[href*=\"(Ability)\"] span'\u001b[0m \u001b[0;34m)\u001b[0m\u001b[0;34m[\u001b[0m \u001b[0;36m4\u001b[0m \u001b[0;34m]\u001b[0m\u001b[0;34m.\u001b[0m\u001b[0mget_text\u001b[0m\u001b[0;34m(\u001b[0m\u001b[0;34m)\u001b[0m \u001b[0;34m!=\u001b[0m \u001b[0;34m'Cacophony'\u001b[0m\u001b[0;34m:\u001b[0m\u001b[0;34m\u001b[0m\u001b[0;34m\u001b[0m\u001b[0m\n\u001b[1;32m      6\u001b[0m         \u001b[0mpokemonData\u001b[0m\u001b[0;34m[\u001b[0m \u001b[0;36m3\u001b[0m \u001b[0;34m]\u001b[0m \u001b[0;34m+=\u001b[0m \u001b[0;34m'/'\u001b[0m \u001b[0;34m+\u001b[0m \u001b[0msoup2\u001b[0m\u001b[0;34m.\u001b[0m\u001b[0mselect\u001b[0m\u001b[0;34m(\u001b[0m \u001b[0;34m'td a[href*=\"(Ability)\"] span'\u001b[0m \u001b[0;34m)\u001b[0m\u001b[0;34m[\u001b[0m \u001b[0;36m4\u001b[0m \u001b[0;34m]\u001b[0m\u001b[0;34m.\u001b[0m\u001b[0mget_text\u001b[0m\u001b[0;34m(\u001b[0m\u001b[0;34m)\u001b[0m\u001b[0;34m\u001b[0m\u001b[0;34m\u001b[0m\u001b[0m\n\u001b[0;32m----> 7\u001b[0;31m \u001b[0;32mif\u001b[0m \u001b[0msoup2\u001b[0m\u001b[0;34m.\u001b[0m\u001b[0mselect\u001b[0m\u001b[0;34m(\u001b[0m \u001b[0;34m'td a[href*=\"(Ability)\"] span'\u001b[0m \u001b[0;34m)\u001b[0m\u001b[0;34m[\u001b[0m \u001b[0;36m8\u001b[0m \u001b[0;34m]\u001b[0m\u001b[0;34m.\u001b[0m\u001b[0mget_text\u001b[0m\u001b[0;34m(\u001b[0m\u001b[0;34m)\u001b[0m \u001b[0;34m!=\u001b[0m \u001b[0;34m'Cacophony'\u001b[0m\u001b[0;34m:\u001b[0m\u001b[0;34m\u001b[0m\u001b[0;34m\u001b[0m\u001b[0m\n\u001b[0m\u001b[1;32m      8\u001b[0m         \u001b[0mpokemonData\u001b[0m\u001b[0;34m[\u001b[0m \u001b[0;36m3\u001b[0m \u001b[0;34m]\u001b[0m \u001b[0;34m+=\u001b[0m \u001b[0;34m'/'\u001b[0m \u001b[0;34m+\u001b[0m \u001b[0msoup2\u001b[0m\u001b[0;34m.\u001b[0m\u001b[0mselect\u001b[0m\u001b[0;34m(\u001b[0m \u001b[0;34m'td a[href*=\"(Ability)\"] span'\u001b[0m \u001b[0;34m)\u001b[0m\u001b[0;34m[\u001b[0m \u001b[0;36m8\u001b[0m \u001b[0;34m]\u001b[0m\u001b[0;34m.\u001b[0m\u001b[0mget_text\u001b[0m\u001b[0;34m(\u001b[0m\u001b[0;34m)\u001b[0m\u001b[0;34m\u001b[0m\u001b[0;34m\u001b[0m\u001b[0m\n\u001b[1;32m      9\u001b[0m \u001b[0;32melif\u001b[0m \u001b[0msoup2\u001b[0m\u001b[0;34m.\u001b[0m\u001b[0mselect\u001b[0m\u001b[0;34m(\u001b[0m \u001b[0;34m'td a[href*=\"(Ability)\"] span'\u001b[0m \u001b[0;34m)\u001b[0m\u001b[0;34m[\u001b[0m \u001b[0;36m3\u001b[0m \u001b[0;34m]\u001b[0m\u001b[0;34m.\u001b[0m\u001b[0mget_text\u001b[0m\u001b[0;34m(\u001b[0m\u001b[0;34m)\u001b[0m \u001b[0;34m!=\u001b[0m \u001b[0;34m'Cacophony'\u001b[0m\u001b[0;34m:\u001b[0m\u001b[0;34m\u001b[0m\u001b[0;34m\u001b[0m\u001b[0m\n",
            "\u001b[0;31mIndexError\u001b[0m: list index out of range"
          ]
        }
      ]
    },
    {
      "cell_type": "code",
      "source": [
        "#get base stats of pokemon\n",
        "#no for loop because easier to put in db + can't index items with variable with bs4\n",
        "pokemonData[ 4 ]  = (int) (soup2.select( 'td table[cellspacing=\"0\"] tr th' )[ 1 ].get_text())\n",
        "pokemonData[ 5 ]  = (int) (soup2.select( 'td table[cellspacing=\"0\"] tr th' )[ 3 ].get_text())\n",
        "pokemonData[ 6 ]  = (int) (soup2.select( 'td table[cellspacing=\"0\"] tr th' )[ 5 ].get_text())\n",
        "pokemonData[ 7 ]  = (int) (soup2.select( 'td table[cellspacing=\"0\"] tr th' )[ 7 ].get_text())\n",
        "pokemonData[ 8 ]  = (int) (soup2.select( 'td table[cellspacing=\"0\"] tr th' )[ 9 ].get_text())\n",
        "pokemonData[ 9 ]  = (int) (soup2.select( 'td table[cellspacing=\"0\"] tr th' )[ 11 ].get_text())\n",
        "pokemonData[ 10 ] = (int) (soup2.select( 'td table[cellspacing=\"0\"] tr th' )[ 13 ].get_text())\n",
        "print(pokemonData[ 4 ])\n",
        "print(pokemonData[ 5 ])"
      ],
      "metadata": {
        "colab": {
          "base_uri": "https://localhost:8080/",
          "height": 246
        },
        "id": "vQqQpV9GKN3U",
        "outputId": "f760cd28-0371-4a16-b801-605b67ae9cec"
      },
      "execution_count": 43,
      "outputs": [
        {
          "output_type": "error",
          "ename": "IndexError",
          "evalue": "ignored",
          "traceback": [
            "\u001b[0;31m---------------------------------------------------------------------------\u001b[0m",
            "\u001b[0;31mIndexError\u001b[0m                                Traceback (most recent call last)",
            "\u001b[0;32m<ipython-input-43-4c7d2fb43b06>\u001b[0m in \u001b[0;36m<cell line: 3>\u001b[0;34m()\u001b[0m\n\u001b[1;32m      1\u001b[0m \u001b[0;31m#get base stats of pokemon\u001b[0m\u001b[0;34m\u001b[0m\u001b[0;34m\u001b[0m\u001b[0m\n\u001b[1;32m      2\u001b[0m \u001b[0;31m#no for loop because easier to put in db + can't index items with variable with bs4\u001b[0m\u001b[0;34m\u001b[0m\u001b[0;34m\u001b[0m\u001b[0m\n\u001b[0;32m----> 3\u001b[0;31m \u001b[0mpokemonData\u001b[0m\u001b[0;34m[\u001b[0m \u001b[0;36m4\u001b[0m \u001b[0;34m]\u001b[0m  \u001b[0;34m=\u001b[0m \u001b[0;34m(\u001b[0m\u001b[0mint\u001b[0m\u001b[0;34m)\u001b[0m \u001b[0;34m(\u001b[0m\u001b[0msoup2\u001b[0m\u001b[0;34m.\u001b[0m\u001b[0mselect\u001b[0m\u001b[0;34m(\u001b[0m \u001b[0;34m'td table[cellspacing=\"0\"] tr th'\u001b[0m \u001b[0;34m)\u001b[0m\u001b[0;34m[\u001b[0m \u001b[0;36m1\u001b[0m \u001b[0;34m]\u001b[0m\u001b[0;34m.\u001b[0m\u001b[0mget_text\u001b[0m\u001b[0;34m(\u001b[0m\u001b[0;34m)\u001b[0m\u001b[0;34m)\u001b[0m\u001b[0;34m\u001b[0m\u001b[0;34m\u001b[0m\u001b[0m\n\u001b[0m\u001b[1;32m      4\u001b[0m \u001b[0mpokemonData\u001b[0m\u001b[0;34m[\u001b[0m \u001b[0;36m5\u001b[0m \u001b[0;34m]\u001b[0m  \u001b[0;34m=\u001b[0m \u001b[0;34m(\u001b[0m\u001b[0mint\u001b[0m\u001b[0;34m)\u001b[0m \u001b[0;34m(\u001b[0m\u001b[0msoup2\u001b[0m\u001b[0;34m.\u001b[0m\u001b[0mselect\u001b[0m\u001b[0;34m(\u001b[0m \u001b[0;34m'td table[cellspacing=\"0\"] tr th'\u001b[0m \u001b[0;34m)\u001b[0m\u001b[0;34m[\u001b[0m \u001b[0;36m3\u001b[0m \u001b[0;34m]\u001b[0m\u001b[0;34m.\u001b[0m\u001b[0mget_text\u001b[0m\u001b[0;34m(\u001b[0m\u001b[0;34m)\u001b[0m\u001b[0;34m)\u001b[0m\u001b[0;34m\u001b[0m\u001b[0;34m\u001b[0m\u001b[0m\n\u001b[1;32m      5\u001b[0m \u001b[0mpokemonData\u001b[0m\u001b[0;34m[\u001b[0m \u001b[0;36m6\u001b[0m \u001b[0;34m]\u001b[0m  \u001b[0;34m=\u001b[0m \u001b[0;34m(\u001b[0m\u001b[0mint\u001b[0m\u001b[0;34m)\u001b[0m \u001b[0;34m(\u001b[0m\u001b[0msoup2\u001b[0m\u001b[0;34m.\u001b[0m\u001b[0mselect\u001b[0m\u001b[0;34m(\u001b[0m \u001b[0;34m'td table[cellspacing=\"0\"] tr th'\u001b[0m \u001b[0;34m)\u001b[0m\u001b[0;34m[\u001b[0m \u001b[0;36m5\u001b[0m \u001b[0;34m]\u001b[0m\u001b[0;34m.\u001b[0m\u001b[0mget_text\u001b[0m\u001b[0;34m(\u001b[0m\u001b[0;34m)\u001b[0m\u001b[0;34m)\u001b[0m\u001b[0;34m\u001b[0m\u001b[0;34m\u001b[0m\u001b[0m\n",
            "\u001b[0;31mIndexError\u001b[0m: list index out of range"
          ]
        }
      ]
    }
  ]
}