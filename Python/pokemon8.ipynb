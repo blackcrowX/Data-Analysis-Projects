{
  "nbformat": 4,
  "nbformat_minor": 0,
  "metadata": {
    "colab": {
      "provenance": [],
      "authorship_tag": "ABX9TyMW7oj1hCYBmUt73j6/Hsgl",
      "include_colab_link": true
    },
    "kernelspec": {
      "name": "python3",
      "display_name": "Python 3"
    },
    "language_info": {
      "name": "python"
    }
  },
  "cells": [
    {
      "cell_type": "markdown",
      "metadata": {
        "id": "view-in-github",
        "colab_type": "text"
      },
      "source": [
        "<a href=\"https://colab.research.google.com/github/blackcrowX/Data-Analysis-Projects/blob/main/Python/pokemon8.ipynb\" target=\"_parent\"><img src=\"https://colab.research.google.com/assets/colab-badge.svg\" alt=\"Open In Colab\"/></a>"
      ]
    },
    {
      "cell_type": "markdown",
      "source": [
        "<h1 align=\"center\">Exploratory Data Analysis into Pokemon</h1>\n",
        "\n",
        "<img src=\"https://static.wikia.nocookie.net/logo-timeline/images/2/21/Pok%C3%A9mon_%28Print%29.svg/revision/latest?cb=20181024043055\"/>\n",
        "\n",
        "<p align=\"center\"><em>Image taken from: https://logo-timeline.fandom.com/wiki/Pok%C3%A9mon/Other</em></p>\n"
      ],
      "metadata": {
        "id": "JWSUki5ob710"
      }
    },
    {
      "cell_type": "markdown",
      "source": [
        "## Table of Contents"
      ],
      "metadata": {
        "id": "kP7ZZr60_Cnj"
      }
    },
    {
      "cell_type": "markdown",
      "source": [
        "*   Introduction\n",
        "*   Dataset\n",
        "*   Setup\n",
        "\n",
        "  1. [Import Libraries](#1)\n",
        "  2. [Import Data](#2)\n",
        "\n",
        "*   Data Cleaning\n",
        "\n",
        "  3. [Review Dataframe](#3)\n",
        "  4. [Review Info](#5)\n",
        "  5. [Review Missing Values](#6)\n",
        "  6. [Organise Columns](#8)\n",
        "  7. [Review Columns](#10)\n",
        "  8. [Adjust Index](#20)\n",
        "\n",
        "*   Data Analysis\n",
        "\n",
        "  9. [Frequency](#11)\n",
        "  10. [The Strongest and The Weakest](#7)\n",
        "  11. [The Fastest and The Slowest](#8)\n",
        "  12. [Summary](#9)\n",
        "\n",
        "*   Data Visualisation\n",
        "\n",
        "  13. [Count Plot](#11)\n",
        "  14. [Pie Plot](#12)\n",
        "  15. [Box Plot and Violin Plot](#13)\n",
        "  16. [Swarm Flot](#14)\n",
        "  17. [Heat Map](#15)\n",
        "\n",
        "*   Conclusion"
      ],
      "metadata": {
        "id": "sbT8ddMKIs26"
      }
    },
    {
      "cell_type": "markdown",
      "source": [
        "<h1 align=\"center\">Introduction</h1>"
      ],
      "metadata": {
        "id": "BANrAqFTx1jk"
      }
    },
    {
      "cell_type": "markdown",
      "source": [
        "This data analysis case study will be on a dataset regarding pokemon. It contains data manipulations to try and find answers to questions using visuals of data and statistics. \n",
        "\n",
        "Considering how diverse Pokemon are, I was interested in analyzing this datset to learn how the game is balanced and to potentially identify the best Pokemon, if there exists one.\n",
        "\n"
      ],
      "metadata": {
        "id": "YexmpsxxyAyC"
      }
    },
    {
      "cell_type": "markdown",
      "source": [
        "<h1 align=\"center\">Dataset</h1>"
      ],
      "metadata": {
        "id": "xMenjEXYsnQ9"
      }
    },
    {
      "cell_type": "markdown",
      "source": [
        "The dataset is a listing of all 898 Pokemon species, 1072 including alternate forms, as of 2021. It contains data about their number, name, first and second type, basic statistics, total statistics,  generation, and legendary status. The dataset was published by <a href=\"https://data.world/data-society/pokemon-with-stats\">data.world</a>."
      ],
      "metadata": {
        "id": "jxDz7eKzsnZq"
      }
    },
    {
      "cell_type": "markdown",
      "source": [
        "<h1 align=\"center\">Setup</h1>"
      ],
      "metadata": {
        "id": "l8bAEY4PL3iJ"
      }
    },
    {
      "cell_type": "markdown",
      "source": [
        "## Step 1: Import Libraries\n",
        "\n",
        "Import and configure libraries required for data analysis."
      ],
      "metadata": {
        "id": "S3zet4pwHop4"
      }
    },
    {
      "cell_type": "code",
      "execution_count": 1,
      "metadata": {
        "id": "uIMVuregZIms"
      },
      "outputs": [],
      "source": [
        "import numpy as np\n",
        "import pandas as pd\n",
        "pd.plotting.register_matplotlib_converters()\n",
        "import matplotlib.pyplot as plt\n",
        "%matplotlib inline\n",
        "import seaborn as sns\n",
        "sns.set(style = 'darkgrid')"
      ]
    },
    {
      "cell_type": "markdown",
      "source": [
        "## Step 2: Import Dataset\n",
        "Import dataset as variable `df` into Python."
      ],
      "metadata": {
        "id": "gGu8GQPZH0-g"
      }
    },
    {
      "cell_type": "code",
      "source": [
        "url = 'https://raw.githubusercontent.com/blackcrowX/Data-Analysis-Projects/main/Datasets/pokemon-stats-gen-1-8.csv'\n",
        "df = pd.read_csv(url)"
      ],
      "metadata": {
        "id": "OBcdg-IfI2g_"
      },
      "execution_count": 2,
      "outputs": []
    },
    {
      "cell_type": "markdown",
      "source": [
        "<h1 align=\"center\">Data Cleaning</h1>"
      ],
      "metadata": {
        "id": "VmPTEE5rskgs"
      }
    },
    {
      "cell_type": "markdown",
      "source": [
        "## Step 3: Review Dataframe\n",
        "\n",
        "Read the first five rows of the dataframe."
      ],
      "metadata": {
        "id": "v2plaMd-IgYZ"
      }
    },
    {
      "cell_type": "code",
      "source": [
        "df.head()"
      ],
      "metadata": {
        "colab": {
          "base_uri": "https://localhost:8080/",
          "height": 206
        },
        "id": "pASr1U16ZRHT",
        "outputId": "8e243a9f-d569-455c-c9a0-ace50bb450a8"
      },
      "execution_count": 3,
      "outputs": [
        {
          "output_type": "execute_result",
          "data": {
            "text/plain": [
              "   number                 name  type1   type2  total  hp  attack  defense  \\\n",
              "0       1            Bulbasaur  Grass  Poison    318  45      49       49   \n",
              "1       2              Ivysaur  Grass  Poison    405  60      62       63   \n",
              "2       3             Venusaur  Grass  Poison    525  80      82       83   \n",
              "3       3        Mega Venusaur  Grass  Poison    625  80     100      123   \n",
              "4       3  Gigantamax Venusaur  Grass  Poison    525  80      82       83   \n",
              "\n",
              "   sp_attack  sp_defense  speed  generation  legendary  \n",
              "0         65          65     45           1      False  \n",
              "1         80          80     60           1      False  \n",
              "2        100         100     80           1      False  \n",
              "3        122         120     80           1      False  \n",
              "4        100         100     80           1      False  "
            ],
            "text/html": [
              "\n",
              "  <div id=\"df-04c8c2ab-4e0d-46ec-b9fd-53cd3fb9e6a7\">\n",
              "    <div class=\"colab-df-container\">\n",
              "      <div>\n",
              "<style scoped>\n",
              "    .dataframe tbody tr th:only-of-type {\n",
              "        vertical-align: middle;\n",
              "    }\n",
              "\n",
              "    .dataframe tbody tr th {\n",
              "        vertical-align: top;\n",
              "    }\n",
              "\n",
              "    .dataframe thead th {\n",
              "        text-align: right;\n",
              "    }\n",
              "</style>\n",
              "<table border=\"1\" class=\"dataframe\">\n",
              "  <thead>\n",
              "    <tr style=\"text-align: right;\">\n",
              "      <th></th>\n",
              "      <th>number</th>\n",
              "      <th>name</th>\n",
              "      <th>type1</th>\n",
              "      <th>type2</th>\n",
              "      <th>total</th>\n",
              "      <th>hp</th>\n",
              "      <th>attack</th>\n",
              "      <th>defense</th>\n",
              "      <th>sp_attack</th>\n",
              "      <th>sp_defense</th>\n",
              "      <th>speed</th>\n",
              "      <th>generation</th>\n",
              "      <th>legendary</th>\n",
              "    </tr>\n",
              "  </thead>\n",
              "  <tbody>\n",
              "    <tr>\n",
              "      <th>0</th>\n",
              "      <td>1</td>\n",
              "      <td>Bulbasaur</td>\n",
              "      <td>Grass</td>\n",
              "      <td>Poison</td>\n",
              "      <td>318</td>\n",
              "      <td>45</td>\n",
              "      <td>49</td>\n",
              "      <td>49</td>\n",
              "      <td>65</td>\n",
              "      <td>65</td>\n",
              "      <td>45</td>\n",
              "      <td>1</td>\n",
              "      <td>False</td>\n",
              "    </tr>\n",
              "    <tr>\n",
              "      <th>1</th>\n",
              "      <td>2</td>\n",
              "      <td>Ivysaur</td>\n",
              "      <td>Grass</td>\n",
              "      <td>Poison</td>\n",
              "      <td>405</td>\n",
              "      <td>60</td>\n",
              "      <td>62</td>\n",
              "      <td>63</td>\n",
              "      <td>80</td>\n",
              "      <td>80</td>\n",
              "      <td>60</td>\n",
              "      <td>1</td>\n",
              "      <td>False</td>\n",
              "    </tr>\n",
              "    <tr>\n",
              "      <th>2</th>\n",
              "      <td>3</td>\n",
              "      <td>Venusaur</td>\n",
              "      <td>Grass</td>\n",
              "      <td>Poison</td>\n",
              "      <td>525</td>\n",
              "      <td>80</td>\n",
              "      <td>82</td>\n",
              "      <td>83</td>\n",
              "      <td>100</td>\n",
              "      <td>100</td>\n",
              "      <td>80</td>\n",
              "      <td>1</td>\n",
              "      <td>False</td>\n",
              "    </tr>\n",
              "    <tr>\n",
              "      <th>3</th>\n",
              "      <td>3</td>\n",
              "      <td>Mega Venusaur</td>\n",
              "      <td>Grass</td>\n",
              "      <td>Poison</td>\n",
              "      <td>625</td>\n",
              "      <td>80</td>\n",
              "      <td>100</td>\n",
              "      <td>123</td>\n",
              "      <td>122</td>\n",
              "      <td>120</td>\n",
              "      <td>80</td>\n",
              "      <td>1</td>\n",
              "      <td>False</td>\n",
              "    </tr>\n",
              "    <tr>\n",
              "      <th>4</th>\n",
              "      <td>3</td>\n",
              "      <td>Gigantamax Venusaur</td>\n",
              "      <td>Grass</td>\n",
              "      <td>Poison</td>\n",
              "      <td>525</td>\n",
              "      <td>80</td>\n",
              "      <td>82</td>\n",
              "      <td>83</td>\n",
              "      <td>100</td>\n",
              "      <td>100</td>\n",
              "      <td>80</td>\n",
              "      <td>1</td>\n",
              "      <td>False</td>\n",
              "    </tr>\n",
              "  </tbody>\n",
              "</table>\n",
              "</div>\n",
              "      <button class=\"colab-df-convert\" onclick=\"convertToInteractive('df-04c8c2ab-4e0d-46ec-b9fd-53cd3fb9e6a7')\"\n",
              "              title=\"Convert this dataframe to an interactive table.\"\n",
              "              style=\"display:none;\">\n",
              "        \n",
              "  <svg xmlns=\"http://www.w3.org/2000/svg\" height=\"24px\"viewBox=\"0 0 24 24\"\n",
              "       width=\"24px\">\n",
              "    <path d=\"M0 0h24v24H0V0z\" fill=\"none\"/>\n",
              "    <path d=\"M18.56 5.44l.94 2.06.94-2.06 2.06-.94-2.06-.94-.94-2.06-.94 2.06-2.06.94zm-11 1L8.5 8.5l.94-2.06 2.06-.94-2.06-.94L8.5 2.5l-.94 2.06-2.06.94zm10 10l.94 2.06.94-2.06 2.06-.94-2.06-.94-.94-2.06-.94 2.06-2.06.94z\"/><path d=\"M17.41 7.96l-1.37-1.37c-.4-.4-.92-.59-1.43-.59-.52 0-1.04.2-1.43.59L10.3 9.45l-7.72 7.72c-.78.78-.78 2.05 0 2.83L4 21.41c.39.39.9.59 1.41.59.51 0 1.02-.2 1.41-.59l7.78-7.78 2.81-2.81c.8-.78.8-2.07 0-2.86zM5.41 20L4 18.59l7.72-7.72 1.47 1.35L5.41 20z\"/>\n",
              "  </svg>\n",
              "      </button>\n",
              "      \n",
              "  <style>\n",
              "    .colab-df-container {\n",
              "      display:flex;\n",
              "      flex-wrap:wrap;\n",
              "      gap: 12px;\n",
              "    }\n",
              "\n",
              "    .colab-df-convert {\n",
              "      background-color: #E8F0FE;\n",
              "      border: none;\n",
              "      border-radius: 50%;\n",
              "      cursor: pointer;\n",
              "      display: none;\n",
              "      fill: #1967D2;\n",
              "      height: 32px;\n",
              "      padding: 0 0 0 0;\n",
              "      width: 32px;\n",
              "    }\n",
              "\n",
              "    .colab-df-convert:hover {\n",
              "      background-color: #E2EBFA;\n",
              "      box-shadow: 0px 1px 2px rgba(60, 64, 67, 0.3), 0px 1px 3px 1px rgba(60, 64, 67, 0.15);\n",
              "      fill: #174EA6;\n",
              "    }\n",
              "\n",
              "    [theme=dark] .colab-df-convert {\n",
              "      background-color: #3B4455;\n",
              "      fill: #D2E3FC;\n",
              "    }\n",
              "\n",
              "    [theme=dark] .colab-df-convert:hover {\n",
              "      background-color: #434B5C;\n",
              "      box-shadow: 0px 1px 3px 1px rgba(0, 0, 0, 0.15);\n",
              "      filter: drop-shadow(0px 1px 2px rgba(0, 0, 0, 0.3));\n",
              "      fill: #FFFFFF;\n",
              "    }\n",
              "  </style>\n",
              "\n",
              "      <script>\n",
              "        const buttonEl =\n",
              "          document.querySelector('#df-04c8c2ab-4e0d-46ec-b9fd-53cd3fb9e6a7 button.colab-df-convert');\n",
              "        buttonEl.style.display =\n",
              "          google.colab.kernel.accessAllowed ? 'block' : 'none';\n",
              "\n",
              "        async function convertToInteractive(key) {\n",
              "          const element = document.querySelector('#df-04c8c2ab-4e0d-46ec-b9fd-53cd3fb9e6a7');\n",
              "          const dataTable =\n",
              "            await google.colab.kernel.invokeFunction('convertToInteractive',\n",
              "                                                     [key], {});\n",
              "          if (!dataTable) return;\n",
              "\n",
              "          const docLinkHtml = 'Like what you see? Visit the ' +\n",
              "            '<a target=\"_blank\" href=https://colab.research.google.com/notebooks/data_table.ipynb>data table notebook</a>'\n",
              "            + ' to learn more about interactive tables.';\n",
              "          element.innerHTML = '';\n",
              "          dataTable['output_type'] = 'display_data';\n",
              "          await google.colab.output.renderOutput(dataTable, element);\n",
              "          const docLink = document.createElement('div');\n",
              "          docLink.innerHTML = docLinkHtml;\n",
              "          element.appendChild(docLink);\n",
              "        }\n",
              "      </script>\n",
              "    </div>\n",
              "  </div>\n",
              "  "
            ]
          },
          "metadata": {},
          "execution_count": 3
        }
      ]
    },
    {
      "cell_type": "markdown",
      "source": [
        "Read the last five rows of the dataframe."
      ],
      "metadata": {
        "id": "jUl_fRJS5xjT"
      }
    },
    {
      "cell_type": "code",
      "source": [
        "df.tail()"
      ],
      "metadata": {
        "id": "5K5F20dN5x_M",
        "outputId": "845fa834-b446-40d1-f950-859ba2c894e1",
        "colab": {
          "base_uri": "https://localhost:8080/",
          "height": 206
        }
      },
      "execution_count": 4,
      "outputs": [
        {
          "output_type": "execute_result",
          "data": {
            "text/plain": [
              "      number                  name    type1  type2  total   hp  attack  \\\n",
              "1067     896             Glastrier      Ice    NaN    580  100     145   \n",
              "1068     897             Spectrier    Ghost    NaN    580  100      65   \n",
              "1069     898               Calyrex  Psychic  Grass    500  100      80   \n",
              "1070     898     Ice Rider Calyrex  Psychic    Ice    680  100     165   \n",
              "1071     898  Shadow Rider Calyrex  Psychic  Ghost    680  100      85   \n",
              "\n",
              "      defense  sp_attack  sp_defense  speed  generation  legendary  \n",
              "1067      130         65         110     30           8       True  \n",
              "1068       60        145          80    130           8       True  \n",
              "1069       80         80          80     80           8       True  \n",
              "1070      150         85         130     50           8       True  \n",
              "1071       80        165         100    150           8       True  "
            ],
            "text/html": [
              "\n",
              "  <div id=\"df-14ec2c13-0a4a-4ee1-a651-f0a6fc7c2e0f\">\n",
              "    <div class=\"colab-df-container\">\n",
              "      <div>\n",
              "<style scoped>\n",
              "    .dataframe tbody tr th:only-of-type {\n",
              "        vertical-align: middle;\n",
              "    }\n",
              "\n",
              "    .dataframe tbody tr th {\n",
              "        vertical-align: top;\n",
              "    }\n",
              "\n",
              "    .dataframe thead th {\n",
              "        text-align: right;\n",
              "    }\n",
              "</style>\n",
              "<table border=\"1\" class=\"dataframe\">\n",
              "  <thead>\n",
              "    <tr style=\"text-align: right;\">\n",
              "      <th></th>\n",
              "      <th>number</th>\n",
              "      <th>name</th>\n",
              "      <th>type1</th>\n",
              "      <th>type2</th>\n",
              "      <th>total</th>\n",
              "      <th>hp</th>\n",
              "      <th>attack</th>\n",
              "      <th>defense</th>\n",
              "      <th>sp_attack</th>\n",
              "      <th>sp_defense</th>\n",
              "      <th>speed</th>\n",
              "      <th>generation</th>\n",
              "      <th>legendary</th>\n",
              "    </tr>\n",
              "  </thead>\n",
              "  <tbody>\n",
              "    <tr>\n",
              "      <th>1067</th>\n",
              "      <td>896</td>\n",
              "      <td>Glastrier</td>\n",
              "      <td>Ice</td>\n",
              "      <td>NaN</td>\n",
              "      <td>580</td>\n",
              "      <td>100</td>\n",
              "      <td>145</td>\n",
              "      <td>130</td>\n",
              "      <td>65</td>\n",
              "      <td>110</td>\n",
              "      <td>30</td>\n",
              "      <td>8</td>\n",
              "      <td>True</td>\n",
              "    </tr>\n",
              "    <tr>\n",
              "      <th>1068</th>\n",
              "      <td>897</td>\n",
              "      <td>Spectrier</td>\n",
              "      <td>Ghost</td>\n",
              "      <td>NaN</td>\n",
              "      <td>580</td>\n",
              "      <td>100</td>\n",
              "      <td>65</td>\n",
              "      <td>60</td>\n",
              "      <td>145</td>\n",
              "      <td>80</td>\n",
              "      <td>130</td>\n",
              "      <td>8</td>\n",
              "      <td>True</td>\n",
              "    </tr>\n",
              "    <tr>\n",
              "      <th>1069</th>\n",
              "      <td>898</td>\n",
              "      <td>Calyrex</td>\n",
              "      <td>Psychic</td>\n",
              "      <td>Grass</td>\n",
              "      <td>500</td>\n",
              "      <td>100</td>\n",
              "      <td>80</td>\n",
              "      <td>80</td>\n",
              "      <td>80</td>\n",
              "      <td>80</td>\n",
              "      <td>80</td>\n",
              "      <td>8</td>\n",
              "      <td>True</td>\n",
              "    </tr>\n",
              "    <tr>\n",
              "      <th>1070</th>\n",
              "      <td>898</td>\n",
              "      <td>Ice Rider Calyrex</td>\n",
              "      <td>Psychic</td>\n",
              "      <td>Ice</td>\n",
              "      <td>680</td>\n",
              "      <td>100</td>\n",
              "      <td>165</td>\n",
              "      <td>150</td>\n",
              "      <td>85</td>\n",
              "      <td>130</td>\n",
              "      <td>50</td>\n",
              "      <td>8</td>\n",
              "      <td>True</td>\n",
              "    </tr>\n",
              "    <tr>\n",
              "      <th>1071</th>\n",
              "      <td>898</td>\n",
              "      <td>Shadow Rider Calyrex</td>\n",
              "      <td>Psychic</td>\n",
              "      <td>Ghost</td>\n",
              "      <td>680</td>\n",
              "      <td>100</td>\n",
              "      <td>85</td>\n",
              "      <td>80</td>\n",
              "      <td>165</td>\n",
              "      <td>100</td>\n",
              "      <td>150</td>\n",
              "      <td>8</td>\n",
              "      <td>True</td>\n",
              "    </tr>\n",
              "  </tbody>\n",
              "</table>\n",
              "</div>\n",
              "      <button class=\"colab-df-convert\" onclick=\"convertToInteractive('df-14ec2c13-0a4a-4ee1-a651-f0a6fc7c2e0f')\"\n",
              "              title=\"Convert this dataframe to an interactive table.\"\n",
              "              style=\"display:none;\">\n",
              "        \n",
              "  <svg xmlns=\"http://www.w3.org/2000/svg\" height=\"24px\"viewBox=\"0 0 24 24\"\n",
              "       width=\"24px\">\n",
              "    <path d=\"M0 0h24v24H0V0z\" fill=\"none\"/>\n",
              "    <path d=\"M18.56 5.44l.94 2.06.94-2.06 2.06-.94-2.06-.94-.94-2.06-.94 2.06-2.06.94zm-11 1L8.5 8.5l.94-2.06 2.06-.94-2.06-.94L8.5 2.5l-.94 2.06-2.06.94zm10 10l.94 2.06.94-2.06 2.06-.94-2.06-.94-.94-2.06-.94 2.06-2.06.94z\"/><path d=\"M17.41 7.96l-1.37-1.37c-.4-.4-.92-.59-1.43-.59-.52 0-1.04.2-1.43.59L10.3 9.45l-7.72 7.72c-.78.78-.78 2.05 0 2.83L4 21.41c.39.39.9.59 1.41.59.51 0 1.02-.2 1.41-.59l7.78-7.78 2.81-2.81c.8-.78.8-2.07 0-2.86zM5.41 20L4 18.59l7.72-7.72 1.47 1.35L5.41 20z\"/>\n",
              "  </svg>\n",
              "      </button>\n",
              "      \n",
              "  <style>\n",
              "    .colab-df-container {\n",
              "      display:flex;\n",
              "      flex-wrap:wrap;\n",
              "      gap: 12px;\n",
              "    }\n",
              "\n",
              "    .colab-df-convert {\n",
              "      background-color: #E8F0FE;\n",
              "      border: none;\n",
              "      border-radius: 50%;\n",
              "      cursor: pointer;\n",
              "      display: none;\n",
              "      fill: #1967D2;\n",
              "      height: 32px;\n",
              "      padding: 0 0 0 0;\n",
              "      width: 32px;\n",
              "    }\n",
              "\n",
              "    .colab-df-convert:hover {\n",
              "      background-color: #E2EBFA;\n",
              "      box-shadow: 0px 1px 2px rgba(60, 64, 67, 0.3), 0px 1px 3px 1px rgba(60, 64, 67, 0.15);\n",
              "      fill: #174EA6;\n",
              "    }\n",
              "\n",
              "    [theme=dark] .colab-df-convert {\n",
              "      background-color: #3B4455;\n",
              "      fill: #D2E3FC;\n",
              "    }\n",
              "\n",
              "    [theme=dark] .colab-df-convert:hover {\n",
              "      background-color: #434B5C;\n",
              "      box-shadow: 0px 1px 3px 1px rgba(0, 0, 0, 0.15);\n",
              "      filter: drop-shadow(0px 1px 2px rgba(0, 0, 0, 0.3));\n",
              "      fill: #FFFFFF;\n",
              "    }\n",
              "  </style>\n",
              "\n",
              "      <script>\n",
              "        const buttonEl =\n",
              "          document.querySelector('#df-14ec2c13-0a4a-4ee1-a651-f0a6fc7c2e0f button.colab-df-convert');\n",
              "        buttonEl.style.display =\n",
              "          google.colab.kernel.accessAllowed ? 'block' : 'none';\n",
              "\n",
              "        async function convertToInteractive(key) {\n",
              "          const element = document.querySelector('#df-14ec2c13-0a4a-4ee1-a651-f0a6fc7c2e0f');\n",
              "          const dataTable =\n",
              "            await google.colab.kernel.invokeFunction('convertToInteractive',\n",
              "                                                     [key], {});\n",
              "          if (!dataTable) return;\n",
              "\n",
              "          const docLinkHtml = 'Like what you see? Visit the ' +\n",
              "            '<a target=\"_blank\" href=https://colab.research.google.com/notebooks/data_table.ipynb>data table notebook</a>'\n",
              "            + ' to learn more about interactive tables.';\n",
              "          element.innerHTML = '';\n",
              "          dataTable['output_type'] = 'display_data';\n",
              "          await google.colab.output.renderOutput(dataTable, element);\n",
              "          const docLink = document.createElement('div');\n",
              "          docLink.innerHTML = docLinkHtml;\n",
              "          element.appendChild(docLink);\n",
              "        }\n",
              "      </script>\n",
              "    </div>\n",
              "  </div>\n",
              "  "
            ]
          },
          "metadata": {},
          "execution_count": 4
        }
      ]
    },
    {
      "cell_type": "markdown",
      "source": [
        "From the intial review of the head and tail of the dataframe there seem to be missing values (`NaN`) and the entries have a unique name instead of number value. "
      ],
      "metadata": {
        "id": "GO_9E3JJDrJR"
      }
    },
    {
      "cell_type": "markdown",
      "source": [
        "## Step 4: Review Info\n",
        "Check the info of the dataframe."
      ],
      "metadata": {
        "id": "hYWjwo8B5U0o"
      }
    },
    {
      "cell_type": "code",
      "source": [
        "df.info()"
      ],
      "metadata": {
        "id": "0-eDMjUh6TjC",
        "outputId": "34ff8aa4-b64a-4bca-f962-0fcddccf15bf",
        "colab": {
          "base_uri": "https://localhost:8080/"
        }
      },
      "execution_count": 5,
      "outputs": [
        {
          "output_type": "stream",
          "name": "stdout",
          "text": [
            "<class 'pandas.core.frame.DataFrame'>\n",
            "RangeIndex: 1072 entries, 0 to 1071\n",
            "Data columns (total 13 columns):\n",
            " #   Column      Non-Null Count  Dtype \n",
            "---  ------      --------------  ----- \n",
            " 0   number      1072 non-null   int64 \n",
            " 1   name        1072 non-null   object\n",
            " 2   type1       1072 non-null   object\n",
            " 3   type2       574 non-null    object\n",
            " 4   total       1072 non-null   int64 \n",
            " 5   hp          1072 non-null   int64 \n",
            " 6   attack      1072 non-null   int64 \n",
            " 7   defense     1072 non-null   int64 \n",
            " 8   sp_attack   1072 non-null   int64 \n",
            " 9   sp_defense  1072 non-null   int64 \n",
            " 10  speed       1072 non-null   int64 \n",
            " 11  generation  1072 non-null   int64 \n",
            " 12  legendary   1072 non-null   bool  \n",
            "dtypes: bool(1), int64(9), object(3)\n",
            "memory usage: 101.7+ KB\n"
          ]
        }
      ]
    },
    {
      "cell_type": "markdown",
      "source": [
        "The basic insight here is that the dataframe has 13 columns of which nine are of type integer, three are of type object and one is of type boolean. The amount of rows matches the amount of pokemon species including alternate forms. The column types match their respective value."
      ],
      "metadata": {
        "id": "oCxujdblBPI9"
      }
    },
    {
      "cell_type": "markdown",
      "source": [
        "## Step 5: Review Missing Values\n",
        "Check for `Null` or `NaN` values.\n"
      ],
      "metadata": {
        "id": "6H8LnYgM7kD5"
      }
    },
    {
      "cell_type": "code",
      "source": [
        "df.isnull().sum()"
      ],
      "metadata": {
        "id": "BWGjeipl75DG",
        "outputId": "0827a578-af0c-40d3-bab0-f699bb717c85",
        "colab": {
          "base_uri": "https://localhost:8080/"
        }
      },
      "execution_count": 6,
      "outputs": [
        {
          "output_type": "execute_result",
          "data": {
            "text/plain": [
              "number          0\n",
              "name            0\n",
              "type1           0\n",
              "type2         498\n",
              "total           0\n",
              "hp              0\n",
              "attack          0\n",
              "defense         0\n",
              "sp_attack       0\n",
              "sp_defense      0\n",
              "speed           0\n",
              "generation      0\n",
              "legendary       0\n",
              "dtype: int64"
            ]
          },
          "metadata": {},
          "execution_count": 6
        }
      ]
    },
    {
      "cell_type": "markdown",
      "source": [
        "Since all Pokemon species have a primary type but not necessarily a secondary type, we'll fill in these missing values with a placeholder."
      ],
      "metadata": {
        "id": "dnoEDOObNGcj"
      }
    },
    {
      "cell_type": "code",
      "source": [
        "df['type2'].fillna(value='None', inplace=True)"
      ],
      "metadata": {
        "id": "_8qugRE6P1DV"
      },
      "execution_count": 7,
      "outputs": []
    },
    {
      "cell_type": "markdown",
      "source": [
        "With this all missing values have been filled and there are no further missing values in the dataframe."
      ],
      "metadata": {
        "id": "CQR74qXVQ0l1"
      }
    },
    {
      "cell_type": "markdown",
      "source": [
        "## Step 6: Organize Columns\n",
        "\n",
        "Rename columns type1 into primary_type and type2 into secondary_type."
      ],
      "metadata": {
        "id": "SgINLEeUTZFB"
      }
    },
    {
      "cell_type": "code",
      "source": [
        "df.rename(columns = {\"type1\":\"primary_type\", \"type2\":\"secondary_type\"}, inplace = True)"
      ],
      "metadata": {
        "id": "W8JoJ7BxT13C"
      },
      "execution_count": 8,
      "outputs": []
    },
    {
      "cell_type": "markdown",
      "source": [
        "Check columns in the dataframe."
      ],
      "metadata": {
        "id": "a4z9ZiyMT3Pz"
      }
    },
    {
      "cell_type": "code",
      "source": [
        "df.columns"
      ],
      "metadata": {
        "id": "8VbCfJwzHNCv",
        "outputId": "d3b5f50c-2762-432c-a1c2-352dfcbd66b7",
        "colab": {
          "base_uri": "https://localhost:8080/"
        }
      },
      "execution_count": 9,
      "outputs": [
        {
          "output_type": "execute_result",
          "data": {
            "text/plain": [
              "Index(['number', 'name', 'primary_type', 'secondary_type', 'total', 'hp',\n",
              "       'attack', 'defense', 'sp_attack', 'sp_defense', 'speed', 'generation',\n",
              "       'legendary'],\n",
              "      dtype='object')"
            ]
          },
          "metadata": {},
          "execution_count": 9
        }
      ]
    },
    {
      "cell_type": "markdown",
      "source": [
        "## Step 7: Review Columns\n",
        "\n",
        "Review columns of the dataframe."
      ],
      "metadata": {
        "id": "5AzoUe_bXsFr"
      }
    },
    {
      "cell_type": "code",
      "source": [
        "print(\"Pokemon Names:\", len(df[\"name\"].unique()))\n",
        "print(\"Pokedex Numbers:\", len(df[\"number\"].unique()))\n",
        "print(\"Primary Types:\", len(df[\"primary_type\"].unique()))\n",
        "print(\"Secondary Types:\", len(df[\"secondary_type\"].unique()))\n",
        "print(\"Generations:\", len(df[\"generation\"].unique()))"
      ],
      "metadata": {
        "colab": {
          "base_uri": "https://localhost:8080/"
        },
        "id": "TUeEpT6IX5P5",
        "outputId": "dbb4473a-d620-4665-e601-7a2de1274651"
      },
      "execution_count": 10,
      "outputs": [
        {
          "output_type": "stream",
          "name": "stdout",
          "text": [
            "Pokemon Names: 1072\n",
            "Pokedex Numbers: 898\n",
            "Primary Types: 20\n",
            "Secondary Types: 19\n",
            "Generations: 9\n"
          ]
        }
      ]
    },
    {
      "cell_type": "code",
      "source": [
        "print(\"Total Stats:\", min(df[\"total\"].unique()), \"-\", max(df[\"total\"]))\n",
        "print(\"HP Stats:\", min(df[\"hp\"].unique()), \"-\", max(df[\"hp\"]))\n",
        "print(\"Attack Stats:\", min(df[\"attack\"].unique()), \"-\", max(df[\"attack\"]))\n",
        "print(\"Defense Stats:\", min(df[\"defense\"].unique()), \"-\", max(df[\"defense\"]))\n",
        "print(\"Special Attack Stats:\", min(df[\"sp_attack\"].unique()), \"-\", max(df[\"sp_attack\"]))\n",
        "print(\"Special Defense Stats:\", min(df[\"sp_defense\"].unique()), \"-\", max(df[\"sp_defense\"]))\n",
        "print(\"Speed Stats:\", min(df[\"speed\"].unique()), \"-\", max(df[\"speed\"]))"
      ],
      "metadata": {
        "colab": {
          "base_uri": "https://localhost:8080/"
        },
        "id": "mb_LQCzPdOeR",
        "outputId": "8e2716cf-cc9e-4f69-b4b3-2ebdc694d0ff"
      },
      "execution_count": 11,
      "outputs": [
        {
          "output_type": "stream",
          "name": "stdout",
          "text": [
            "Total Stats: 175 - 1125\n",
            "HP Stats: 1 - 255\n",
            "Attack Stats: 5 - 190\n",
            "Defense Stats: 5 - 250\n",
            "Special Attack Stats: 10 - 194\n",
            "Special Defense Stats: 20 - 250\n",
            "Speed Stats: 5 - 200\n"
          ]
        }
      ]
    },
    {
      "cell_type": "markdown",
      "source": [
        "The unique length of the columns `name`, `number` and `legendary` are fine. The stats also appear to have a sensible range. But we have to further look into why the amount of primary types is higher than the amount of secondary types and why we have nine diffrent values for eight existing generations of pokemon."
      ],
      "metadata": {
        "id": "ggbwupUuapse"
      }
    },
    {
      "cell_type": "code",
      "source": [
        "print(\"Primary Type:\",df[\"primary_type\"].unique())\n",
        "print(\"Secondary Type:\",df[\"secondary_type\"].unique())\n",
        "print(\"Generations:\",df[\"generation\"].unique())"
      ],
      "metadata": {
        "colab": {
          "base_uri": "https://localhost:8080/"
        },
        "id": "YQSz2jk6ejoQ",
        "outputId": "9bb4137c-1ee2-4c6f-85c5-59dac78fa7d3"
      },
      "execution_count": 12,
      "outputs": [
        {
          "output_type": "stream",
          "name": "stdout",
          "text": [
            "Primary Type: ['Grass' 'Fire' 'Water' 'Blastoise' 'Bug' 'Normal' 'Dark' 'Poison'\n",
            " 'Electric' 'Ground' 'Ice' 'Fairy' 'Steel' 'Fighting' 'Psychic' 'Rock'\n",
            " 'Ghost' 'Dragon' 'Flying' 'Graass']\n",
            "Secondary Type: ['Poison' 'None' 'Flying' 'Dragon' 'Water' 'Normal' 'Psychic' 'Steel'\n",
            " 'Ground' 'Fairy' 'Grass' 'Fighting' 'Electric' 'Ice' 'Dark' 'Ghost'\n",
            " 'Rock' 'Fire' 'Bug']\n",
            "Generations: [1 7 8 2 3 4 5 6 0]\n"
          ]
        }
      ]
    },
    {
      "cell_type": "markdown",
      "source": [
        "Know we know that there are two incorrect value for the `primary_type` with `Blastoise` and `Graass` and one incorrect value for the `generation`  with `0`.\n",
        "We will have to replace these values with their correct value.\n",
        "\n",
        "For value `0`:"
      ],
      "metadata": {
        "id": "Hr6VCjcPe92o"
      }
    },
    {
      "cell_type": "code",
      "source": [
        "df.loc[df['generation'] == 0]"
      ],
      "metadata": {
        "colab": {
          "base_uri": "https://localhost:8080/",
          "height": 143
        },
        "id": "axIFlJ2tfeup",
        "outputId": "6a4683c2-a392-4d23-f65d-f23c1fc0d9d9"
      },
      "execution_count": 13,
      "outputs": [
        {
          "output_type": "execute_result",
          "data": {
            "text/plain": [
              "     number                 name primary_type secondary_type  total   hp  \\\n",
              "950     808               Meltan        Steel           None    300   46   \n",
              "951     809             Melmetal        Steel           None    600  135   \n",
              "952     809  Gigantamax Melmetal        Steel           None    600  135   \n",
              "\n",
              "     attack  defense  sp_attack  sp_defense  speed  generation  legendary  \n",
              "950      65       65         55          35     34           0       True  \n",
              "951     143      143         80          65     34           0       True  \n",
              "952     143      143         80          65     34           0       True  "
            ],
            "text/html": [
              "\n",
              "  <div id=\"df-319f85be-8399-4f0e-ae35-4c862a59b3fe\">\n",
              "    <div class=\"colab-df-container\">\n",
              "      <div>\n",
              "<style scoped>\n",
              "    .dataframe tbody tr th:only-of-type {\n",
              "        vertical-align: middle;\n",
              "    }\n",
              "\n",
              "    .dataframe tbody tr th {\n",
              "        vertical-align: top;\n",
              "    }\n",
              "\n",
              "    .dataframe thead th {\n",
              "        text-align: right;\n",
              "    }\n",
              "</style>\n",
              "<table border=\"1\" class=\"dataframe\">\n",
              "  <thead>\n",
              "    <tr style=\"text-align: right;\">\n",
              "      <th></th>\n",
              "      <th>number</th>\n",
              "      <th>name</th>\n",
              "      <th>primary_type</th>\n",
              "      <th>secondary_type</th>\n",
              "      <th>total</th>\n",
              "      <th>hp</th>\n",
              "      <th>attack</th>\n",
              "      <th>defense</th>\n",
              "      <th>sp_attack</th>\n",
              "      <th>sp_defense</th>\n",
              "      <th>speed</th>\n",
              "      <th>generation</th>\n",
              "      <th>legendary</th>\n",
              "    </tr>\n",
              "  </thead>\n",
              "  <tbody>\n",
              "    <tr>\n",
              "      <th>950</th>\n",
              "      <td>808</td>\n",
              "      <td>Meltan</td>\n",
              "      <td>Steel</td>\n",
              "      <td>None</td>\n",
              "      <td>300</td>\n",
              "      <td>46</td>\n",
              "      <td>65</td>\n",
              "      <td>65</td>\n",
              "      <td>55</td>\n",
              "      <td>35</td>\n",
              "      <td>34</td>\n",
              "      <td>0</td>\n",
              "      <td>True</td>\n",
              "    </tr>\n",
              "    <tr>\n",
              "      <th>951</th>\n",
              "      <td>809</td>\n",
              "      <td>Melmetal</td>\n",
              "      <td>Steel</td>\n",
              "      <td>None</td>\n",
              "      <td>600</td>\n",
              "      <td>135</td>\n",
              "      <td>143</td>\n",
              "      <td>143</td>\n",
              "      <td>80</td>\n",
              "      <td>65</td>\n",
              "      <td>34</td>\n",
              "      <td>0</td>\n",
              "      <td>True</td>\n",
              "    </tr>\n",
              "    <tr>\n",
              "      <th>952</th>\n",
              "      <td>809</td>\n",
              "      <td>Gigantamax Melmetal</td>\n",
              "      <td>Steel</td>\n",
              "      <td>None</td>\n",
              "      <td>600</td>\n",
              "      <td>135</td>\n",
              "      <td>143</td>\n",
              "      <td>143</td>\n",
              "      <td>80</td>\n",
              "      <td>65</td>\n",
              "      <td>34</td>\n",
              "      <td>0</td>\n",
              "      <td>True</td>\n",
              "    </tr>\n",
              "  </tbody>\n",
              "</table>\n",
              "</div>\n",
              "      <button class=\"colab-df-convert\" onclick=\"convertToInteractive('df-319f85be-8399-4f0e-ae35-4c862a59b3fe')\"\n",
              "              title=\"Convert this dataframe to an interactive table.\"\n",
              "              style=\"display:none;\">\n",
              "        \n",
              "  <svg xmlns=\"http://www.w3.org/2000/svg\" height=\"24px\"viewBox=\"0 0 24 24\"\n",
              "       width=\"24px\">\n",
              "    <path d=\"M0 0h24v24H0V0z\" fill=\"none\"/>\n",
              "    <path d=\"M18.56 5.44l.94 2.06.94-2.06 2.06-.94-2.06-.94-.94-2.06-.94 2.06-2.06.94zm-11 1L8.5 8.5l.94-2.06 2.06-.94-2.06-.94L8.5 2.5l-.94 2.06-2.06.94zm10 10l.94 2.06.94-2.06 2.06-.94-2.06-.94-.94-2.06-.94 2.06-2.06.94z\"/><path d=\"M17.41 7.96l-1.37-1.37c-.4-.4-.92-.59-1.43-.59-.52 0-1.04.2-1.43.59L10.3 9.45l-7.72 7.72c-.78.78-.78 2.05 0 2.83L4 21.41c.39.39.9.59 1.41.59.51 0 1.02-.2 1.41-.59l7.78-7.78 2.81-2.81c.8-.78.8-2.07 0-2.86zM5.41 20L4 18.59l7.72-7.72 1.47 1.35L5.41 20z\"/>\n",
              "  </svg>\n",
              "      </button>\n",
              "      \n",
              "  <style>\n",
              "    .colab-df-container {\n",
              "      display:flex;\n",
              "      flex-wrap:wrap;\n",
              "      gap: 12px;\n",
              "    }\n",
              "\n",
              "    .colab-df-convert {\n",
              "      background-color: #E8F0FE;\n",
              "      border: none;\n",
              "      border-radius: 50%;\n",
              "      cursor: pointer;\n",
              "      display: none;\n",
              "      fill: #1967D2;\n",
              "      height: 32px;\n",
              "      padding: 0 0 0 0;\n",
              "      width: 32px;\n",
              "    }\n",
              "\n",
              "    .colab-df-convert:hover {\n",
              "      background-color: #E2EBFA;\n",
              "      box-shadow: 0px 1px 2px rgba(60, 64, 67, 0.3), 0px 1px 3px 1px rgba(60, 64, 67, 0.15);\n",
              "      fill: #174EA6;\n",
              "    }\n",
              "\n",
              "    [theme=dark] .colab-df-convert {\n",
              "      background-color: #3B4455;\n",
              "      fill: #D2E3FC;\n",
              "    }\n",
              "\n",
              "    [theme=dark] .colab-df-convert:hover {\n",
              "      background-color: #434B5C;\n",
              "      box-shadow: 0px 1px 3px 1px rgba(0, 0, 0, 0.15);\n",
              "      filter: drop-shadow(0px 1px 2px rgba(0, 0, 0, 0.3));\n",
              "      fill: #FFFFFF;\n",
              "    }\n",
              "  </style>\n",
              "\n",
              "      <script>\n",
              "        const buttonEl =\n",
              "          document.querySelector('#df-319f85be-8399-4f0e-ae35-4c862a59b3fe button.colab-df-convert');\n",
              "        buttonEl.style.display =\n",
              "          google.colab.kernel.accessAllowed ? 'block' : 'none';\n",
              "\n",
              "        async function convertToInteractive(key) {\n",
              "          const element = document.querySelector('#df-319f85be-8399-4f0e-ae35-4c862a59b3fe');\n",
              "          const dataTable =\n",
              "            await google.colab.kernel.invokeFunction('convertToInteractive',\n",
              "                                                     [key], {});\n",
              "          if (!dataTable) return;\n",
              "\n",
              "          const docLinkHtml = 'Like what you see? Visit the ' +\n",
              "            '<a target=\"_blank\" href=https://colab.research.google.com/notebooks/data_table.ipynb>data table notebook</a>'\n",
              "            + ' to learn more about interactive tables.';\n",
              "          element.innerHTML = '';\n",
              "          dataTable['output_type'] = 'display_data';\n",
              "          await google.colab.output.renderOutput(dataTable, element);\n",
              "          const docLink = document.createElement('div');\n",
              "          docLink.innerHTML = docLinkHtml;\n",
              "          element.appendChild(docLink);\n",
              "        }\n",
              "      </script>\n",
              "    </div>\n",
              "  </div>\n",
              "  "
            ]
          },
          "metadata": {},
          "execution_count": 13
        }
      ]
    },
    {
      "cell_type": "code",
      "source": [
        "df.generation = df.generation.replace(0, 7)"
      ],
      "metadata": {
        "id": "Bcvb3VhGg3Du"
      },
      "execution_count": 14,
      "outputs": []
    },
    {
      "cell_type": "markdown",
      "source": [
        "For value `\"Graass\"`:"
      ],
      "metadata": {
        "id": "tl6v1HXhpfYr"
      }
    },
    {
      "cell_type": "code",
      "source": [
        "df.loc[df['primary_type'] == \"Graass\"]"
      ],
      "metadata": {
        "colab": {
          "base_uri": "https://localhost:8080/",
          "height": 81
        },
        "id": "SXbMPZB2gLer",
        "outputId": "51507e93-db09-4826-d118-cbefa615211d"
      },
      "execution_count": 15,
      "outputs": [
        {
          "output_type": "execute_result",
          "data": {
            "text/plain": [
              "     number      name primary_type secondary_type  total  hp  attack  defense  \\\n",
              "978     830  Eldegoss       Graass           None    460  60      50       90   \n",
              "\n",
              "     sp_attack  sp_defense  speed  generation  legendary  \n",
              "978         80         120     60           8      False  "
            ],
            "text/html": [
              "\n",
              "  <div id=\"df-e30fac1a-410b-4c13-8505-19224b13b7ad\">\n",
              "    <div class=\"colab-df-container\">\n",
              "      <div>\n",
              "<style scoped>\n",
              "    .dataframe tbody tr th:only-of-type {\n",
              "        vertical-align: middle;\n",
              "    }\n",
              "\n",
              "    .dataframe tbody tr th {\n",
              "        vertical-align: top;\n",
              "    }\n",
              "\n",
              "    .dataframe thead th {\n",
              "        text-align: right;\n",
              "    }\n",
              "</style>\n",
              "<table border=\"1\" class=\"dataframe\">\n",
              "  <thead>\n",
              "    <tr style=\"text-align: right;\">\n",
              "      <th></th>\n",
              "      <th>number</th>\n",
              "      <th>name</th>\n",
              "      <th>primary_type</th>\n",
              "      <th>secondary_type</th>\n",
              "      <th>total</th>\n",
              "      <th>hp</th>\n",
              "      <th>attack</th>\n",
              "      <th>defense</th>\n",
              "      <th>sp_attack</th>\n",
              "      <th>sp_defense</th>\n",
              "      <th>speed</th>\n",
              "      <th>generation</th>\n",
              "      <th>legendary</th>\n",
              "    </tr>\n",
              "  </thead>\n",
              "  <tbody>\n",
              "    <tr>\n",
              "      <th>978</th>\n",
              "      <td>830</td>\n",
              "      <td>Eldegoss</td>\n",
              "      <td>Graass</td>\n",
              "      <td>None</td>\n",
              "      <td>460</td>\n",
              "      <td>60</td>\n",
              "      <td>50</td>\n",
              "      <td>90</td>\n",
              "      <td>80</td>\n",
              "      <td>120</td>\n",
              "      <td>60</td>\n",
              "      <td>8</td>\n",
              "      <td>False</td>\n",
              "    </tr>\n",
              "  </tbody>\n",
              "</table>\n",
              "</div>\n",
              "      <button class=\"colab-df-convert\" onclick=\"convertToInteractive('df-e30fac1a-410b-4c13-8505-19224b13b7ad')\"\n",
              "              title=\"Convert this dataframe to an interactive table.\"\n",
              "              style=\"display:none;\">\n",
              "        \n",
              "  <svg xmlns=\"http://www.w3.org/2000/svg\" height=\"24px\"viewBox=\"0 0 24 24\"\n",
              "       width=\"24px\">\n",
              "    <path d=\"M0 0h24v24H0V0z\" fill=\"none\"/>\n",
              "    <path d=\"M18.56 5.44l.94 2.06.94-2.06 2.06-.94-2.06-.94-.94-2.06-.94 2.06-2.06.94zm-11 1L8.5 8.5l.94-2.06 2.06-.94-2.06-.94L8.5 2.5l-.94 2.06-2.06.94zm10 10l.94 2.06.94-2.06 2.06-.94-2.06-.94-.94-2.06-.94 2.06-2.06.94z\"/><path d=\"M17.41 7.96l-1.37-1.37c-.4-.4-.92-.59-1.43-.59-.52 0-1.04.2-1.43.59L10.3 9.45l-7.72 7.72c-.78.78-.78 2.05 0 2.83L4 21.41c.39.39.9.59 1.41.59.51 0 1.02-.2 1.41-.59l7.78-7.78 2.81-2.81c.8-.78.8-2.07 0-2.86zM5.41 20L4 18.59l7.72-7.72 1.47 1.35L5.41 20z\"/>\n",
              "  </svg>\n",
              "      </button>\n",
              "      \n",
              "  <style>\n",
              "    .colab-df-container {\n",
              "      display:flex;\n",
              "      flex-wrap:wrap;\n",
              "      gap: 12px;\n",
              "    }\n",
              "\n",
              "    .colab-df-convert {\n",
              "      background-color: #E8F0FE;\n",
              "      border: none;\n",
              "      border-radius: 50%;\n",
              "      cursor: pointer;\n",
              "      display: none;\n",
              "      fill: #1967D2;\n",
              "      height: 32px;\n",
              "      padding: 0 0 0 0;\n",
              "      width: 32px;\n",
              "    }\n",
              "\n",
              "    .colab-df-convert:hover {\n",
              "      background-color: #E2EBFA;\n",
              "      box-shadow: 0px 1px 2px rgba(60, 64, 67, 0.3), 0px 1px 3px 1px rgba(60, 64, 67, 0.15);\n",
              "      fill: #174EA6;\n",
              "    }\n",
              "\n",
              "    [theme=dark] .colab-df-convert {\n",
              "      background-color: #3B4455;\n",
              "      fill: #D2E3FC;\n",
              "    }\n",
              "\n",
              "    [theme=dark] .colab-df-convert:hover {\n",
              "      background-color: #434B5C;\n",
              "      box-shadow: 0px 1px 3px 1px rgba(0, 0, 0, 0.15);\n",
              "      filter: drop-shadow(0px 1px 2px rgba(0, 0, 0, 0.3));\n",
              "      fill: #FFFFFF;\n",
              "    }\n",
              "  </style>\n",
              "\n",
              "      <script>\n",
              "        const buttonEl =\n",
              "          document.querySelector('#df-e30fac1a-410b-4c13-8505-19224b13b7ad button.colab-df-convert');\n",
              "        buttonEl.style.display =\n",
              "          google.colab.kernel.accessAllowed ? 'block' : 'none';\n",
              "\n",
              "        async function convertToInteractive(key) {\n",
              "          const element = document.querySelector('#df-e30fac1a-410b-4c13-8505-19224b13b7ad');\n",
              "          const dataTable =\n",
              "            await google.colab.kernel.invokeFunction('convertToInteractive',\n",
              "                                                     [key], {});\n",
              "          if (!dataTable) return;\n",
              "\n",
              "          const docLinkHtml = 'Like what you see? Visit the ' +\n",
              "            '<a target=\"_blank\" href=https://colab.research.google.com/notebooks/data_table.ipynb>data table notebook</a>'\n",
              "            + ' to learn more about interactive tables.';\n",
              "          element.innerHTML = '';\n",
              "          dataTable['output_type'] = 'display_data';\n",
              "          await google.colab.output.renderOutput(dataTable, element);\n",
              "          const docLink = document.createElement('div');\n",
              "          docLink.innerHTML = docLinkHtml;\n",
              "          element.appendChild(docLink);\n",
              "        }\n",
              "      </script>\n",
              "    </div>\n",
              "  </div>\n",
              "  "
            ]
          },
          "metadata": {},
          "execution_count": 15
        }
      ]
    },
    {
      "cell_type": "code",
      "source": [
        "df.primary_type = df.primary_type.str.replace(\"Graass\", \"Grass\")"
      ],
      "metadata": {
        "id": "cfe17Enghl4t"
      },
      "execution_count": 16,
      "outputs": []
    },
    {
      "cell_type": "markdown",
      "source": [
        "For value `\"Blastoise\"`:"
      ],
      "metadata": {
        "id": "1-MVsHiPpgxW"
      }
    },
    {
      "cell_type": "code",
      "source": [
        "df.loc[df['primary_type'] == \"Blastoise\"]"
      ],
      "metadata": {
        "colab": {
          "base_uri": "https://localhost:8080/",
          "height": 81
        },
        "id": "VSk3jfB_gYTp",
        "outputId": "568a9f85-44f7-4b86-fc31-6970c2f7c925"
      },
      "execution_count": 17,
      "outputs": [
        {
          "output_type": "execute_result",
          "data": {
            "text/plain": [
              "    number                 name primary_type secondary_type  total  hp  \\\n",
              "15       9  Gigantamax Blasoise    Blastoise          Water    530  79   \n",
              "\n",
              "    attack  defense  sp_attack  sp_defense  speed  generation  legendary  \n",
              "15      83      100         85         105     78           1      False  "
            ],
            "text/html": [
              "\n",
              "  <div id=\"df-f990248d-b6c0-49db-827b-73f95f1873f7\">\n",
              "    <div class=\"colab-df-container\">\n",
              "      <div>\n",
              "<style scoped>\n",
              "    .dataframe tbody tr th:only-of-type {\n",
              "        vertical-align: middle;\n",
              "    }\n",
              "\n",
              "    .dataframe tbody tr th {\n",
              "        vertical-align: top;\n",
              "    }\n",
              "\n",
              "    .dataframe thead th {\n",
              "        text-align: right;\n",
              "    }\n",
              "</style>\n",
              "<table border=\"1\" class=\"dataframe\">\n",
              "  <thead>\n",
              "    <tr style=\"text-align: right;\">\n",
              "      <th></th>\n",
              "      <th>number</th>\n",
              "      <th>name</th>\n",
              "      <th>primary_type</th>\n",
              "      <th>secondary_type</th>\n",
              "      <th>total</th>\n",
              "      <th>hp</th>\n",
              "      <th>attack</th>\n",
              "      <th>defense</th>\n",
              "      <th>sp_attack</th>\n",
              "      <th>sp_defense</th>\n",
              "      <th>speed</th>\n",
              "      <th>generation</th>\n",
              "      <th>legendary</th>\n",
              "    </tr>\n",
              "  </thead>\n",
              "  <tbody>\n",
              "    <tr>\n",
              "      <th>15</th>\n",
              "      <td>9</td>\n",
              "      <td>Gigantamax Blasoise</td>\n",
              "      <td>Blastoise</td>\n",
              "      <td>Water</td>\n",
              "      <td>530</td>\n",
              "      <td>79</td>\n",
              "      <td>83</td>\n",
              "      <td>100</td>\n",
              "      <td>85</td>\n",
              "      <td>105</td>\n",
              "      <td>78</td>\n",
              "      <td>1</td>\n",
              "      <td>False</td>\n",
              "    </tr>\n",
              "  </tbody>\n",
              "</table>\n",
              "</div>\n",
              "      <button class=\"colab-df-convert\" onclick=\"convertToInteractive('df-f990248d-b6c0-49db-827b-73f95f1873f7')\"\n",
              "              title=\"Convert this dataframe to an interactive table.\"\n",
              "              style=\"display:none;\">\n",
              "        \n",
              "  <svg xmlns=\"http://www.w3.org/2000/svg\" height=\"24px\"viewBox=\"0 0 24 24\"\n",
              "       width=\"24px\">\n",
              "    <path d=\"M0 0h24v24H0V0z\" fill=\"none\"/>\n",
              "    <path d=\"M18.56 5.44l.94 2.06.94-2.06 2.06-.94-2.06-.94-.94-2.06-.94 2.06-2.06.94zm-11 1L8.5 8.5l.94-2.06 2.06-.94-2.06-.94L8.5 2.5l-.94 2.06-2.06.94zm10 10l.94 2.06.94-2.06 2.06-.94-2.06-.94-.94-2.06-.94 2.06-2.06.94z\"/><path d=\"M17.41 7.96l-1.37-1.37c-.4-.4-.92-.59-1.43-.59-.52 0-1.04.2-1.43.59L10.3 9.45l-7.72 7.72c-.78.78-.78 2.05 0 2.83L4 21.41c.39.39.9.59 1.41.59.51 0 1.02-.2 1.41-.59l7.78-7.78 2.81-2.81c.8-.78.8-2.07 0-2.86zM5.41 20L4 18.59l7.72-7.72 1.47 1.35L5.41 20z\"/>\n",
              "  </svg>\n",
              "      </button>\n",
              "      \n",
              "  <style>\n",
              "    .colab-df-container {\n",
              "      display:flex;\n",
              "      flex-wrap:wrap;\n",
              "      gap: 12px;\n",
              "    }\n",
              "\n",
              "    .colab-df-convert {\n",
              "      background-color: #E8F0FE;\n",
              "      border: none;\n",
              "      border-radius: 50%;\n",
              "      cursor: pointer;\n",
              "      display: none;\n",
              "      fill: #1967D2;\n",
              "      height: 32px;\n",
              "      padding: 0 0 0 0;\n",
              "      width: 32px;\n",
              "    }\n",
              "\n",
              "    .colab-df-convert:hover {\n",
              "      background-color: #E2EBFA;\n",
              "      box-shadow: 0px 1px 2px rgba(60, 64, 67, 0.3), 0px 1px 3px 1px rgba(60, 64, 67, 0.15);\n",
              "      fill: #174EA6;\n",
              "    }\n",
              "\n",
              "    [theme=dark] .colab-df-convert {\n",
              "      background-color: #3B4455;\n",
              "      fill: #D2E3FC;\n",
              "    }\n",
              "\n",
              "    [theme=dark] .colab-df-convert:hover {\n",
              "      background-color: #434B5C;\n",
              "      box-shadow: 0px 1px 3px 1px rgba(0, 0, 0, 0.15);\n",
              "      filter: drop-shadow(0px 1px 2px rgba(0, 0, 0, 0.3));\n",
              "      fill: #FFFFFF;\n",
              "    }\n",
              "  </style>\n",
              "\n",
              "      <script>\n",
              "        const buttonEl =\n",
              "          document.querySelector('#df-f990248d-b6c0-49db-827b-73f95f1873f7 button.colab-df-convert');\n",
              "        buttonEl.style.display =\n",
              "          google.colab.kernel.accessAllowed ? 'block' : 'none';\n",
              "\n",
              "        async function convertToInteractive(key) {\n",
              "          const element = document.querySelector('#df-f990248d-b6c0-49db-827b-73f95f1873f7');\n",
              "          const dataTable =\n",
              "            await google.colab.kernel.invokeFunction('convertToInteractive',\n",
              "                                                     [key], {});\n",
              "          if (!dataTable) return;\n",
              "\n",
              "          const docLinkHtml = 'Like what you see? Visit the ' +\n",
              "            '<a target=\"_blank\" href=https://colab.research.google.com/notebooks/data_table.ipynb>data table notebook</a>'\n",
              "            + ' to learn more about interactive tables.';\n",
              "          element.innerHTML = '';\n",
              "          dataTable['output_type'] = 'display_data';\n",
              "          await google.colab.output.renderOutput(dataTable, element);\n",
              "          const docLink = document.createElement('div');\n",
              "          docLink.innerHTML = docLinkHtml;\n",
              "          element.appendChild(docLink);\n",
              "        }\n",
              "      </script>\n",
              "    </div>\n",
              "  </div>\n",
              "  "
            ]
          },
          "metadata": {},
          "execution_count": 17
        }
      ]
    },
    {
      "cell_type": "code",
      "source": [
        "df.loc[15,[\"primary_type\",\"secondary_type\"]] = [\"Water\", \"None\"]"
      ],
      "metadata": {
        "id": "kp30yfVMh1rg"
      },
      "execution_count": 18,
      "outputs": []
    },
    {
      "cell_type": "markdown",
      "source": [
        "Check if the changes have been updated correctly."
      ],
      "metadata": {
        "id": "eIgrtRvIiP_Q"
      }
    },
    {
      "cell_type": "code",
      "source": [
        "print(\"Pokemon Names:\", len(df[\"name\"].unique()))\n",
        "print(\"Pokedex Numbers:\", len(df[\"number\"].unique()))\n",
        "print(\"Primary Types:\", len(df[\"primary_type\"].unique()))\n",
        "print(\"Secondary Types:\", len(df[\"secondary_type\"].unique()))\n",
        "print(\"Generations:\", len(df[\"generation\"].unique()))\n",
        "print(\"Legendary:\", len(df[\"legendary\"].unique()))"
      ],
      "metadata": {
        "colab": {
          "base_uri": "https://localhost:8080/"
        },
        "id": "4CGLHeXDiRBP",
        "outputId": "06d7af2d-631a-46e0-d34d-3cece5dcfee0"
      },
      "execution_count": 19,
      "outputs": [
        {
          "output_type": "stream",
          "name": "stdout",
          "text": [
            "Pokemon Names: 1072\n",
            "Pokedex Numbers: 898\n",
            "Primary Types: 18\n",
            "Secondary Types: 19\n",
            "Generations: 8\n",
            "Legendary: 2\n"
          ]
        }
      ]
    },
    {
      "cell_type": "markdown",
      "source": [
        "## Step 8: Adjust Index\n",
        "\n",
        "Adjust dataframe index to `\"name\"`."
      ],
      "metadata": {
        "id": "hnthHTusWRdA"
      }
    },
    {
      "cell_type": "code",
      "source": [
        "df.set_index(\"name\")"
      ],
      "metadata": {
        "colab": {
          "base_uri": "https://localhost:8080/",
          "height": 455
        },
        "id": "cqpmMBwcUEVY",
        "outputId": "292208b0-286b-410d-f245-b3fab37066b0"
      },
      "execution_count": 20,
      "outputs": [
        {
          "output_type": "execute_result",
          "data": {
            "text/plain": [
              "                      number primary_type secondary_type  total   hp  attack  \\\n",
              "name                                                                           \n",
              "Bulbasaur                  1        Grass         Poison    318   45      49   \n",
              "Ivysaur                    2        Grass         Poison    405   60      62   \n",
              "Venusaur                   3        Grass         Poison    525   80      82   \n",
              "Mega Venusaur              3        Grass         Poison    625   80     100   \n",
              "Gigantamax Venusaur        3        Grass         Poison    525   80      82   \n",
              "...                      ...          ...            ...    ...  ...     ...   \n",
              "Glastrier                896          Ice           None    580  100     145   \n",
              "Spectrier                897        Ghost           None    580  100      65   \n",
              "Calyrex                  898      Psychic          Grass    500  100      80   \n",
              "Ice Rider Calyrex        898      Psychic            Ice    680  100     165   \n",
              "Shadow Rider Calyrex     898      Psychic          Ghost    680  100      85   \n",
              "\n",
              "                      defense  sp_attack  sp_defense  speed  generation  \\\n",
              "name                                                                      \n",
              "Bulbasaur                  49         65          65     45           1   \n",
              "Ivysaur                    63         80          80     60           1   \n",
              "Venusaur                   83        100         100     80           1   \n",
              "Mega Venusaur             123        122         120     80           1   \n",
              "Gigantamax Venusaur        83        100         100     80           1   \n",
              "...                       ...        ...         ...    ...         ...   \n",
              "Glastrier                 130         65         110     30           8   \n",
              "Spectrier                  60        145          80    130           8   \n",
              "Calyrex                    80         80          80     80           8   \n",
              "Ice Rider Calyrex         150         85         130     50           8   \n",
              "Shadow Rider Calyrex       80        165         100    150           8   \n",
              "\n",
              "                      legendary  \n",
              "name                             \n",
              "Bulbasaur                 False  \n",
              "Ivysaur                   False  \n",
              "Venusaur                  False  \n",
              "Mega Venusaur             False  \n",
              "Gigantamax Venusaur       False  \n",
              "...                         ...  \n",
              "Glastrier                  True  \n",
              "Spectrier                  True  \n",
              "Calyrex                    True  \n",
              "Ice Rider Calyrex          True  \n",
              "Shadow Rider Calyrex       True  \n",
              "\n",
              "[1072 rows x 12 columns]"
            ],
            "text/html": [
              "\n",
              "  <div id=\"df-c6f8aaa6-392b-4efb-999a-9ada18499078\">\n",
              "    <div class=\"colab-df-container\">\n",
              "      <div>\n",
              "<style scoped>\n",
              "    .dataframe tbody tr th:only-of-type {\n",
              "        vertical-align: middle;\n",
              "    }\n",
              "\n",
              "    .dataframe tbody tr th {\n",
              "        vertical-align: top;\n",
              "    }\n",
              "\n",
              "    .dataframe thead th {\n",
              "        text-align: right;\n",
              "    }\n",
              "</style>\n",
              "<table border=\"1\" class=\"dataframe\">\n",
              "  <thead>\n",
              "    <tr style=\"text-align: right;\">\n",
              "      <th></th>\n",
              "      <th>number</th>\n",
              "      <th>primary_type</th>\n",
              "      <th>secondary_type</th>\n",
              "      <th>total</th>\n",
              "      <th>hp</th>\n",
              "      <th>attack</th>\n",
              "      <th>defense</th>\n",
              "      <th>sp_attack</th>\n",
              "      <th>sp_defense</th>\n",
              "      <th>speed</th>\n",
              "      <th>generation</th>\n",
              "      <th>legendary</th>\n",
              "    </tr>\n",
              "    <tr>\n",
              "      <th>name</th>\n",
              "      <th></th>\n",
              "      <th></th>\n",
              "      <th></th>\n",
              "      <th></th>\n",
              "      <th></th>\n",
              "      <th></th>\n",
              "      <th></th>\n",
              "      <th></th>\n",
              "      <th></th>\n",
              "      <th></th>\n",
              "      <th></th>\n",
              "      <th></th>\n",
              "    </tr>\n",
              "  </thead>\n",
              "  <tbody>\n",
              "    <tr>\n",
              "      <th>Bulbasaur</th>\n",
              "      <td>1</td>\n",
              "      <td>Grass</td>\n",
              "      <td>Poison</td>\n",
              "      <td>318</td>\n",
              "      <td>45</td>\n",
              "      <td>49</td>\n",
              "      <td>49</td>\n",
              "      <td>65</td>\n",
              "      <td>65</td>\n",
              "      <td>45</td>\n",
              "      <td>1</td>\n",
              "      <td>False</td>\n",
              "    </tr>\n",
              "    <tr>\n",
              "      <th>Ivysaur</th>\n",
              "      <td>2</td>\n",
              "      <td>Grass</td>\n",
              "      <td>Poison</td>\n",
              "      <td>405</td>\n",
              "      <td>60</td>\n",
              "      <td>62</td>\n",
              "      <td>63</td>\n",
              "      <td>80</td>\n",
              "      <td>80</td>\n",
              "      <td>60</td>\n",
              "      <td>1</td>\n",
              "      <td>False</td>\n",
              "    </tr>\n",
              "    <tr>\n",
              "      <th>Venusaur</th>\n",
              "      <td>3</td>\n",
              "      <td>Grass</td>\n",
              "      <td>Poison</td>\n",
              "      <td>525</td>\n",
              "      <td>80</td>\n",
              "      <td>82</td>\n",
              "      <td>83</td>\n",
              "      <td>100</td>\n",
              "      <td>100</td>\n",
              "      <td>80</td>\n",
              "      <td>1</td>\n",
              "      <td>False</td>\n",
              "    </tr>\n",
              "    <tr>\n",
              "      <th>Mega Venusaur</th>\n",
              "      <td>3</td>\n",
              "      <td>Grass</td>\n",
              "      <td>Poison</td>\n",
              "      <td>625</td>\n",
              "      <td>80</td>\n",
              "      <td>100</td>\n",
              "      <td>123</td>\n",
              "      <td>122</td>\n",
              "      <td>120</td>\n",
              "      <td>80</td>\n",
              "      <td>1</td>\n",
              "      <td>False</td>\n",
              "    </tr>\n",
              "    <tr>\n",
              "      <th>Gigantamax Venusaur</th>\n",
              "      <td>3</td>\n",
              "      <td>Grass</td>\n",
              "      <td>Poison</td>\n",
              "      <td>525</td>\n",
              "      <td>80</td>\n",
              "      <td>82</td>\n",
              "      <td>83</td>\n",
              "      <td>100</td>\n",
              "      <td>100</td>\n",
              "      <td>80</td>\n",
              "      <td>1</td>\n",
              "      <td>False</td>\n",
              "    </tr>\n",
              "    <tr>\n",
              "      <th>...</th>\n",
              "      <td>...</td>\n",
              "      <td>...</td>\n",
              "      <td>...</td>\n",
              "      <td>...</td>\n",
              "      <td>...</td>\n",
              "      <td>...</td>\n",
              "      <td>...</td>\n",
              "      <td>...</td>\n",
              "      <td>...</td>\n",
              "      <td>...</td>\n",
              "      <td>...</td>\n",
              "      <td>...</td>\n",
              "    </tr>\n",
              "    <tr>\n",
              "      <th>Glastrier</th>\n",
              "      <td>896</td>\n",
              "      <td>Ice</td>\n",
              "      <td>None</td>\n",
              "      <td>580</td>\n",
              "      <td>100</td>\n",
              "      <td>145</td>\n",
              "      <td>130</td>\n",
              "      <td>65</td>\n",
              "      <td>110</td>\n",
              "      <td>30</td>\n",
              "      <td>8</td>\n",
              "      <td>True</td>\n",
              "    </tr>\n",
              "    <tr>\n",
              "      <th>Spectrier</th>\n",
              "      <td>897</td>\n",
              "      <td>Ghost</td>\n",
              "      <td>None</td>\n",
              "      <td>580</td>\n",
              "      <td>100</td>\n",
              "      <td>65</td>\n",
              "      <td>60</td>\n",
              "      <td>145</td>\n",
              "      <td>80</td>\n",
              "      <td>130</td>\n",
              "      <td>8</td>\n",
              "      <td>True</td>\n",
              "    </tr>\n",
              "    <tr>\n",
              "      <th>Calyrex</th>\n",
              "      <td>898</td>\n",
              "      <td>Psychic</td>\n",
              "      <td>Grass</td>\n",
              "      <td>500</td>\n",
              "      <td>100</td>\n",
              "      <td>80</td>\n",
              "      <td>80</td>\n",
              "      <td>80</td>\n",
              "      <td>80</td>\n",
              "      <td>80</td>\n",
              "      <td>8</td>\n",
              "      <td>True</td>\n",
              "    </tr>\n",
              "    <tr>\n",
              "      <th>Ice Rider Calyrex</th>\n",
              "      <td>898</td>\n",
              "      <td>Psychic</td>\n",
              "      <td>Ice</td>\n",
              "      <td>680</td>\n",
              "      <td>100</td>\n",
              "      <td>165</td>\n",
              "      <td>150</td>\n",
              "      <td>85</td>\n",
              "      <td>130</td>\n",
              "      <td>50</td>\n",
              "      <td>8</td>\n",
              "      <td>True</td>\n",
              "    </tr>\n",
              "    <tr>\n",
              "      <th>Shadow Rider Calyrex</th>\n",
              "      <td>898</td>\n",
              "      <td>Psychic</td>\n",
              "      <td>Ghost</td>\n",
              "      <td>680</td>\n",
              "      <td>100</td>\n",
              "      <td>85</td>\n",
              "      <td>80</td>\n",
              "      <td>165</td>\n",
              "      <td>100</td>\n",
              "      <td>150</td>\n",
              "      <td>8</td>\n",
              "      <td>True</td>\n",
              "    </tr>\n",
              "  </tbody>\n",
              "</table>\n",
              "<p>1072 rows × 12 columns</p>\n",
              "</div>\n",
              "      <button class=\"colab-df-convert\" onclick=\"convertToInteractive('df-c6f8aaa6-392b-4efb-999a-9ada18499078')\"\n",
              "              title=\"Convert this dataframe to an interactive table.\"\n",
              "              style=\"display:none;\">\n",
              "        \n",
              "  <svg xmlns=\"http://www.w3.org/2000/svg\" height=\"24px\"viewBox=\"0 0 24 24\"\n",
              "       width=\"24px\">\n",
              "    <path d=\"M0 0h24v24H0V0z\" fill=\"none\"/>\n",
              "    <path d=\"M18.56 5.44l.94 2.06.94-2.06 2.06-.94-2.06-.94-.94-2.06-.94 2.06-2.06.94zm-11 1L8.5 8.5l.94-2.06 2.06-.94-2.06-.94L8.5 2.5l-.94 2.06-2.06.94zm10 10l.94 2.06.94-2.06 2.06-.94-2.06-.94-.94-2.06-.94 2.06-2.06.94z\"/><path d=\"M17.41 7.96l-1.37-1.37c-.4-.4-.92-.59-1.43-.59-.52 0-1.04.2-1.43.59L10.3 9.45l-7.72 7.72c-.78.78-.78 2.05 0 2.83L4 21.41c.39.39.9.59 1.41.59.51 0 1.02-.2 1.41-.59l7.78-7.78 2.81-2.81c.8-.78.8-2.07 0-2.86zM5.41 20L4 18.59l7.72-7.72 1.47 1.35L5.41 20z\"/>\n",
              "  </svg>\n",
              "      </button>\n",
              "      \n",
              "  <style>\n",
              "    .colab-df-container {\n",
              "      display:flex;\n",
              "      flex-wrap:wrap;\n",
              "      gap: 12px;\n",
              "    }\n",
              "\n",
              "    .colab-df-convert {\n",
              "      background-color: #E8F0FE;\n",
              "      border: none;\n",
              "      border-radius: 50%;\n",
              "      cursor: pointer;\n",
              "      display: none;\n",
              "      fill: #1967D2;\n",
              "      height: 32px;\n",
              "      padding: 0 0 0 0;\n",
              "      width: 32px;\n",
              "    }\n",
              "\n",
              "    .colab-df-convert:hover {\n",
              "      background-color: #E2EBFA;\n",
              "      box-shadow: 0px 1px 2px rgba(60, 64, 67, 0.3), 0px 1px 3px 1px rgba(60, 64, 67, 0.15);\n",
              "      fill: #174EA6;\n",
              "    }\n",
              "\n",
              "    [theme=dark] .colab-df-convert {\n",
              "      background-color: #3B4455;\n",
              "      fill: #D2E3FC;\n",
              "    }\n",
              "\n",
              "    [theme=dark] .colab-df-convert:hover {\n",
              "      background-color: #434B5C;\n",
              "      box-shadow: 0px 1px 3px 1px rgba(0, 0, 0, 0.15);\n",
              "      filter: drop-shadow(0px 1px 2px rgba(0, 0, 0, 0.3));\n",
              "      fill: #FFFFFF;\n",
              "    }\n",
              "  </style>\n",
              "\n",
              "      <script>\n",
              "        const buttonEl =\n",
              "          document.querySelector('#df-c6f8aaa6-392b-4efb-999a-9ada18499078 button.colab-df-convert');\n",
              "        buttonEl.style.display =\n",
              "          google.colab.kernel.accessAllowed ? 'block' : 'none';\n",
              "\n",
              "        async function convertToInteractive(key) {\n",
              "          const element = document.querySelector('#df-c6f8aaa6-392b-4efb-999a-9ada18499078');\n",
              "          const dataTable =\n",
              "            await google.colab.kernel.invokeFunction('convertToInteractive',\n",
              "                                                     [key], {});\n",
              "          if (!dataTable) return;\n",
              "\n",
              "          const docLinkHtml = 'Like what you see? Visit the ' +\n",
              "            '<a target=\"_blank\" href=https://colab.research.google.com/notebooks/data_table.ipynb>data table notebook</a>'\n",
              "            + ' to learn more about interactive tables.';\n",
              "          element.innerHTML = '';\n",
              "          dataTable['output_type'] = 'display_data';\n",
              "          await google.colab.output.renderOutput(dataTable, element);\n",
              "          const docLink = document.createElement('div');\n",
              "          docLink.innerHTML = docLinkHtml;\n",
              "          element.appendChild(docLink);\n",
              "        }\n",
              "      </script>\n",
              "    </div>\n",
              "  </div>\n",
              "  "
            ]
          },
          "metadata": {},
          "execution_count": 20
        }
      ]
    },
    {
      "cell_type": "markdown",
      "source": [
        "<h1 align=\"center\">Data Analysis</h1>"
      ],
      "metadata": {
        "id": "-ZXiMr0iT83g"
      }
    },
    {
      "cell_type": "markdown",
      "source": [
        "## Step 8: Frequency\n",
        "\n",
        "Now, after seeing the unique types are let's find out what the value counts are for the primary type and secondary type."
      ],
      "metadata": {
        "id": "Aj3bAXGZVlrY"
      }
    },
    {
      "cell_type": "code",
      "source": [
        "print(df[\"primary_type\"].value_counts())\n",
        "print(df[\"secondary_type\"].value_counts())"
      ],
      "metadata": {
        "colab": {
          "base_uri": "https://localhost:8080/"
        },
        "id": "LANYIl4VVmal",
        "outputId": "748aae5c-fd50-4dba-bbfc-9ccda1a9e0b2"
      },
      "execution_count": 21,
      "outputs": [
        {
          "output_type": "stream",
          "name": "stdout",
          "text": [
            "Water       137\n",
            "Normal      117\n",
            "Grass        95\n",
            "Bug          83\n",
            "Psychic      80\n",
            "Fire         67\n",
            "Electric     63\n",
            "Rock         60\n",
            "Dark         48\n",
            "Fighting     45\n",
            "Ghost        43\n",
            "Poison       42\n",
            "Ground       42\n",
            "Dragon       41\n",
            "Steel        39\n",
            "Ice          38\n",
            "Fairy        23\n",
            "Flying        9\n",
            "Name: primary_type, dtype: int64\n",
            "None        499\n",
            "Flying      114\n",
            "Fairy        44\n",
            "Psychic      43\n",
            "Poison       41\n",
            "Ground       39\n",
            "Steel        36\n",
            "Dragon       35\n",
            "Fighting     32\n",
            "Grass        29\n",
            "Dark         28\n",
            "Ghost        26\n",
            "Water        21\n",
            "Ice          19\n",
            "Fire         18\n",
            "Rock         16\n",
            "Normal       11\n",
            "Electric     11\n",
            "Bug          10\n",
            "Name: secondary_type, dtype: int64\n"
          ]
        }
      ]
    },
    {
      "cell_type": "code",
      "source": [
        "print(df[\"primary_type\"].value_counts() + df[\"secondary_type\"].value_counts())"
      ],
      "metadata": {
        "id": "xc-1XqJAQ6Ez",
        "outputId": "e417f809-4a62-4916-b71b-eca9d0828319",
        "colab": {
          "base_uri": "https://localhost:8080/"
        }
      },
      "execution_count": 93,
      "outputs": [
        {
          "output_type": "stream",
          "name": "stdout",
          "text": [
            "Bug          93.0\n",
            "Dark         76.0\n",
            "Dragon       76.0\n",
            "Electric     74.0\n",
            "Fairy        67.0\n",
            "Fighting     77.0\n",
            "Fire         85.0\n",
            "Flying      123.0\n",
            "Ghost        69.0\n",
            "Grass       124.0\n",
            "Ground       81.0\n",
            "Ice          57.0\n",
            "None          NaN\n",
            "Normal      128.0\n",
            "Poison       83.0\n",
            "Psychic     123.0\n",
            "Rock         76.0\n",
            "Steel        75.0\n",
            "Water       158.0\n",
            "dtype: float64\n"
          ]
        }
      ]
    },
    {
      "cell_type": "markdown",
      "source": [
        "We can conclude that the highest frequency for the primary type belongs to `\"Water\"` and for the secondary type `\"None\"`. On the other hand, the lowest frequency for the primary type belongs to `\"Flying\"` and for the secondary type `\"Bug\"`. "
      ],
      "metadata": {
        "id": "j3z9IabX78hr"
      }
    },
    {
      "cell_type": "markdown",
      "source": [
        "## Step 9: Strongest and Weakest"
      ],
      "metadata": {
        "id": "cQ13nwnPV77s"
      }
    },
    {
      "cell_type": "markdown",
      "source": [
        "Let's find out which Pokemon are the strongest."
      ],
      "metadata": {
        "id": "LpWDDh_1AYHb"
      }
    },
    {
      "cell_type": "code",
      "source": [
        "strongest = df.sort_values(by=\"total\", ascending=False)\n",
        "strongest.head(10)"
      ],
      "metadata": {
        "id": "oqVjkQEoADiu",
        "outputId": "de63af69-ba06-4c9f-d6c3-e327ccee5fb8",
        "colab": {
          "base_uri": "https://localhost:8080/",
          "height": 363
        }
      },
      "execution_count": 81,
      "outputs": [
        {
          "output_type": "execute_result",
          "data": {
            "text/plain": [
              "      number                            name primary_type secondary_type  \\\n",
              "1057     890             Eternamax Eternatus       Poison         Dragon   \n",
              "204      150                   Mega Mewtwo X      Psychic       Fighting   \n",
              "471      384                   Mega Rayquaza       Dragon         Flying   \n",
              "205      150                   Mega Mewtwo Y      Psychic           None   \n",
              "467      382                   Primal Kyogre        Water           None   \n",
              "469      383                  Primal Groudon       Ground           Fire   \n",
              "942      800                  Ultra Necrozma      Psychic         Dragon   \n",
              "597      493                          Arceus       Normal           None   \n",
              "1053     888      Zacian Crowned Sword Forme        Fairy          Steel   \n",
              "1055     889  Zamazenta Crowned Sheild Forme     Fighting          Steel   \n",
              "\n",
              "      total   hp  attack  defense  sp_attack  sp_defense  speed  generation  \\\n",
              "1057   1125  255     115      250        125         250    130           8   \n",
              "204     780  106     190      100        154         100    130           1   \n",
              "471     780  105     180      100        180         100    115           3   \n",
              "205     780  106     150       70        194         120    140           1   \n",
              "467     770  100     150       90        180         160     90           3   \n",
              "469     770  100     180      160        150          90     90           3   \n",
              "942     754   97     167       97        167          97    129           7   \n",
              "597     720  120     120      120        120         120    120           4   \n",
              "1053    720   92     170      115         80         115    148           8   \n",
              "1055    720   92     130      145         80         145    128           8   \n",
              "\n",
              "      legendary  \n",
              "1057       True  \n",
              "204        True  \n",
              "471        True  \n",
              "205        True  \n",
              "467        True  \n",
              "469        True  \n",
              "942        True  \n",
              "597        True  \n",
              "1053       True  \n",
              "1055       True  "
            ],
            "text/html": [
              "\n",
              "  <div id=\"df-1dfd58a9-90e3-496a-94ff-dc12b291ced4\">\n",
              "    <div class=\"colab-df-container\">\n",
              "      <div>\n",
              "<style scoped>\n",
              "    .dataframe tbody tr th:only-of-type {\n",
              "        vertical-align: middle;\n",
              "    }\n",
              "\n",
              "    .dataframe tbody tr th {\n",
              "        vertical-align: top;\n",
              "    }\n",
              "\n",
              "    .dataframe thead th {\n",
              "        text-align: right;\n",
              "    }\n",
              "</style>\n",
              "<table border=\"1\" class=\"dataframe\">\n",
              "  <thead>\n",
              "    <tr style=\"text-align: right;\">\n",
              "      <th></th>\n",
              "      <th>number</th>\n",
              "      <th>name</th>\n",
              "      <th>primary_type</th>\n",
              "      <th>secondary_type</th>\n",
              "      <th>total</th>\n",
              "      <th>hp</th>\n",
              "      <th>attack</th>\n",
              "      <th>defense</th>\n",
              "      <th>sp_attack</th>\n",
              "      <th>sp_defense</th>\n",
              "      <th>speed</th>\n",
              "      <th>generation</th>\n",
              "      <th>legendary</th>\n",
              "    </tr>\n",
              "  </thead>\n",
              "  <tbody>\n",
              "    <tr>\n",
              "      <th>1057</th>\n",
              "      <td>890</td>\n",
              "      <td>Eternamax Eternatus</td>\n",
              "      <td>Poison</td>\n",
              "      <td>Dragon</td>\n",
              "      <td>1125</td>\n",
              "      <td>255</td>\n",
              "      <td>115</td>\n",
              "      <td>250</td>\n",
              "      <td>125</td>\n",
              "      <td>250</td>\n",
              "      <td>130</td>\n",
              "      <td>8</td>\n",
              "      <td>True</td>\n",
              "    </tr>\n",
              "    <tr>\n",
              "      <th>204</th>\n",
              "      <td>150</td>\n",
              "      <td>Mega Mewtwo X</td>\n",
              "      <td>Psychic</td>\n",
              "      <td>Fighting</td>\n",
              "      <td>780</td>\n",
              "      <td>106</td>\n",
              "      <td>190</td>\n",
              "      <td>100</td>\n",
              "      <td>154</td>\n",
              "      <td>100</td>\n",
              "      <td>130</td>\n",
              "      <td>1</td>\n",
              "      <td>True</td>\n",
              "    </tr>\n",
              "    <tr>\n",
              "      <th>471</th>\n",
              "      <td>384</td>\n",
              "      <td>Mega Rayquaza</td>\n",
              "      <td>Dragon</td>\n",
              "      <td>Flying</td>\n",
              "      <td>780</td>\n",
              "      <td>105</td>\n",
              "      <td>180</td>\n",
              "      <td>100</td>\n",
              "      <td>180</td>\n",
              "      <td>100</td>\n",
              "      <td>115</td>\n",
              "      <td>3</td>\n",
              "      <td>True</td>\n",
              "    </tr>\n",
              "    <tr>\n",
              "      <th>205</th>\n",
              "      <td>150</td>\n",
              "      <td>Mega Mewtwo Y</td>\n",
              "      <td>Psychic</td>\n",
              "      <td>None</td>\n",
              "      <td>780</td>\n",
              "      <td>106</td>\n",
              "      <td>150</td>\n",
              "      <td>70</td>\n",
              "      <td>194</td>\n",
              "      <td>120</td>\n",
              "      <td>140</td>\n",
              "      <td>1</td>\n",
              "      <td>True</td>\n",
              "    </tr>\n",
              "    <tr>\n",
              "      <th>467</th>\n",
              "      <td>382</td>\n",
              "      <td>Primal Kyogre</td>\n",
              "      <td>Water</td>\n",
              "      <td>None</td>\n",
              "      <td>770</td>\n",
              "      <td>100</td>\n",
              "      <td>150</td>\n",
              "      <td>90</td>\n",
              "      <td>180</td>\n",
              "      <td>160</td>\n",
              "      <td>90</td>\n",
              "      <td>3</td>\n",
              "      <td>True</td>\n",
              "    </tr>\n",
              "    <tr>\n",
              "      <th>469</th>\n",
              "      <td>383</td>\n",
              "      <td>Primal Groudon</td>\n",
              "      <td>Ground</td>\n",
              "      <td>Fire</td>\n",
              "      <td>770</td>\n",
              "      <td>100</td>\n",
              "      <td>180</td>\n",
              "      <td>160</td>\n",
              "      <td>150</td>\n",
              "      <td>90</td>\n",
              "      <td>90</td>\n",
              "      <td>3</td>\n",
              "      <td>True</td>\n",
              "    </tr>\n",
              "    <tr>\n",
              "      <th>942</th>\n",
              "      <td>800</td>\n",
              "      <td>Ultra Necrozma</td>\n",
              "      <td>Psychic</td>\n",
              "      <td>Dragon</td>\n",
              "      <td>754</td>\n",
              "      <td>97</td>\n",
              "      <td>167</td>\n",
              "      <td>97</td>\n",
              "      <td>167</td>\n",
              "      <td>97</td>\n",
              "      <td>129</td>\n",
              "      <td>7</td>\n",
              "      <td>True</td>\n",
              "    </tr>\n",
              "    <tr>\n",
              "      <th>597</th>\n",
              "      <td>493</td>\n",
              "      <td>Arceus</td>\n",
              "      <td>Normal</td>\n",
              "      <td>None</td>\n",
              "      <td>720</td>\n",
              "      <td>120</td>\n",
              "      <td>120</td>\n",
              "      <td>120</td>\n",
              "      <td>120</td>\n",
              "      <td>120</td>\n",
              "      <td>120</td>\n",
              "      <td>4</td>\n",
              "      <td>True</td>\n",
              "    </tr>\n",
              "    <tr>\n",
              "      <th>1053</th>\n",
              "      <td>888</td>\n",
              "      <td>Zacian Crowned Sword Forme</td>\n",
              "      <td>Fairy</td>\n",
              "      <td>Steel</td>\n",
              "      <td>720</td>\n",
              "      <td>92</td>\n",
              "      <td>170</td>\n",
              "      <td>115</td>\n",
              "      <td>80</td>\n",
              "      <td>115</td>\n",
              "      <td>148</td>\n",
              "      <td>8</td>\n",
              "      <td>True</td>\n",
              "    </tr>\n",
              "    <tr>\n",
              "      <th>1055</th>\n",
              "      <td>889</td>\n",
              "      <td>Zamazenta Crowned Sheild Forme</td>\n",
              "      <td>Fighting</td>\n",
              "      <td>Steel</td>\n",
              "      <td>720</td>\n",
              "      <td>92</td>\n",
              "      <td>130</td>\n",
              "      <td>145</td>\n",
              "      <td>80</td>\n",
              "      <td>145</td>\n",
              "      <td>128</td>\n",
              "      <td>8</td>\n",
              "      <td>True</td>\n",
              "    </tr>\n",
              "  </tbody>\n",
              "</table>\n",
              "</div>\n",
              "      <button class=\"colab-df-convert\" onclick=\"convertToInteractive('df-1dfd58a9-90e3-496a-94ff-dc12b291ced4')\"\n",
              "              title=\"Convert this dataframe to an interactive table.\"\n",
              "              style=\"display:none;\">\n",
              "        \n",
              "  <svg xmlns=\"http://www.w3.org/2000/svg\" height=\"24px\"viewBox=\"0 0 24 24\"\n",
              "       width=\"24px\">\n",
              "    <path d=\"M0 0h24v24H0V0z\" fill=\"none\"/>\n",
              "    <path d=\"M18.56 5.44l.94 2.06.94-2.06 2.06-.94-2.06-.94-.94-2.06-.94 2.06-2.06.94zm-11 1L8.5 8.5l.94-2.06 2.06-.94-2.06-.94L8.5 2.5l-.94 2.06-2.06.94zm10 10l.94 2.06.94-2.06 2.06-.94-2.06-.94-.94-2.06-.94 2.06-2.06.94z\"/><path d=\"M17.41 7.96l-1.37-1.37c-.4-.4-.92-.59-1.43-.59-.52 0-1.04.2-1.43.59L10.3 9.45l-7.72 7.72c-.78.78-.78 2.05 0 2.83L4 21.41c.39.39.9.59 1.41.59.51 0 1.02-.2 1.41-.59l7.78-7.78 2.81-2.81c.8-.78.8-2.07 0-2.86zM5.41 20L4 18.59l7.72-7.72 1.47 1.35L5.41 20z\"/>\n",
              "  </svg>\n",
              "      </button>\n",
              "      \n",
              "  <style>\n",
              "    .colab-df-container {\n",
              "      display:flex;\n",
              "      flex-wrap:wrap;\n",
              "      gap: 12px;\n",
              "    }\n",
              "\n",
              "    .colab-df-convert {\n",
              "      background-color: #E8F0FE;\n",
              "      border: none;\n",
              "      border-radius: 50%;\n",
              "      cursor: pointer;\n",
              "      display: none;\n",
              "      fill: #1967D2;\n",
              "      height: 32px;\n",
              "      padding: 0 0 0 0;\n",
              "      width: 32px;\n",
              "    }\n",
              "\n",
              "    .colab-df-convert:hover {\n",
              "      background-color: #E2EBFA;\n",
              "      box-shadow: 0px 1px 2px rgba(60, 64, 67, 0.3), 0px 1px 3px 1px rgba(60, 64, 67, 0.15);\n",
              "      fill: #174EA6;\n",
              "    }\n",
              "\n",
              "    [theme=dark] .colab-df-convert {\n",
              "      background-color: #3B4455;\n",
              "      fill: #D2E3FC;\n",
              "    }\n",
              "\n",
              "    [theme=dark] .colab-df-convert:hover {\n",
              "      background-color: #434B5C;\n",
              "      box-shadow: 0px 1px 3px 1px rgba(0, 0, 0, 0.15);\n",
              "      filter: drop-shadow(0px 1px 2px rgba(0, 0, 0, 0.3));\n",
              "      fill: #FFFFFF;\n",
              "    }\n",
              "  </style>\n",
              "\n",
              "      <script>\n",
              "        const buttonEl =\n",
              "          document.querySelector('#df-1dfd58a9-90e3-496a-94ff-dc12b291ced4 button.colab-df-convert');\n",
              "        buttonEl.style.display =\n",
              "          google.colab.kernel.accessAllowed ? 'block' : 'none';\n",
              "\n",
              "        async function convertToInteractive(key) {\n",
              "          const element = document.querySelector('#df-1dfd58a9-90e3-496a-94ff-dc12b291ced4');\n",
              "          const dataTable =\n",
              "            await google.colab.kernel.invokeFunction('convertToInteractive',\n",
              "                                                     [key], {});\n",
              "          if (!dataTable) return;\n",
              "\n",
              "          const docLinkHtml = 'Like what you see? Visit the ' +\n",
              "            '<a target=\"_blank\" href=https://colab.research.google.com/notebooks/data_table.ipynb>data table notebook</a>'\n",
              "            + ' to learn more about interactive tables.';\n",
              "          element.innerHTML = '';\n",
              "          dataTable['output_type'] = 'display_data';\n",
              "          await google.colab.output.renderOutput(dataTable, element);\n",
              "          const docLink = document.createElement('div');\n",
              "          docLink.innerHTML = docLinkHtml;\n",
              "          element.appendChild(docLink);\n",
              "        }\n",
              "      </script>\n",
              "    </div>\n",
              "  </div>\n",
              "  "
            ]
          },
          "metadata": {},
          "execution_count": 81
        }
      ]
    },
    {
      "cell_type": "markdown",
      "source": [
        "Let's find out which Pokemon are the weakest."
      ],
      "metadata": {
        "id": "Z9ev8_pfAlra"
      }
    },
    {
      "cell_type": "code",
      "source": [
        "weakest = df.sort_values(by=\"total\")\n",
        "weakest.head(10)"
      ],
      "metadata": {
        "id": "QP4Mf8fUApZD",
        "outputId": "99f5f63b-1414-4dfe-8b4d-a0eb1aeb9d72",
        "colab": {
          "base_uri": "https://localhost:8080/",
          "height": 363
        }
      },
      "execution_count": 26,
      "outputs": [
        {
          "output_type": "execute_result",
          "data": {
            "text/plain": [
              "      number                   name primary_type secondary_type  total  hp  \\\n",
              "883      746  Wishiwashi Solo Forme        Water           None    175  45   \n",
              "247      191                Sunkern        Grass           None    180  30   \n",
              "971      824                Blipbug          Bug           None    180  25   \n",
              "1031     872                   Snom          Ice            Bug    185  30   \n",
              "367      298                Azurill       Normal          Fairy    190  50   \n",
              "491      401              Kricketot          Bug           None    194  37   \n",
              "333      265                Wurmple          Bug           None    195  45   \n",
              "20        13                 Weedle          Bug         Poison    195  40   \n",
              "16        10               Caterpie          Bug           None    195  45   \n",
              "348      280                  Ralts      Psychic          Fairy    198  28   \n",
              "\n",
              "      attack  defense  sp_attack  sp_defense  speed  generation  legendary  \n",
              "883       20       20         25          25     40           7      False  \n",
              "247       30       30         30          30     30           2      False  \n",
              "971       20       20         25          45     45           8      False  \n",
              "1031      25       35         45          30     20           8      False  \n",
              "367       20       40         20          40     20           3      False  \n",
              "491       25       41         25          41     25           4      False  \n",
              "333       45       35         20          30     20           3      False  \n",
              "20        35       30         20          20     50           1      False  \n",
              "16        30       35         20          20     45           1      False  \n",
              "348       25       25         45          35     40           3      False  "
            ],
            "text/html": [
              "\n",
              "  <div id=\"df-d43e1dfe-1028-4fd0-ae34-3a3fdaf7a46b\">\n",
              "    <div class=\"colab-df-container\">\n",
              "      <div>\n",
              "<style scoped>\n",
              "    .dataframe tbody tr th:only-of-type {\n",
              "        vertical-align: middle;\n",
              "    }\n",
              "\n",
              "    .dataframe tbody tr th {\n",
              "        vertical-align: top;\n",
              "    }\n",
              "\n",
              "    .dataframe thead th {\n",
              "        text-align: right;\n",
              "    }\n",
              "</style>\n",
              "<table border=\"1\" class=\"dataframe\">\n",
              "  <thead>\n",
              "    <tr style=\"text-align: right;\">\n",
              "      <th></th>\n",
              "      <th>number</th>\n",
              "      <th>name</th>\n",
              "      <th>primary_type</th>\n",
              "      <th>secondary_type</th>\n",
              "      <th>total</th>\n",
              "      <th>hp</th>\n",
              "      <th>attack</th>\n",
              "      <th>defense</th>\n",
              "      <th>sp_attack</th>\n",
              "      <th>sp_defense</th>\n",
              "      <th>speed</th>\n",
              "      <th>generation</th>\n",
              "      <th>legendary</th>\n",
              "    </tr>\n",
              "  </thead>\n",
              "  <tbody>\n",
              "    <tr>\n",
              "      <th>883</th>\n",
              "      <td>746</td>\n",
              "      <td>Wishiwashi Solo Forme</td>\n",
              "      <td>Water</td>\n",
              "      <td>None</td>\n",
              "      <td>175</td>\n",
              "      <td>45</td>\n",
              "      <td>20</td>\n",
              "      <td>20</td>\n",
              "      <td>25</td>\n",
              "      <td>25</td>\n",
              "      <td>40</td>\n",
              "      <td>7</td>\n",
              "      <td>False</td>\n",
              "    </tr>\n",
              "    <tr>\n",
              "      <th>247</th>\n",
              "      <td>191</td>\n",
              "      <td>Sunkern</td>\n",
              "      <td>Grass</td>\n",
              "      <td>None</td>\n",
              "      <td>180</td>\n",
              "      <td>30</td>\n",
              "      <td>30</td>\n",
              "      <td>30</td>\n",
              "      <td>30</td>\n",
              "      <td>30</td>\n",
              "      <td>30</td>\n",
              "      <td>2</td>\n",
              "      <td>False</td>\n",
              "    </tr>\n",
              "    <tr>\n",
              "      <th>971</th>\n",
              "      <td>824</td>\n",
              "      <td>Blipbug</td>\n",
              "      <td>Bug</td>\n",
              "      <td>None</td>\n",
              "      <td>180</td>\n",
              "      <td>25</td>\n",
              "      <td>20</td>\n",
              "      <td>20</td>\n",
              "      <td>25</td>\n",
              "      <td>45</td>\n",
              "      <td>45</td>\n",
              "      <td>8</td>\n",
              "      <td>False</td>\n",
              "    </tr>\n",
              "    <tr>\n",
              "      <th>1031</th>\n",
              "      <td>872</td>\n",
              "      <td>Snom</td>\n",
              "      <td>Ice</td>\n",
              "      <td>Bug</td>\n",
              "      <td>185</td>\n",
              "      <td>30</td>\n",
              "      <td>25</td>\n",
              "      <td>35</td>\n",
              "      <td>45</td>\n",
              "      <td>30</td>\n",
              "      <td>20</td>\n",
              "      <td>8</td>\n",
              "      <td>False</td>\n",
              "    </tr>\n",
              "    <tr>\n",
              "      <th>367</th>\n",
              "      <td>298</td>\n",
              "      <td>Azurill</td>\n",
              "      <td>Normal</td>\n",
              "      <td>Fairy</td>\n",
              "      <td>190</td>\n",
              "      <td>50</td>\n",
              "      <td>20</td>\n",
              "      <td>40</td>\n",
              "      <td>20</td>\n",
              "      <td>40</td>\n",
              "      <td>20</td>\n",
              "      <td>3</td>\n",
              "      <td>False</td>\n",
              "    </tr>\n",
              "    <tr>\n",
              "      <th>491</th>\n",
              "      <td>401</td>\n",
              "      <td>Kricketot</td>\n",
              "      <td>Bug</td>\n",
              "      <td>None</td>\n",
              "      <td>194</td>\n",
              "      <td>37</td>\n",
              "      <td>25</td>\n",
              "      <td>41</td>\n",
              "      <td>25</td>\n",
              "      <td>41</td>\n",
              "      <td>25</td>\n",
              "      <td>4</td>\n",
              "      <td>False</td>\n",
              "    </tr>\n",
              "    <tr>\n",
              "      <th>333</th>\n",
              "      <td>265</td>\n",
              "      <td>Wurmple</td>\n",
              "      <td>Bug</td>\n",
              "      <td>None</td>\n",
              "      <td>195</td>\n",
              "      <td>45</td>\n",
              "      <td>45</td>\n",
              "      <td>35</td>\n",
              "      <td>20</td>\n",
              "      <td>30</td>\n",
              "      <td>20</td>\n",
              "      <td>3</td>\n",
              "      <td>False</td>\n",
              "    </tr>\n",
              "    <tr>\n",
              "      <th>20</th>\n",
              "      <td>13</td>\n",
              "      <td>Weedle</td>\n",
              "      <td>Bug</td>\n",
              "      <td>Poison</td>\n",
              "      <td>195</td>\n",
              "      <td>40</td>\n",
              "      <td>35</td>\n",
              "      <td>30</td>\n",
              "      <td>20</td>\n",
              "      <td>20</td>\n",
              "      <td>50</td>\n",
              "      <td>1</td>\n",
              "      <td>False</td>\n",
              "    </tr>\n",
              "    <tr>\n",
              "      <th>16</th>\n",
              "      <td>10</td>\n",
              "      <td>Caterpie</td>\n",
              "      <td>Bug</td>\n",
              "      <td>None</td>\n",
              "      <td>195</td>\n",
              "      <td>45</td>\n",
              "      <td>30</td>\n",
              "      <td>35</td>\n",
              "      <td>20</td>\n",
              "      <td>20</td>\n",
              "      <td>45</td>\n",
              "      <td>1</td>\n",
              "      <td>False</td>\n",
              "    </tr>\n",
              "    <tr>\n",
              "      <th>348</th>\n",
              "      <td>280</td>\n",
              "      <td>Ralts</td>\n",
              "      <td>Psychic</td>\n",
              "      <td>Fairy</td>\n",
              "      <td>198</td>\n",
              "      <td>28</td>\n",
              "      <td>25</td>\n",
              "      <td>25</td>\n",
              "      <td>45</td>\n",
              "      <td>35</td>\n",
              "      <td>40</td>\n",
              "      <td>3</td>\n",
              "      <td>False</td>\n",
              "    </tr>\n",
              "  </tbody>\n",
              "</table>\n",
              "</div>\n",
              "      <button class=\"colab-df-convert\" onclick=\"convertToInteractive('df-d43e1dfe-1028-4fd0-ae34-3a3fdaf7a46b')\"\n",
              "              title=\"Convert this dataframe to an interactive table.\"\n",
              "              style=\"display:none;\">\n",
              "        \n",
              "  <svg xmlns=\"http://www.w3.org/2000/svg\" height=\"24px\"viewBox=\"0 0 24 24\"\n",
              "       width=\"24px\">\n",
              "    <path d=\"M0 0h24v24H0V0z\" fill=\"none\"/>\n",
              "    <path d=\"M18.56 5.44l.94 2.06.94-2.06 2.06-.94-2.06-.94-.94-2.06-.94 2.06-2.06.94zm-11 1L8.5 8.5l.94-2.06 2.06-.94-2.06-.94L8.5 2.5l-.94 2.06-2.06.94zm10 10l.94 2.06.94-2.06 2.06-.94-2.06-.94-.94-2.06-.94 2.06-2.06.94z\"/><path d=\"M17.41 7.96l-1.37-1.37c-.4-.4-.92-.59-1.43-.59-.52 0-1.04.2-1.43.59L10.3 9.45l-7.72 7.72c-.78.78-.78 2.05 0 2.83L4 21.41c.39.39.9.59 1.41.59.51 0 1.02-.2 1.41-.59l7.78-7.78 2.81-2.81c.8-.78.8-2.07 0-2.86zM5.41 20L4 18.59l7.72-7.72 1.47 1.35L5.41 20z\"/>\n",
              "  </svg>\n",
              "      </button>\n",
              "      \n",
              "  <style>\n",
              "    .colab-df-container {\n",
              "      display:flex;\n",
              "      flex-wrap:wrap;\n",
              "      gap: 12px;\n",
              "    }\n",
              "\n",
              "    .colab-df-convert {\n",
              "      background-color: #E8F0FE;\n",
              "      border: none;\n",
              "      border-radius: 50%;\n",
              "      cursor: pointer;\n",
              "      display: none;\n",
              "      fill: #1967D2;\n",
              "      height: 32px;\n",
              "      padding: 0 0 0 0;\n",
              "      width: 32px;\n",
              "    }\n",
              "\n",
              "    .colab-df-convert:hover {\n",
              "      background-color: #E2EBFA;\n",
              "      box-shadow: 0px 1px 2px rgba(60, 64, 67, 0.3), 0px 1px 3px 1px rgba(60, 64, 67, 0.15);\n",
              "      fill: #174EA6;\n",
              "    }\n",
              "\n",
              "    [theme=dark] .colab-df-convert {\n",
              "      background-color: #3B4455;\n",
              "      fill: #D2E3FC;\n",
              "    }\n",
              "\n",
              "    [theme=dark] .colab-df-convert:hover {\n",
              "      background-color: #434B5C;\n",
              "      box-shadow: 0px 1px 3px 1px rgba(0, 0, 0, 0.15);\n",
              "      filter: drop-shadow(0px 1px 2px rgba(0, 0, 0, 0.3));\n",
              "      fill: #FFFFFF;\n",
              "    }\n",
              "  </style>\n",
              "\n",
              "      <script>\n",
              "        const buttonEl =\n",
              "          document.querySelector('#df-d43e1dfe-1028-4fd0-ae34-3a3fdaf7a46b button.colab-df-convert');\n",
              "        buttonEl.style.display =\n",
              "          google.colab.kernel.accessAllowed ? 'block' : 'none';\n",
              "\n",
              "        async function convertToInteractive(key) {\n",
              "          const element = document.querySelector('#df-d43e1dfe-1028-4fd0-ae34-3a3fdaf7a46b');\n",
              "          const dataTable =\n",
              "            await google.colab.kernel.invokeFunction('convertToInteractive',\n",
              "                                                     [key], {});\n",
              "          if (!dataTable) return;\n",
              "\n",
              "          const docLinkHtml = 'Like what you see? Visit the ' +\n",
              "            '<a target=\"_blank\" href=https://colab.research.google.com/notebooks/data_table.ipynb>data table notebook</a>'\n",
              "            + ' to learn more about interactive tables.';\n",
              "          element.innerHTML = '';\n",
              "          dataTable['output_type'] = 'display_data';\n",
              "          await google.colab.output.renderOutput(dataTable, element);\n",
              "          const docLink = document.createElement('div');\n",
              "          docLink.innerHTML = docLinkHtml;\n",
              "          element.appendChild(docLink);\n",
              "        }\n",
              "      </script>\n",
              "    </div>\n",
              "  </div>\n",
              "  "
            ]
          },
          "metadata": {},
          "execution_count": 26
        }
      ]
    },
    {
      "cell_type": "markdown",
      "source": [],
      "metadata": {
        "id": "2KZpeRszPCO1"
      }
    },
    {
      "cell_type": "markdown",
      "source": [
        "<h1 align=\"center\">Data Visualisation</h1>"
      ],
      "metadata": {
        "id": "6qkDWCmkUAVR"
      }
    },
    {
      "cell_type": "markdown",
      "source": [
        "## Step 11: Distribution over Generations\n",
        "\n",
        "Let's find out how the number of Pokemon are distributed over the generations.\n"
      ],
      "metadata": {
        "id": "xtifC-rdB3NY"
      }
    },
    {
      "cell_type": "code",
      "source": [
        "f, ax = plt.subplots(1,1, figsize = (10,5))\n",
        "ax = sns.countplot(x = df[\"generation\"], data= df).set(xlabel =\"Generation\", ylabel = \"# of Pokemon\")\n",
        "plt.show()"
      ],
      "metadata": {
        "id": "L0fLep2zB6K3",
        "outputId": "b3889379-e25d-43ab-94c5-e6799adaf7da",
        "colab": {
          "base_uri": "https://localhost:8080/",
          "height": 473
        }
      },
      "execution_count": 88,
      "outputs": [
        {
          "output_type": "display_data",
          "data": {
            "text/plain": [
              "<Figure size 1000x500 with 1 Axes>"
            ],
            "image/png": "[encoded data removed]"
          },
          "metadata": {}
        }
      ]
    },
    {
      "cell_type": "markdown",
      "source": [],
      "metadata": {
        "id": "JRJ_ptRMGkIg"
      }
    },
    {
      "cell_type": "markdown",
      "source": [
        "## Step 12: Strongest Generation\n",
        "\n",
        "Let's find out which generation is the strongest."
      ],
      "metadata": {
        "id": "L2Dn0rOQB6jR"
      }
    },
    {
      "cell_type": "code",
      "source": [
        "f, ax = plt.subplots(1,1, figsize = (16,8))\n",
        "ax = sns.swarmplot(data = df, x = 'generation', y= 'total', hue = 'legendary').set(xlabel =\"Generation\", ylabel = \"Total Stats\")\n",
        "plt.axhline(df['total'].mean(), color = 'red', linestyle = 'dashed') \n",
        "plt.show()"
      ],
      "metadata": {
        "id": "jE5sRNqNLydb",
        "outputId": "24d87574-1434-419d-d24b-9ea77e479bbf",
        "colab": {
          "base_uri": "https://localhost:8080/",
          "height": 704
        }
      },
      "execution_count": 85,
      "outputs": [
        {
          "output_type": "display_data",
          "data": {
            "text/plain": [
              "<Figure size 1600x800 with 1 Axes>"
            ],
            "image/png": "[encoded data removed]"
          },
          "metadata": {}
        }
      ]
    },
    {
      "cell_type": "markdown",
      "source": [],
      "metadata": {
        "id": "-oG9y0yxNWwX"
      }
    },
    {
      "cell_type": "markdown",
      "source": [
        "## Step XX : Correlation:"
      ],
      "metadata": {
        "id": "iCjn0g5UNWiZ"
      }
    },
    {
      "cell_type": "code",
      "source": [
        "f, ax = plt.subplots(1,1,figsize=(15,10))\n",
        "ax = sns.heatmap(df.corr(), annot = True, cmap = 'winter') \n",
        "plt.show()"
      ],
      "metadata": {
        "id": "01Vkrxy9QhwR",
        "outputId": "1b9d7632-b96b-414c-f962-9336b5075899",
        "colab": {
          "base_uri": "https://localhost:8080/",
          "height": 897
        }
      },
      "execution_count": 90,
      "outputs": [
        {
          "output_type": "stream",
          "name": "stderr",
          "text": [
            "<ipython-input-90-0ee96ab8a8c7>:2: FutureWarning: The default value of numeric_only in DataFrame.corr is deprecated. In a future version, it will default to False. Select only valid columns or specify the value of numeric_only to silence this warning.\n",
            "  ax = sns.heatmap(df.corr(), annot = True, cmap = 'winter')\n"
          ]
        },
        {
          "output_type": "display_data",
          "data": {
            "text/plain": [
              "<Figure size 1500x1000 with 2 Axes>"
            ],
            "image/png": "[encoded data removed]"
          },
          "metadata": {}
        }
      ]
    },
    {
      "cell_type": "markdown",
      "source": [
        "<h1 align=\"center\">Conclusion</h1>"
      ],
      "metadata": {
        "id": "aQuGo7ktUDYN"
      }
    }
  ]
}