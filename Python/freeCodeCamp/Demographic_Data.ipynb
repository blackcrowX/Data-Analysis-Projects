{
  "nbformat": 4,
  "nbformat_minor": 0,
  "metadata": {
    "colab": {
      "provenance": [],
      "authorship_tag": "ABX9TyPxwNnz9P2YjbBJEgREDs9W",
      "include_colab_link": true
    },
    "kernelspec": {
      "name": "python3",
      "display_name": "Python 3"
    },
    "language_info": {
      "name": "python"
    }
  },
  "cells": [
    {
      "cell_type": "markdown",
      "metadata": {
        "id": "view-in-github",
        "colab_type": "text"
      },
      "source": [
        "<a href=\"https://colab.research.google.com/github/blackcrowX/Data_Analytics_Projects/blob/main/Python/Demographic_Data.ipynb\" target=\"_parent\"><img src=\"https://colab.research.google.com/assets/colab-badge.svg\" alt=\"Open In Colab\"/></a>"
      ]
    },
    {
      "cell_type": "markdown",
      "source": [
        "<div align=\"center\">\n",
        "<h1>Analysis - Demographic Data</h1>\n",
        "<img src=\"https://upload.wikimedia.org/wikipedia/commons/thumb/f/fa/FreeCodeCamp_logo.svg/2560px-FreeCodeCamp_logo.svg.png\"/>\n",
        "</div>"
      ],
      "metadata": {
        "id": "Z2-O2oH73HSG"
      }
    },
    {
      "cell_type": "markdown",
      "source": [
        "## Table of Contents\n",
        "* Introduction\n",
        "* Setup\n",
        "  * Import Libraries\n",
        "  * Import Data\n",
        "* Data Analysis\n",
        "  * Race Count\n",
        "  * Average Age Men\n",
        "  * Percentage Bachelors\n",
        "  * Higher & Lower Education Rich\n",
        "  * Minimum Hours Worked Salary\n",
        "  * Rich Percentage\n",
        "  * Highest Earning Country Percentage\n",
        "  * Top India Occupation"
      ],
      "metadata": {
        "id": "MCewidGz2wDp"
      }
    },
    {
      "cell_type": "markdown",
      "source": [
        "<h1 align=\"center\">Introduction</h1>\n",
        "\n",
        "In this challenge you must analyze demographic data using Pandas. You are given a dataset of demographic data that was extracted from the 1994 Census database. The dataset was published by <a href=\"https://www.freecodecamp.org/learn/data-analysis-with-python/data-analysis-with-python-projects/demographic-data-analyzer\">freeCodeCamp</a>. Here is a sample of what the data looks like:\n",
        "\n",
        "|    |   age | workclass        |   fnlwgt | education   |   education-num | marital-status     | occupation        | relationship   | race   | sex    |   capital-gain |   capital-loss |   hours-per-week | native-country   | salary   |\n",
        "|---:|------:|:-----------------|---------:|:------------|----------------:|:-------------------|:------------------|:---------------|:-------|:-------|---------------:|---------------:|-----------------:|:-----------------|:---------|\n",
        "|  0 |    39 | State-gov        |    77516 | Bachelors   |              13 | Never-married      | Adm-clerical      | Not-in-family  | White  | Male   |           2174 |              0 |               40 | United-States    | <=50K    |\n",
        "|  1 |    50 | Self-emp-not-inc |    83311 | Bachelors   |              13 | Married-civ-spouse | Exec-managerial   | Husband        | White  | Male   |              0 |              0 |               13 | United-States    | <=50K    |\n",
        "|  2 |    38 | Private          |   215646 | HS-grad     |               9 | Divorced           | Handlers-cleaners | Not-in-family  | White  | Male   |              0 |              0 |               40 | United-States    | <=50K    |\n",
        "|  3 |    53 | Private          |   234721 | 11th        |               7 | Married-civ-spouse | Handlers-cleaners | Husband        | Black  | Male   |              0 |              0 |               40 | United-States    | <=50K    |\n",
        "|  4 |    28 | Private          |   338409 | Bachelors   |              13 | Married-civ-spouse | Prof-specialty    | Wife           | Black  | Female |              0 |              0 |               40 | Cuba             | <=50K    |"
      ],
      "metadata": {
        "id": "S9aliKJm251d"
      }
    },
    {
      "cell_type": "markdown",
      "source": [
        "<h1 align=\"center\">Setup</h1>"
      ],
      "metadata": {
        "id": "q6uoGcKg25lq"
      }
    },
    {
      "cell_type": "markdown",
      "source": [
        "## Step 1: Import Libraries\n",
        "\n",
        "Import and configure libraries required for data analysis."
      ],
      "metadata": {
        "id": "7V721Bfu2-T6"
      }
    },
    {
      "cell_type": "code",
      "source": [
        "import pandas as pd"
      ],
      "metadata": {
        "id": "U0h63HWO5vTa"
      },
      "execution_count": null,
      "outputs": []
    },
    {
      "cell_type": "markdown",
      "source": [
        "## Step 2: Import Dataset\n",
        "Use Pandas to import the data from `adult_data.csv`."
      ],
      "metadata": {
        "id": "a09JTkiy2qFl"
      }
    },
    {
      "cell_type": "code",
      "execution_count": null,
      "metadata": {
        "id": "IQYWDcFz2Hsz"
      },
      "outputs": [],
      "source": [
        "url = \"https://raw.githubusercontent.com/blackcrowX/Data_Analytics_Projects/main/Datasets/adult_data.csv\"\n",
        "df = pd.read_csv(url)"
      ]
    },
    {
      "cell_type": "markdown",
      "source": [
        "<h1 align=\"center\">Data Analysis</h1>"
      ],
      "metadata": {
        "id": "A939rUL_3tIT"
      }
    },
    {
      "cell_type": "markdown",
      "source": [
        "## Step 3: Race Count\n",
        "\n",
        "How many people of each race are represented in this dataset? This should be a Pandas series with race names as the index labels. (`race` column)"
      ],
      "metadata": {
        "id": "I1dJsKMKdSYU"
      }
    },
    {
      "cell_type": "code",
      "source": [
        "race_count = df['race'].value_counts()\n",
        "print(race_count)"
      ],
      "metadata": {
        "id": "NpdzJ17ZdUDQ",
        "colab": {
          "base_uri": "https://localhost:8080/"
        },
        "outputId": "ac7fded0-2627-4c99-d461-75b6b0b6c7be"
      },
      "execution_count": null,
      "outputs": [
        {
          "output_type": "stream",
          "name": "stdout",
          "text": [
            "White                 27816\n",
            "Black                  3124\n",
            "Asian-Pac-Islander     1039\n",
            "Amer-Indian-Eskimo      311\n",
            "Other                   271\n",
            "Name: race, dtype: int64\n"
          ]
        }
      ]
    },
    {
      "cell_type": "markdown",
      "source": [
        "## Step 4: Average Age Men\n",
        "\n",
        "What is the average age of men?"
      ],
      "metadata": {
        "id": "OvYLoXhc3vRb"
      }
    },
    {
      "cell_type": "code",
      "source": [
        "average_age_men = df.loc[df['sex'] == 'Male']['age'].mean().round(decimals=1)\n",
        "print(average_age_men)"
      ],
      "metadata": {
        "id": "MJNsI7B75G8X",
        "outputId": "c8d029e8-768e-4715-fe51-747bb6d078dd",
        "colab": {
          "base_uri": "https://localhost:8080/"
        }
      },
      "execution_count": null,
      "outputs": [
        {
          "output_type": "stream",
          "name": "stdout",
          "text": [
            "39.4\n"
          ]
        }
      ]
    },
    {
      "cell_type": "markdown",
      "source": [
        "## Step 5: Percentage Bachelors\n",
        "\n",
        "What is the percentage of people who have a Bachelor's degree?"
      ],
      "metadata": {
        "id": "TulPOnNU5K1k"
      }
    },
    {
      "cell_type": "code",
      "source": [
        "bachelors_count = df.loc[df['education'] == 'Bachelors']['education'].count()\n",
        "total_count = df['education'].count()\n",
        "percentage_bachelors = (bachelors_count / total_count * 100).round(decimals=1)\n",
        "print(percentage_bachelors)"
      ],
      "metadata": {
        "id": "kuq2kE_Y5DdO",
        "outputId": "a77f847f-55a4-4dd1-e012-85423b486614",
        "colab": {
          "base_uri": "https://localhost:8080/"
        }
      },
      "execution_count": null,
      "outputs": [
        {
          "output_type": "stream",
          "name": "stdout",
          "text": [
            "16.4\n"
          ]
        }
      ]
    },
    {
      "cell_type": "markdown",
      "source": [
        "## Step 6: Higher & Lower Education Rich\n",
        "\n",
        "What percentage of people with advanced education (`Bachelors`, `Masters`, or `Doctorate`) make more than 50K?\n",
        "\n",
        "What percentage of people without advanced education make more than 50K?"
      ],
      "metadata": {
        "id": "oewiD9pA6XeV"
      }
    },
    {
      "cell_type": "code",
      "source": [
        "education_salary_df = pd.DataFrame(df.groupby(df['education'])['salary'].value_counts())\n",
        "education_salary_df = education_salary_df.rename(columns={\"salary\": \"counts\"})\n",
        "high_salary_df = education_salary_df.loc[(slice(None), '>50K'), :]"
      ],
      "metadata": {
        "id": "QmdF6dda5B1k"
      },
      "execution_count": null,
      "outputs": []
    },
    {
      "cell_type": "code",
      "source": [
        "higher_education = education_salary_df.loc[['Bachelors', 'Masters', 'Doctorate']].sum()\n",
        "lower_education = education_salary_df.sum() - higher_education"
      ],
      "metadata": {
        "id": "aCj5exWuNOtc"
      },
      "execution_count": null,
      "outputs": []
    },
    {
      "cell_type": "code",
      "source": [
        "high_education_rich_count = high_salary_df.loc[['Bachelors', 'Masters', 'Doctorate']].sum()\n",
        "lower_education_rich_count = high_salary_df.sum() - high_education_rich_count\n",
        "\n",
        "higher_education_rich = float((high_education_rich_count / higher_education * 100).round(decimals=1))\n",
        "lower_education_rich = float((lower_education_rich_count / lower_education * 100).round(decimals=1))\n",
        "print(higher_education_rich)\n",
        "print(lower_education_rich)"
      ],
      "metadata": {
        "id": "IX83N-n1NQR8",
        "outputId": "62ecd840-d4a3-4216-e4e2-c69c38ceb5ad",
        "colab": {
          "base_uri": "https://localhost:8080/"
        }
      },
      "execution_count": null,
      "outputs": [
        {
          "output_type": "stream",
          "name": "stdout",
          "text": [
            "46.5\n",
            "17.4\n"
          ]
        }
      ]
    },
    {
      "cell_type": "markdown",
      "source": [
        "## Step 7: Minimum Hours Worked Salary\n",
        "\n",
        "What is the minimum number of hours a person works per week (hours-per-week feature)?"
      ],
      "metadata": {
        "id": "JasPjESf4tbc"
      }
    },
    {
      "cell_type": "code",
      "source": [
        "min_work_hours = df['hours-per-week'].min()\n",
        "\n",
        "hours_worked_salary_df = pd.DataFrame(df.groupby(df['hours-per-week'])['salary'].value_counts())\n",
        "hours_worked_salary_df = hours_worked_salary_df.rename(columns={\"salary\": \"counts\"})\n",
        "min_hours_worked_salary_df = hours_worked_salary_df.loc[min_work_hours, :]\n",
        "print(min_hours_worked_salary_df)"
      ],
      "metadata": {
        "id": "v9l349RCN6cX",
        "outputId": "d02b85e5-d5d5-4f9a-99a3-ce95bd0cadcb",
        "colab": {
          "base_uri": "https://localhost:8080/"
        }
      },
      "execution_count": null,
      "outputs": [
        {
          "output_type": "stream",
          "name": "stdout",
          "text": [
            "        counts\n",
            "salary        \n",
            "<=50K       18\n",
            ">50K         2\n"
          ]
        }
      ]
    },
    {
      "cell_type": "markdown",
      "source": [
        "## Step 8:  Rich Percentage\n",
        "\n",
        "What percentage of the people who work the minimum number of hours per week have a salary of more than 50K?"
      ],
      "metadata": {
        "id": "gg02NSlV40Yy"
      }
    },
    {
      "cell_type": "code",
      "source": [
        "num_min_workers = min_hours_worked_salary_df.sum()\n",
        "rich_percentage = float((min_hours_worked_salary_df.loc['>50K'] / num_min_workers * 100).round(decimals=1))\n",
        "print(rich_percentage)"
      ],
      "metadata": {
        "id": "OOQ5w7g94z8S",
        "outputId": "d84b85aa-2d88-44e8-9e0f-232d7b2fb73c",
        "colab": {
          "base_uri": "https://localhost:8080/"
        }
      },
      "execution_count": null,
      "outputs": [
        {
          "output_type": "stream",
          "name": "stdout",
          "text": [
            "10.0\n"
          ]
        }
      ]
    },
    {
      "cell_type": "markdown",
      "source": [
        "## Step 9: Highest Earning Country Percentage\n",
        "\n",
        "What country has the highest percentage of people that earn >50K and what is that percentage?"
      ],
      "metadata": {
        "id": "MGdTRAl5401Z"
      }
    },
    {
      "cell_type": "code",
      "source": [
        "country_counts_df = pd.DataFrame(df.groupby(df['native-country'])['salary'].count())\n",
        "country_counts_df = country_counts_df.rename(columns={\"salary\": \"counts\"}).reset_index()\n",
        "country_rich_counts_df = pd.DataFrame(df.groupby(df['native-country'])['salary'].value_counts())\n",
        "country_rich_counts_df = country_rich_counts_df.loc[(slice(None), '>50K'), :]\n",
        "country_rich_counts_df = country_rich_counts_df.rename(columns={\"salary\": \"rich-counts\"})\n",
        "country_rich_counts_df = country_rich_counts_df.reset_index()[['native-country', 'rich-counts']]\n",
        "country_counts_df = country_counts_df.merge(country_rich_counts_df, on='native-country')\n",
        "country_counts_df['rich-percent'] = (country_counts_df['rich-counts'] / country_counts_df['counts'] * 100)\n",
        "country_counts_df['rich-percent'] = country_counts_df['rich-percent'].round(decimals=1)\n",
        "top_country = country_counts_df.sort_values('rich-percent', ascending=False).head(1)\n",
        "\n",
        "highest_earning_country = top_country.iloc[0]['native-country']\n",
        "highest_earning_country_percentage = top_country.iloc[0]['rich-percent']\n",
        "print(highest_earning_country_percentage)"
      ],
      "metadata": {
        "id": "CsQgmS6v41Je",
        "outputId": "86d77e6b-f6aa-4280-fd7d-f70751411511",
        "colab": {
          "base_uri": "https://localhost:8080/"
        }
      },
      "execution_count": null,
      "outputs": [
        {
          "output_type": "stream",
          "name": "stdout",
          "text": [
            "41.9\n"
          ]
        }
      ]
    },
    {
      "cell_type": "markdown",
      "source": [
        "## Step 10: Top India Occupation\n",
        "\n",
        "Identify the most popular occupation for those who earn >50K in India."
      ],
      "metadata": {
        "id": "vbproZNL48oy"
      }
    },
    {
      "cell_type": "code",
      "source": [
        "india_df = df.loc[df['native-country'] == 'India']\n",
        "india_df = india_df.loc[df['salary'] == '>50K']\n",
        "india_df = pd.DataFrame(india_df.groupby('native-country')['occupation'].value_counts())\n",
        "india_df = india_df.rename(columns={'occupation': 'counts'})\n",
        "india_df = india_df.reset_index().sort_values('counts', ascending=False).head(1)\n",
        "\n",
        "top_IN_occupation = india_df.iloc[0]['occupation']\n",
        "print(top_IN_occupation)"
      ],
      "metadata": {
        "id": "Hjwpz8Cu48-P",
        "outputId": "97699a08-ea7d-4865-8581-0ecfd1153108",
        "colab": {
          "base_uri": "https://localhost:8080/"
        }
      },
      "execution_count": null,
      "outputs": [
        {
          "output_type": "stream",
          "name": "stdout",
          "text": [
            "Prof-specialty\n"
          ]
        }
      ]
    }
  ]
}