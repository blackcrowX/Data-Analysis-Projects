{
  "nbformat": 4,
  "nbformat_minor": 0,
  "metadata": {
    "colab": {
      "provenance": [],
      "authorship_tag": "ABX9TyNW9FmM3carb8yNLUL55vSg",
      "include_colab_link": true
    },
    "kernelspec": {
      "name": "python3",
      "display_name": "Python 3"
    },
    "language_info": {
      "name": "python"
    }
  },
  "cells": [
    {
      "cell_type": "markdown",
      "metadata": {
        "id": "view-in-github",
        "colab_type": "text"
      },
      "source": [
        "<a href=\"https://colab.research.google.com/github/blackcrowX/Data_Analysis_Projects/blob/main/Python/Template.ipynb\" target=\"_parent\"><img src=\"https://colab.research.google.com/assets/colab-badge.svg\" alt=\"Open In Colab\"/></a>"
      ]
    },
    {
      "cell_type": "markdown",
      "source": [
        "<h1 align=\"center\">Exploratory Data Analysis</h1>\n",
        "\n",
        "<p align=\"center\">\n",
        "<img src=\"https://i.postimg.cc/K8mbkyhz/Logo-Black.png\"/>\n",
        "</p>\n",
        "\n",
        "<p align=\"center\">\n",
        "<em>Image taken from: </em>\n",
        "</p>"
      ],
      "metadata": {
        "id": "Z2-O2oH73HSG"
      }
    },
    {
      "cell_type": "markdown",
      "source": [
        "## Table of Contents\n",
        "* Introduction\n",
        "* Dataset\n",
        "* Setup\n",
        " * [Import Libraries](#1)\n",
        " * [Import Data](#2)\n",
        "* Data Cleaning\n",
        "  * [Review Dataframe](#3)\n",
        "  * [Review Info](#5)\n",
        "  * [Review Missing Values](#6)\n",
        "  * [Organise Columns](#8)\n",
        "  * [Review Columns](#10)\n",
        "* Data Analysis\n",
        "  * [xyz](#11)\n",
        "  * [xyz](#12)\n",
        "* Data Visualisation\n",
        "  * [xyz](#13)\n",
        "  * [xyz](#14)\n",
        "*  Conclusion"
      ],
      "metadata": {
        "id": "MCewidGz2wDp"
      }
    },
    {
      "cell_type": "markdown",
      "source": [
        "<h1 align=\"center\">Introduction</h1>\n",
        "\n",
        "This data analysis case study will be on a dataset regarding pokemon. It contains data manipulations to try and find answers to questions using visuals of data and statistics. \n",
        "\n",
        "Considering how diverse Pokemon are, I was interested in analyzing this datset to learn how the game is balanced and to potentially identify the best Pokemon, if there exists one."
      ],
      "metadata": {
        "id": "S9aliKJm251d"
      }
    },
    {
      "cell_type": "markdown",
      "source": [
        "<h1 align=\"center\">Setup</h1>"
      ],
      "metadata": {
        "id": "q6uoGcKg25lq"
      }
    },
    {
      "cell_type": "markdown",
      "source": [
        "## Step 1: Import Libraries\n",
        "\n",
        "Import and configure libraries required for data analysis."
      ],
      "metadata": {
        "id": "7V721Bfu2-T6"
      }
    },
    {
      "cell_type": "code",
      "source": [
        "import numpy as np\n",
        "import pandas as pd\n",
        "pd.plotting.register_matplotlib_converters()\n",
        "import matplotlib.pyplot as plt\n",
        "%matplotlib inline\n",
        "import seaborn as sns\n",
        "sns.set(style = \"darkgrid\")"
      ],
      "metadata": {
        "id": "LZEQVJsW2qZC"
      },
      "execution_count": null,
      "outputs": []
    },
    {
      "cell_type": "markdown",
      "source": [
        "## Step 2: Import Dataset\n",
        "Import dataset as variable `df` into Python."
      ],
      "metadata": {
        "id": "a09JTkiy2qFl"
      }
    },
    {
      "cell_type": "code",
      "execution_count": null,
      "metadata": {
        "id": "IQYWDcFz2Hsz"
      },
      "outputs": [],
      "source": [
        "url = \"https://raw.githubusercontent.com/blackcrowX/Data-Analysis-Projects/main/Datasets/xyz\"\n",
        "df = pd.read_csv(url)"
      ]
    },
    {
      "cell_type": "markdown",
      "source": [
        "<h1 align=\"center\">Data Cleaning</h1>"
      ],
      "metadata": {
        "id": "A939rUL_3tIT"
      }
    },
    {
      "cell_type": "markdown",
      "source": [
        "## Step 3: Review Dataframe\n",
        "\n",
        "To start the process of Data Cleaning we'll read the first five rows of the dataframe."
      ],
      "metadata": {
        "id": "OvYLoXhc3vRb"
      }
    },
    {
      "cell_type": "code",
      "source": [
        "df.head()"
      ],
      "metadata": {
        "id": "BQlQ_mNo3v8J"
      },
      "execution_count": null,
      "outputs": []
    }
  ]
}