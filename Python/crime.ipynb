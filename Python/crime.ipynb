{
  "cells": [
    {
      "cell_type": "markdown",
      "source": [
        "# Crime Analysis"
      ],
      "metadata": {
        "id": "thwO045hKtot"
      },
      "id": "thwO045hKtot"
    },
    {
      "cell_type": "markdown",
      "id": "96009edc",
      "metadata": {
        "id": "96009edc"
      },
      "source": [
        "### Import all the necessary libraries"
      ]
    },
    {
      "cell_type": "code",
      "execution_count": null,
      "id": "eb61f6f6",
      "metadata": {
        "id": "eb61f6f6"
      },
      "outputs": [],
      "source": [
        "import numpy as np\n",
        "import pandas as pd\n",
        "import matplotlib.pyplot as plt\n",
        "import seaborn as sns\n",
        "from encodings.aliases import aliases # Python has a file containing a dictionary of encoding names and associated aliases\n",
        "\n",
        "# the matplotlib plots will appear directly below the cell in which the plot function was called.\n",
        "%matplotlib inline"
      ]
    },
    {
      "cell_type": "markdown",
      "id": "a1013c3a",
      "metadata": {
        "id": "a1013c3a"
      },
      "source": [
        "### Read in the csv files and remove duplicates"
      ]
    },
    {
      "cell_type": "code",
      "execution_count": null,
      "id": "a454bb34",
      "metadata": {
        "id": "a454bb34"
      },
      "outputs": [],
      "source": [
        "# To find encodings that work\n",
        "\n",
        "# Below line creates a set of all available encodings\n",
        "alias_values = set(aliases.values())\n",
        "\n",
        "for encoding in set(aliases.values()):\n",
        "    try:\n",
        "        df=pd.read_csv(\"crime.csv\", nrows=10, encoding=encoding) # read in only 10 lines for faster read\n",
        "        print('successful', encoding)\n",
        "    except:\n",
        "        pass"
      ]
    },
    {
      "cell_type": "code",
      "execution_count": null,
      "id": "20ee872c",
      "metadata": {
        "id": "20ee872c"
      },
      "outputs": [],
      "source": [
        "# Read in the crime.csv file and use the timestamp as a datetime index\n",
        "\n",
        "url = \"https://raw.githubusercontent.com/blackcrowX/Data_Analytics_Projects/main/Datasets/crime.csv\"\n",
        "crime = pd.read_csv(url, encoding=\"ISO-8859-11\")"
      ]
    },
    {
      "cell_type": "code",
      "execution_count": null,
      "id": "6b786b8c",
      "metadata": {
        "colab": {
          "base_uri": "https://localhost:8080/",
          "height": 206
        },
        "id": "6b786b8c",
        "outputId": "ab7027d7-cff2-4abc-ea84-f44e455ad990"
      },
      "outputs": [
        {
          "output_type": "execute_result",
          "data": {
            "text/plain": [
              "  INCIDENT_NUMBER  OFFENSE_CODE    OFFENSE_CODE_GROUP   OFFENSE_DESCRIPTION  \\\n",
              "0      I182070945           619               Larceny    LARCENY ALL OTHERS   \n",
              "1      I182070943          1402             Vandalism             VANDALISM   \n",
              "2      I182070941          3410                 Towed   TOWED MOTOR VEHICLE   \n",
              "3      I182070940          3114  Investigate Property  INVESTIGATE PROPERTY   \n",
              "4      I182070938          3114  Investigate Property  INVESTIGATE PROPERTY   \n",
              "\n",
              "  DISTRICT REPORTING_AREA SHOOTING     OCCURRED_ON_DATE  YEAR  MONTH  \\\n",
              "0      D14            808      NaN  2018-09-02 13:00:00  2018      9   \n",
              "1      C11            347      NaN  2018-08-21 00:00:00  2018      8   \n",
              "2       D4            151      NaN  2018-09-03 19:27:00  2018      9   \n",
              "3       D4            272      NaN  2018-09-03 21:16:00  2018      9   \n",
              "4       B3            421      NaN  2018-09-03 21:05:00  2018      9   \n",
              "\n",
              "  DAY_OF_WEEK  HOUR    UCR_PART       STREET        Lat       Long  \\\n",
              "0      Sunday    13    Part One   LINCOLN ST  42.357791 -71.139371   \n",
              "1     Tuesday     0    Part Two     HECLA ST  42.306821 -71.060300   \n",
              "2      Monday    19  Part Three  CAZENOVE ST  42.346589 -71.072429   \n",
              "3      Monday    21  Part Three   NEWCOMB ST  42.334182 -71.078664   \n",
              "4      Monday    21  Part Three     DELHI ST  42.275365 -71.090361   \n",
              "\n",
              "                      Location  \n",
              "0  (42.35779134, -71.13937053)  \n",
              "1  (42.30682138, -71.06030035)  \n",
              "2  (42.34658879, -71.07242943)  \n",
              "3  (42.33418175, -71.07866441)  \n",
              "4  (42.27536542, -71.09036101)  "
            ],
            "text/html": [
              "\n",
              "  <div id=\"df-4f20e597-f436-4a0f-9d00-ec51a5e05669\">\n",
              "    <div class=\"colab-df-container\">\n",
              "      <div>\n",
              "<style scoped>\n",
              "    .dataframe tbody tr th:only-of-type {\n",
              "        vertical-align: middle;\n",
              "    }\n",
              "\n",
              "    .dataframe tbody tr th {\n",
              "        vertical-align: top;\n",
              "    }\n",
              "\n",
              "    .dataframe thead th {\n",
              "        text-align: right;\n",
              "    }\n",
              "</style>\n",
              "<table border=\"1\" class=\"dataframe\">\n",
              "  <thead>\n",
              "    <tr style=\"text-align: right;\">\n",
              "      <th></th>\n",
              "      <th>INCIDENT_NUMBER</th>\n",
              "      <th>OFFENSE_CODE</th>\n",
              "      <th>OFFENSE_CODE_GROUP</th>\n",
              "      <th>OFFENSE_DESCRIPTION</th>\n",
              "      <th>DISTRICT</th>\n",
              "      <th>REPORTING_AREA</th>\n",
              "      <th>SHOOTING</th>\n",
              "      <th>OCCURRED_ON_DATE</th>\n",
              "      <th>YEAR</th>\n",
              "      <th>MONTH</th>\n",
              "      <th>DAY_OF_WEEK</th>\n",
              "      <th>HOUR</th>\n",
              "      <th>UCR_PART</th>\n",
              "      <th>STREET</th>\n",
              "      <th>Lat</th>\n",
              "      <th>Long</th>\n",
              "      <th>Location</th>\n",
              "    </tr>\n",
              "  </thead>\n",
              "  <tbody>\n",
              "    <tr>\n",
              "      <th>0</th>\n",
              "      <td>I182070945</td>\n",
              "      <td>619</td>\n",
              "      <td>Larceny</td>\n",
              "      <td>LARCENY ALL OTHERS</td>\n",
              "      <td>D14</td>\n",
              "      <td>808</td>\n",
              "      <td>NaN</td>\n",
              "      <td>2018-09-02 13:00:00</td>\n",
              "      <td>2018</td>\n",
              "      <td>9</td>\n",
              "      <td>Sunday</td>\n",
              "      <td>13</td>\n",
              "      <td>Part One</td>\n",
              "      <td>LINCOLN ST</td>\n",
              "      <td>42.357791</td>\n",
              "      <td>-71.139371</td>\n",
              "      <td>(42.35779134, -71.13937053)</td>\n",
              "    </tr>\n",
              "    <tr>\n",
              "      <th>1</th>\n",
              "      <td>I182070943</td>\n",
              "      <td>1402</td>\n",
              "      <td>Vandalism</td>\n",
              "      <td>VANDALISM</td>\n",
              "      <td>C11</td>\n",
              "      <td>347</td>\n",
              "      <td>NaN</td>\n",
              "      <td>2018-08-21 00:00:00</td>\n",
              "      <td>2018</td>\n",
              "      <td>8</td>\n",
              "      <td>Tuesday</td>\n",
              "      <td>0</td>\n",
              "      <td>Part Two</td>\n",
              "      <td>HECLA ST</td>\n",
              "      <td>42.306821</td>\n",
              "      <td>-71.060300</td>\n",
              "      <td>(42.30682138, -71.06030035)</td>\n",
              "    </tr>\n",
              "    <tr>\n",
              "      <th>2</th>\n",
              "      <td>I182070941</td>\n",
              "      <td>3410</td>\n",
              "      <td>Towed</td>\n",
              "      <td>TOWED MOTOR VEHICLE</td>\n",
              "      <td>D4</td>\n",
              "      <td>151</td>\n",
              "      <td>NaN</td>\n",
              "      <td>2018-09-03 19:27:00</td>\n",
              "      <td>2018</td>\n",
              "      <td>9</td>\n",
              "      <td>Monday</td>\n",
              "      <td>19</td>\n",
              "      <td>Part Three</td>\n",
              "      <td>CAZENOVE ST</td>\n",
              "      <td>42.346589</td>\n",
              "      <td>-71.072429</td>\n",
              "      <td>(42.34658879, -71.07242943)</td>\n",
              "    </tr>\n",
              "    <tr>\n",
              "      <th>3</th>\n",
              "      <td>I182070940</td>\n",
              "      <td>3114</td>\n",
              "      <td>Investigate Property</td>\n",
              "      <td>INVESTIGATE PROPERTY</td>\n",
              "      <td>D4</td>\n",
              "      <td>272</td>\n",
              "      <td>NaN</td>\n",
              "      <td>2018-09-03 21:16:00</td>\n",
              "      <td>2018</td>\n",
              "      <td>9</td>\n",
              "      <td>Monday</td>\n",
              "      <td>21</td>\n",
              "      <td>Part Three</td>\n",
              "      <td>NEWCOMB ST</td>\n",
              "      <td>42.334182</td>\n",
              "      <td>-71.078664</td>\n",
              "      <td>(42.33418175, -71.07866441)</td>\n",
              "    </tr>\n",
              "    <tr>\n",
              "      <th>4</th>\n",
              "      <td>I182070938</td>\n",
              "      <td>3114</td>\n",
              "      <td>Investigate Property</td>\n",
              "      <td>INVESTIGATE PROPERTY</td>\n",
              "      <td>B3</td>\n",
              "      <td>421</td>\n",
              "      <td>NaN</td>\n",
              "      <td>2018-09-03 21:05:00</td>\n",
              "      <td>2018</td>\n",
              "      <td>9</td>\n",
              "      <td>Monday</td>\n",
              "      <td>21</td>\n",
              "      <td>Part Three</td>\n",
              "      <td>DELHI ST</td>\n",
              "      <td>42.275365</td>\n",
              "      <td>-71.090361</td>\n",
              "      <td>(42.27536542, -71.09036101)</td>\n",
              "    </tr>\n",
              "  </tbody>\n",
              "</table>\n",
              "</div>\n",
              "      <button class=\"colab-df-convert\" onclick=\"convertToInteractive('df-4f20e597-f436-4a0f-9d00-ec51a5e05669')\"\n",
              "              title=\"Convert this dataframe to an interactive table.\"\n",
              "              style=\"display:none;\">\n",
              "        \n",
              "  <svg xmlns=\"http://www.w3.org/2000/svg\" height=\"24px\"viewBox=\"0 0 24 24\"\n",
              "       width=\"24px\">\n",
              "    <path d=\"M0 0h24v24H0V0z\" fill=\"none\"/>\n",
              "    <path d=\"M18.56 5.44l.94 2.06.94-2.06 2.06-.94-2.06-.94-.94-2.06-.94 2.06-2.06.94zm-11 1L8.5 8.5l.94-2.06 2.06-.94-2.06-.94L8.5 2.5l-.94 2.06-2.06.94zm10 10l.94 2.06.94-2.06 2.06-.94-2.06-.94-.94-2.06-.94 2.06-2.06.94z\"/><path d=\"M17.41 7.96l-1.37-1.37c-.4-.4-.92-.59-1.43-.59-.52 0-1.04.2-1.43.59L10.3 9.45l-7.72 7.72c-.78.78-.78 2.05 0 2.83L4 21.41c.39.39.9.59 1.41.59.51 0 1.02-.2 1.41-.59l7.78-7.78 2.81-2.81c.8-.78.8-2.07 0-2.86zM5.41 20L4 18.59l7.72-7.72 1.47 1.35L5.41 20z\"/>\n",
              "  </svg>\n",
              "      </button>\n",
              "      \n",
              "  <style>\n",
              "    .colab-df-container {\n",
              "      display:flex;\n",
              "      flex-wrap:wrap;\n",
              "      gap: 12px;\n",
              "    }\n",
              "\n",
              "    .colab-df-convert {\n",
              "      background-color: #E8F0FE;\n",
              "      border: none;\n",
              "      border-radius: 50%;\n",
              "      cursor: pointer;\n",
              "      display: none;\n",
              "      fill: #1967D2;\n",
              "      height: 32px;\n",
              "      padding: 0 0 0 0;\n",
              "      width: 32px;\n",
              "    }\n",
              "\n",
              "    .colab-df-convert:hover {\n",
              "      background-color: #E2EBFA;\n",
              "      box-shadow: 0px 1px 2px rgba(60, 64, 67, 0.3), 0px 1px 3px 1px rgba(60, 64, 67, 0.15);\n",
              "      fill: #174EA6;\n",
              "    }\n",
              "\n",
              "    [theme=dark] .colab-df-convert {\n",
              "      background-color: #3B4455;\n",
              "      fill: #D2E3FC;\n",
              "    }\n",
              "\n",
              "    [theme=dark] .colab-df-convert:hover {\n",
              "      background-color: #434B5C;\n",
              "      box-shadow: 0px 1px 3px 1px rgba(0, 0, 0, 0.15);\n",
              "      filter: drop-shadow(0px 1px 2px rgba(0, 0, 0, 0.3));\n",
              "      fill: #FFFFFF;\n",
              "    }\n",
              "  </style>\n",
              "\n",
              "      <script>\n",
              "        const buttonEl =\n",
              "          document.querySelector('#df-4f20e597-f436-4a0f-9d00-ec51a5e05669 button.colab-df-convert');\n",
              "        buttonEl.style.display =\n",
              "          google.colab.kernel.accessAllowed ? 'block' : 'none';\n",
              "\n",
              "        async function convertToInteractive(key) {\n",
              "          const element = document.querySelector('#df-4f20e597-f436-4a0f-9d00-ec51a5e05669');\n",
              "          const dataTable =\n",
              "            await google.colab.kernel.invokeFunction('convertToInteractive',\n",
              "                                                     [key], {});\n",
              "          if (!dataTable) return;\n",
              "\n",
              "          const docLinkHtml = 'Like what you see? Visit the ' +\n",
              "            '<a target=\"_blank\" href=https://colab.research.google.com/notebooks/data_table.ipynb>data table notebook</a>'\n",
              "            + ' to learn more about interactive tables.';\n",
              "          element.innerHTML = '';\n",
              "          dataTable['output_type'] = 'display_data';\n",
              "          await google.colab.output.renderOutput(dataTable, element);\n",
              "          const docLink = document.createElement('div');\n",
              "          docLink.innerHTML = docLinkHtml;\n",
              "          element.appendChild(docLink);\n",
              "        }\n",
              "      </script>\n",
              "    </div>\n",
              "  </div>\n",
              "  "
            ]
          },
          "metadata": {},
          "execution_count": 8
        }
      ],
      "source": [
        "crime.head() # Quick check on how the dataset looks like"
      ]
    },
    {
      "cell_type": "code",
      "execution_count": null,
      "id": "78dac45e",
      "metadata": {
        "colab": {
          "base_uri": "https://localhost:8080/"
        },
        "id": "78dac45e",
        "outputId": "dda735df-03e5-42db-e719-3a56bfd21dbb"
      },
      "outputs": [
        {
          "output_type": "execute_result",
          "data": {
            "text/plain": [
              "(319073, 17)"
            ]
          },
          "metadata": {},
          "execution_count": 9
        }
      ],
      "source": [
        "crime.shape # Checking the shape of the data. It has 319,073 rows and 17 columns"
      ]
    },
    {
      "cell_type": "code",
      "execution_count": null,
      "id": "93f474f9",
      "metadata": {
        "colab": {
          "base_uri": "https://localhost:8080/"
        },
        "id": "93f474f9",
        "outputId": "af3a0dcb-6174-4856-f363-4067fa3dde6e"
      },
      "outputs": [
        {
          "output_type": "execute_result",
          "data": {
            "text/plain": [
              "23"
            ]
          },
          "metadata": {},
          "execution_count": 10
        }
      ],
      "source": [
        "crime.duplicated().sum() # Counting the duplicate rows"
      ]
    },
    {
      "cell_type": "code",
      "execution_count": null,
      "id": "148a2f42",
      "metadata": {
        "id": "148a2f42"
      },
      "outputs": [],
      "source": [
        "crime.drop_duplicates(inplace=True) # Dropping the duplicate rows"
      ]
    },
    {
      "cell_type": "code",
      "execution_count": null,
      "id": "1c0279ac",
      "metadata": {
        "colab": {
          "base_uri": "https://localhost:8080/"
        },
        "id": "1c0279ac",
        "outputId": "179d6f56-061c-4d97-e43d-47448be72040"
      },
      "outputs": [
        {
          "output_type": "execute_result",
          "data": {
            "text/plain": [
              "(319050, 17)"
            ]
          },
          "metadata": {},
          "execution_count": 12
        }
      ],
      "source": [
        "crime.shape # Checking the shape again to see if dropping the duplicate rows worked"
      ]
    },
    {
      "cell_type": "markdown",
      "id": "f0823dc0",
      "metadata": {
        "id": "f0823dc0"
      },
      "source": [
        "### Explore the dataset"
      ]
    },
    {
      "cell_type": "code",
      "execution_count": null,
      "id": "5ad86c4d",
      "metadata": {
        "colab": {
          "base_uri": "https://localhost:8080/",
          "height": 206
        },
        "id": "5ad86c4d",
        "outputId": "49edf7ec-5349-4438-a4f0-b628fa747cc5"
      },
      "outputs": [
        {
          "output_type": "execute_result",
          "data": {
            "text/plain": [
              "  INCIDENT_NUMBER  OFFENSE_CODE    OFFENSE_CODE_GROUP   OFFENSE_DESCRIPTION  \\\n",
              "0      I182070945           619               Larceny    LARCENY ALL OTHERS   \n",
              "1      I182070943          1402             Vandalism             VANDALISM   \n",
              "2      I182070941          3410                 Towed   TOWED MOTOR VEHICLE   \n",
              "3      I182070940          3114  Investigate Property  INVESTIGATE PROPERTY   \n",
              "4      I182070938          3114  Investigate Property  INVESTIGATE PROPERTY   \n",
              "\n",
              "  DISTRICT REPORTING_AREA SHOOTING     OCCURRED_ON_DATE  YEAR  MONTH  \\\n",
              "0      D14            808      NaN  2018-09-02 13:00:00  2018      9   \n",
              "1      C11            347      NaN  2018-08-21 00:00:00  2018      8   \n",
              "2       D4            151      NaN  2018-09-03 19:27:00  2018      9   \n",
              "3       D4            272      NaN  2018-09-03 21:16:00  2018      9   \n",
              "4       B3            421      NaN  2018-09-03 21:05:00  2018      9   \n",
              "\n",
              "  DAY_OF_WEEK  HOUR    UCR_PART       STREET        Lat       Long  \\\n",
              "0      Sunday    13    Part One   LINCOLN ST  42.357791 -71.139371   \n",
              "1     Tuesday     0    Part Two     HECLA ST  42.306821 -71.060300   \n",
              "2      Monday    19  Part Three  CAZENOVE ST  42.346589 -71.072429   \n",
              "3      Monday    21  Part Three   NEWCOMB ST  42.334182 -71.078664   \n",
              "4      Monday    21  Part Three     DELHI ST  42.275365 -71.090361   \n",
              "\n",
              "                      Location  \n",
              "0  (42.35779134, -71.13937053)  \n",
              "1  (42.30682138, -71.06030035)  \n",
              "2  (42.34658879, -71.07242943)  \n",
              "3  (42.33418175, -71.07866441)  \n",
              "4  (42.27536542, -71.09036101)  "
            ],
            "text/html": [
              "\n",
              "  <div id=\"df-20bbf139-69ce-404a-b74c-707e6d1d92ee\">\n",
              "    <div class=\"colab-df-container\">\n",
              "      <div>\n",
              "<style scoped>\n",
              "    .dataframe tbody tr th:only-of-type {\n",
              "        vertical-align: middle;\n",
              "    }\n",
              "\n",
              "    .dataframe tbody tr th {\n",
              "        vertical-align: top;\n",
              "    }\n",
              "\n",
              "    .dataframe thead th {\n",
              "        text-align: right;\n",
              "    }\n",
              "</style>\n",
              "<table border=\"1\" class=\"dataframe\">\n",
              "  <thead>\n",
              "    <tr style=\"text-align: right;\">\n",
              "      <th></th>\n",
              "      <th>INCIDENT_NUMBER</th>\n",
              "      <th>OFFENSE_CODE</th>\n",
              "      <th>OFFENSE_CODE_GROUP</th>\n",
              "      <th>OFFENSE_DESCRIPTION</th>\n",
              "      <th>DISTRICT</th>\n",
              "      <th>REPORTING_AREA</th>\n",
              "      <th>SHOOTING</th>\n",
              "      <th>OCCURRED_ON_DATE</th>\n",
              "      <th>YEAR</th>\n",
              "      <th>MONTH</th>\n",
              "      <th>DAY_OF_WEEK</th>\n",
              "      <th>HOUR</th>\n",
              "      <th>UCR_PART</th>\n",
              "      <th>STREET</th>\n",
              "      <th>Lat</th>\n",
              "      <th>Long</th>\n",
              "      <th>Location</th>\n",
              "    </tr>\n",
              "  </thead>\n",
              "  <tbody>\n",
              "    <tr>\n",
              "      <th>0</th>\n",
              "      <td>I182070945</td>\n",
              "      <td>619</td>\n",
              "      <td>Larceny</td>\n",
              "      <td>LARCENY ALL OTHERS</td>\n",
              "      <td>D14</td>\n",
              "      <td>808</td>\n",
              "      <td>NaN</td>\n",
              "      <td>2018-09-02 13:00:00</td>\n",
              "      <td>2018</td>\n",
              "      <td>9</td>\n",
              "      <td>Sunday</td>\n",
              "      <td>13</td>\n",
              "      <td>Part One</td>\n",
              "      <td>LINCOLN ST</td>\n",
              "      <td>42.357791</td>\n",
              "      <td>-71.139371</td>\n",
              "      <td>(42.35779134, -71.13937053)</td>\n",
              "    </tr>\n",
              "    <tr>\n",
              "      <th>1</th>\n",
              "      <td>I182070943</td>\n",
              "      <td>1402</td>\n",
              "      <td>Vandalism</td>\n",
              "      <td>VANDALISM</td>\n",
              "      <td>C11</td>\n",
              "      <td>347</td>\n",
              "      <td>NaN</td>\n",
              "      <td>2018-08-21 00:00:00</td>\n",
              "      <td>2018</td>\n",
              "      <td>8</td>\n",
              "      <td>Tuesday</td>\n",
              "      <td>0</td>\n",
              "      <td>Part Two</td>\n",
              "      <td>HECLA ST</td>\n",
              "      <td>42.306821</td>\n",
              "      <td>-71.060300</td>\n",
              "      <td>(42.30682138, -71.06030035)</td>\n",
              "    </tr>\n",
              "    <tr>\n",
              "      <th>2</th>\n",
              "      <td>I182070941</td>\n",
              "      <td>3410</td>\n",
              "      <td>Towed</td>\n",
              "      <td>TOWED MOTOR VEHICLE</td>\n",
              "      <td>D4</td>\n",
              "      <td>151</td>\n",
              "      <td>NaN</td>\n",
              "      <td>2018-09-03 19:27:00</td>\n",
              "      <td>2018</td>\n",
              "      <td>9</td>\n",
              "      <td>Monday</td>\n",
              "      <td>19</td>\n",
              "      <td>Part Three</td>\n",
              "      <td>CAZENOVE ST</td>\n",
              "      <td>42.346589</td>\n",
              "      <td>-71.072429</td>\n",
              "      <td>(42.34658879, -71.07242943)</td>\n",
              "    </tr>\n",
              "    <tr>\n",
              "      <th>3</th>\n",
              "      <td>I182070940</td>\n",
              "      <td>3114</td>\n",
              "      <td>Investigate Property</td>\n",
              "      <td>INVESTIGATE PROPERTY</td>\n",
              "      <td>D4</td>\n",
              "      <td>272</td>\n",
              "      <td>NaN</td>\n",
              "      <td>2018-09-03 21:16:00</td>\n",
              "      <td>2018</td>\n",
              "      <td>9</td>\n",
              "      <td>Monday</td>\n",
              "      <td>21</td>\n",
              "      <td>Part Three</td>\n",
              "      <td>NEWCOMB ST</td>\n",
              "      <td>42.334182</td>\n",
              "      <td>-71.078664</td>\n",
              "      <td>(42.33418175, -71.07866441)</td>\n",
              "    </tr>\n",
              "    <tr>\n",
              "      <th>4</th>\n",
              "      <td>I182070938</td>\n",
              "      <td>3114</td>\n",
              "      <td>Investigate Property</td>\n",
              "      <td>INVESTIGATE PROPERTY</td>\n",
              "      <td>B3</td>\n",
              "      <td>421</td>\n",
              "      <td>NaN</td>\n",
              "      <td>2018-09-03 21:05:00</td>\n",
              "      <td>2018</td>\n",
              "      <td>9</td>\n",
              "      <td>Monday</td>\n",
              "      <td>21</td>\n",
              "      <td>Part Three</td>\n",
              "      <td>DELHI ST</td>\n",
              "      <td>42.275365</td>\n",
              "      <td>-71.090361</td>\n",
              "      <td>(42.27536542, -71.09036101)</td>\n",
              "    </tr>\n",
              "  </tbody>\n",
              "</table>\n",
              "</div>\n",
              "      <button class=\"colab-df-convert\" onclick=\"convertToInteractive('df-20bbf139-69ce-404a-b74c-707e6d1d92ee')\"\n",
              "              title=\"Convert this dataframe to an interactive table.\"\n",
              "              style=\"display:none;\">\n",
              "        \n",
              "  <svg xmlns=\"http://www.w3.org/2000/svg\" height=\"24px\"viewBox=\"0 0 24 24\"\n",
              "       width=\"24px\">\n",
              "    <path d=\"M0 0h24v24H0V0z\" fill=\"none\"/>\n",
              "    <path d=\"M18.56 5.44l.94 2.06.94-2.06 2.06-.94-2.06-.94-.94-2.06-.94 2.06-2.06.94zm-11 1L8.5 8.5l.94-2.06 2.06-.94-2.06-.94L8.5 2.5l-.94 2.06-2.06.94zm10 10l.94 2.06.94-2.06 2.06-.94-2.06-.94-.94-2.06-.94 2.06-2.06.94z\"/><path d=\"M17.41 7.96l-1.37-1.37c-.4-.4-.92-.59-1.43-.59-.52 0-1.04.2-1.43.59L10.3 9.45l-7.72 7.72c-.78.78-.78 2.05 0 2.83L4 21.41c.39.39.9.59 1.41.59.51 0 1.02-.2 1.41-.59l7.78-7.78 2.81-2.81c.8-.78.8-2.07 0-2.86zM5.41 20L4 18.59l7.72-7.72 1.47 1.35L5.41 20z\"/>\n",
              "  </svg>\n",
              "      </button>\n",
              "      \n",
              "  <style>\n",
              "    .colab-df-container {\n",
              "      display:flex;\n",
              "      flex-wrap:wrap;\n",
              "      gap: 12px;\n",
              "    }\n",
              "\n",
              "    .colab-df-convert {\n",
              "      background-color: #E8F0FE;\n",
              "      border: none;\n",
              "      border-radius: 50%;\n",
              "      cursor: pointer;\n",
              "      display: none;\n",
              "      fill: #1967D2;\n",
              "      height: 32px;\n",
              "      padding: 0 0 0 0;\n",
              "      width: 32px;\n",
              "    }\n",
              "\n",
              "    .colab-df-convert:hover {\n",
              "      background-color: #E2EBFA;\n",
              "      box-shadow: 0px 1px 2px rgba(60, 64, 67, 0.3), 0px 1px 3px 1px rgba(60, 64, 67, 0.15);\n",
              "      fill: #174EA6;\n",
              "    }\n",
              "\n",
              "    [theme=dark] .colab-df-convert {\n",
              "      background-color: #3B4455;\n",
              "      fill: #D2E3FC;\n",
              "    }\n",
              "\n",
              "    [theme=dark] .colab-df-convert:hover {\n",
              "      background-color: #434B5C;\n",
              "      box-shadow: 0px 1px 3px 1px rgba(0, 0, 0, 0.15);\n",
              "      filter: drop-shadow(0px 1px 2px rgba(0, 0, 0, 0.3));\n",
              "      fill: #FFFFFF;\n",
              "    }\n",
              "  </style>\n",
              "\n",
              "      <script>\n",
              "        const buttonEl =\n",
              "          document.querySelector('#df-20bbf139-69ce-404a-b74c-707e6d1d92ee button.colab-df-convert');\n",
              "        buttonEl.style.display =\n",
              "          google.colab.kernel.accessAllowed ? 'block' : 'none';\n",
              "\n",
              "        async function convertToInteractive(key) {\n",
              "          const element = document.querySelector('#df-20bbf139-69ce-404a-b74c-707e6d1d92ee');\n",
              "          const dataTable =\n",
              "            await google.colab.kernel.invokeFunction('convertToInteractive',\n",
              "                                                     [key], {});\n",
              "          if (!dataTable) return;\n",
              "\n",
              "          const docLinkHtml = 'Like what you see? Visit the ' +\n",
              "            '<a target=\"_blank\" href=https://colab.research.google.com/notebooks/data_table.ipynb>data table notebook</a>'\n",
              "            + ' to learn more about interactive tables.';\n",
              "          element.innerHTML = '';\n",
              "          dataTable['output_type'] = 'display_data';\n",
              "          await google.colab.output.renderOutput(dataTable, element);\n",
              "          const docLink = document.createElement('div');\n",
              "          docLink.innerHTML = docLinkHtml;\n",
              "          element.appendChild(docLink);\n",
              "        }\n",
              "      </script>\n",
              "    </div>\n",
              "  </div>\n",
              "  "
            ]
          },
          "metadata": {},
          "execution_count": 13
        }
      ],
      "source": [
        "crime.head() # Quick check of the beginning of the dataframe"
      ]
    },
    {
      "cell_type": "code",
      "execution_count": null,
      "id": "9f2eca52",
      "metadata": {
        "colab": {
          "base_uri": "https://localhost:8080/",
          "height": 337
        },
        "id": "9f2eca52",
        "outputId": "03e20c18-7315-4db4-d343-b661e321f431"
      },
      "outputs": [
        {
          "output_type": "execute_result",
          "data": {
            "text/plain": [
              "       INCIDENT_NUMBER  OFFENSE_CODE OFFENSE_CODE_GROUP  \\\n",
              "319068   I050310906-00          3125    Warrant Arrests   \n",
              "319069   I030217815-08           111           Homicide   \n",
              "319070   I030217815-08          3125    Warrant Arrests   \n",
              "319071   I010370257-00          3125    Warrant Arrests   \n",
              "319072       142052550          3125    Warrant Arrests   \n",
              "\n",
              "                        OFFENSE_DESCRIPTION DISTRICT REPORTING_AREA SHOOTING  \\\n",
              "319068                       WARRANT ARREST       D4            285      NaN   \n",
              "319069  MURDER, NON-NEGLIGIENT MANSLAUGHTER      E18            520      NaN   \n",
              "319070                       WARRANT ARREST      E18            520      NaN   \n",
              "319071                       WARRANT ARREST      E13            569      NaN   \n",
              "319072                       WARRANT ARREST       D4            903      NaN   \n",
              "\n",
              "           OCCURRED_ON_DATE  YEAR  MONTH DAY_OF_WEEK  HOUR    UCR_PART  \\\n",
              "319068  2016-06-05 17:25:00  2016      6      Sunday    17  Part Three   \n",
              "319069  2015-07-09 13:38:00  2015      7    Thursday    13    Part One   \n",
              "319070  2015-07-09 13:38:00  2015      7    Thursday    13  Part Three   \n",
              "319071  2016-05-31 19:35:00  2016      5     Tuesday    19  Part Three   \n",
              "319072  2015-06-22 00:12:00  2015      6      Monday     0  Part Three   \n",
              "\n",
              "                   STREET        Lat       Long                     Location  \n",
              "319068        COVENTRY ST  42.336951 -71.085748  (42.33695098, -71.08574813)  \n",
              "319069           RIVER ST  42.255926 -71.123172  (42.25592648, -71.12317207)  \n",
              "319070           RIVER ST  42.255926 -71.123172  (42.25592648, -71.12317207)  \n",
              "319071  NEW WASHINGTON ST  42.302333 -71.111565  (42.30233307, -71.11156487)  \n",
              "319072      WASHINGTON ST  42.333839 -71.080290  (42.33383935, -71.08029038)  "
            ],
            "text/html": [
              "\n",
              "  <div id=\"df-2a13aaac-17c4-42e8-80b2-370e6ed94ffc\">\n",
              "    <div class=\"colab-df-container\">\n",
              "      <div>\n",
              "<style scoped>\n",
              "    .dataframe tbody tr th:only-of-type {\n",
              "        vertical-align: middle;\n",
              "    }\n",
              "\n",
              "    .dataframe tbody tr th {\n",
              "        vertical-align: top;\n",
              "    }\n",
              "\n",
              "    .dataframe thead th {\n",
              "        text-align: right;\n",
              "    }\n",
              "</style>\n",
              "<table border=\"1\" class=\"dataframe\">\n",
              "  <thead>\n",
              "    <tr style=\"text-align: right;\">\n",
              "      <th></th>\n",
              "      <th>INCIDENT_NUMBER</th>\n",
              "      <th>OFFENSE_CODE</th>\n",
              "      <th>OFFENSE_CODE_GROUP</th>\n",
              "      <th>OFFENSE_DESCRIPTION</th>\n",
              "      <th>DISTRICT</th>\n",
              "      <th>REPORTING_AREA</th>\n",
              "      <th>SHOOTING</th>\n",
              "      <th>OCCURRED_ON_DATE</th>\n",
              "      <th>YEAR</th>\n",
              "      <th>MONTH</th>\n",
              "      <th>DAY_OF_WEEK</th>\n",
              "      <th>HOUR</th>\n",
              "      <th>UCR_PART</th>\n",
              "      <th>STREET</th>\n",
              "      <th>Lat</th>\n",
              "      <th>Long</th>\n",
              "      <th>Location</th>\n",
              "    </tr>\n",
              "  </thead>\n",
              "  <tbody>\n",
              "    <tr>\n",
              "      <th>319068</th>\n",
              "      <td>I050310906-00</td>\n",
              "      <td>3125</td>\n",
              "      <td>Warrant Arrests</td>\n",
              "      <td>WARRANT ARREST</td>\n",
              "      <td>D4</td>\n",
              "      <td>285</td>\n",
              "      <td>NaN</td>\n",
              "      <td>2016-06-05 17:25:00</td>\n",
              "      <td>2016</td>\n",
              "      <td>6</td>\n",
              "      <td>Sunday</td>\n",
              "      <td>17</td>\n",
              "      <td>Part Three</td>\n",
              "      <td>COVENTRY ST</td>\n",
              "      <td>42.336951</td>\n",
              "      <td>-71.085748</td>\n",
              "      <td>(42.33695098, -71.08574813)</td>\n",
              "    </tr>\n",
              "    <tr>\n",
              "      <th>319069</th>\n",
              "      <td>I030217815-08</td>\n",
              "      <td>111</td>\n",
              "      <td>Homicide</td>\n",
              "      <td>MURDER, NON-NEGLIGIENT MANSLAUGHTER</td>\n",
              "      <td>E18</td>\n",
              "      <td>520</td>\n",
              "      <td>NaN</td>\n",
              "      <td>2015-07-09 13:38:00</td>\n",
              "      <td>2015</td>\n",
              "      <td>7</td>\n",
              "      <td>Thursday</td>\n",
              "      <td>13</td>\n",
              "      <td>Part One</td>\n",
              "      <td>RIVER ST</td>\n",
              "      <td>42.255926</td>\n",
              "      <td>-71.123172</td>\n",
              "      <td>(42.25592648, -71.12317207)</td>\n",
              "    </tr>\n",
              "    <tr>\n",
              "      <th>319070</th>\n",
              "      <td>I030217815-08</td>\n",
              "      <td>3125</td>\n",
              "      <td>Warrant Arrests</td>\n",
              "      <td>WARRANT ARREST</td>\n",
              "      <td>E18</td>\n",
              "      <td>520</td>\n",
              "      <td>NaN</td>\n",
              "      <td>2015-07-09 13:38:00</td>\n",
              "      <td>2015</td>\n",
              "      <td>7</td>\n",
              "      <td>Thursday</td>\n",
              "      <td>13</td>\n",
              "      <td>Part Three</td>\n",
              "      <td>RIVER ST</td>\n",
              "      <td>42.255926</td>\n",
              "      <td>-71.123172</td>\n",
              "      <td>(42.25592648, -71.12317207)</td>\n",
              "    </tr>\n",
              "    <tr>\n",
              "      <th>319071</th>\n",
              "      <td>I010370257-00</td>\n",
              "      <td>3125</td>\n",
              "      <td>Warrant Arrests</td>\n",
              "      <td>WARRANT ARREST</td>\n",
              "      <td>E13</td>\n",
              "      <td>569</td>\n",
              "      <td>NaN</td>\n",
              "      <td>2016-05-31 19:35:00</td>\n",
              "      <td>2016</td>\n",
              "      <td>5</td>\n",
              "      <td>Tuesday</td>\n",
              "      <td>19</td>\n",
              "      <td>Part Three</td>\n",
              "      <td>NEW WASHINGTON ST</td>\n",
              "      <td>42.302333</td>\n",
              "      <td>-71.111565</td>\n",
              "      <td>(42.30233307, -71.11156487)</td>\n",
              "    </tr>\n",
              "    <tr>\n",
              "      <th>319072</th>\n",
              "      <td>142052550</td>\n",
              "      <td>3125</td>\n",
              "      <td>Warrant Arrests</td>\n",
              "      <td>WARRANT ARREST</td>\n",
              "      <td>D4</td>\n",
              "      <td>903</td>\n",
              "      <td>NaN</td>\n",
              "      <td>2015-06-22 00:12:00</td>\n",
              "      <td>2015</td>\n",
              "      <td>6</td>\n",
              "      <td>Monday</td>\n",
              "      <td>0</td>\n",
              "      <td>Part Three</td>\n",
              "      <td>WASHINGTON ST</td>\n",
              "      <td>42.333839</td>\n",
              "      <td>-71.080290</td>\n",
              "      <td>(42.33383935, -71.08029038)</td>\n",
              "    </tr>\n",
              "  </tbody>\n",
              "</table>\n",
              "</div>\n",
              "      <button class=\"colab-df-convert\" onclick=\"convertToInteractive('df-2a13aaac-17c4-42e8-80b2-370e6ed94ffc')\"\n",
              "              title=\"Convert this dataframe to an interactive table.\"\n",
              "              style=\"display:none;\">\n",
              "        \n",
              "  <svg xmlns=\"http://www.w3.org/2000/svg\" height=\"24px\"viewBox=\"0 0 24 24\"\n",
              "       width=\"24px\">\n",
              "    <path d=\"M0 0h24v24H0V0z\" fill=\"none\"/>\n",
              "    <path d=\"M18.56 5.44l.94 2.06.94-2.06 2.06-.94-2.06-.94-.94-2.06-.94 2.06-2.06.94zm-11 1L8.5 8.5l.94-2.06 2.06-.94-2.06-.94L8.5 2.5l-.94 2.06-2.06.94zm10 10l.94 2.06.94-2.06 2.06-.94-2.06-.94-.94-2.06-.94 2.06-2.06.94z\"/><path d=\"M17.41 7.96l-1.37-1.37c-.4-.4-.92-.59-1.43-.59-.52 0-1.04.2-1.43.59L10.3 9.45l-7.72 7.72c-.78.78-.78 2.05 0 2.83L4 21.41c.39.39.9.59 1.41.59.51 0 1.02-.2 1.41-.59l7.78-7.78 2.81-2.81c.8-.78.8-2.07 0-2.86zM5.41 20L4 18.59l7.72-7.72 1.47 1.35L5.41 20z\"/>\n",
              "  </svg>\n",
              "      </button>\n",
              "      \n",
              "  <style>\n",
              "    .colab-df-container {\n",
              "      display:flex;\n",
              "      flex-wrap:wrap;\n",
              "      gap: 12px;\n",
              "    }\n",
              "\n",
              "    .colab-df-convert {\n",
              "      background-color: #E8F0FE;\n",
              "      border: none;\n",
              "      border-radius: 50%;\n",
              "      cursor: pointer;\n",
              "      display: none;\n",
              "      fill: #1967D2;\n",
              "      height: 32px;\n",
              "      padding: 0 0 0 0;\n",
              "      width: 32px;\n",
              "    }\n",
              "\n",
              "    .colab-df-convert:hover {\n",
              "      background-color: #E2EBFA;\n",
              "      box-shadow: 0px 1px 2px rgba(60, 64, 67, 0.3), 0px 1px 3px 1px rgba(60, 64, 67, 0.15);\n",
              "      fill: #174EA6;\n",
              "    }\n",
              "\n",
              "    [theme=dark] .colab-df-convert {\n",
              "      background-color: #3B4455;\n",
              "      fill: #D2E3FC;\n",
              "    }\n",
              "\n",
              "    [theme=dark] .colab-df-convert:hover {\n",
              "      background-color: #434B5C;\n",
              "      box-shadow: 0px 1px 3px 1px rgba(0, 0, 0, 0.15);\n",
              "      filter: drop-shadow(0px 1px 2px rgba(0, 0, 0, 0.3));\n",
              "      fill: #FFFFFF;\n",
              "    }\n",
              "  </style>\n",
              "\n",
              "      <script>\n",
              "        const buttonEl =\n",
              "          document.querySelector('#df-2a13aaac-17c4-42e8-80b2-370e6ed94ffc button.colab-df-convert');\n",
              "        buttonEl.style.display =\n",
              "          google.colab.kernel.accessAllowed ? 'block' : 'none';\n",
              "\n",
              "        async function convertToInteractive(key) {\n",
              "          const element = document.querySelector('#df-2a13aaac-17c4-42e8-80b2-370e6ed94ffc');\n",
              "          const dataTable =\n",
              "            await google.colab.kernel.invokeFunction('convertToInteractive',\n",
              "                                                     [key], {});\n",
              "          if (!dataTable) return;\n",
              "\n",
              "          const docLinkHtml = 'Like what you see? Visit the ' +\n",
              "            '<a target=\"_blank\" href=https://colab.research.google.com/notebooks/data_table.ipynb>data table notebook</a>'\n",
              "            + ' to learn more about interactive tables.';\n",
              "          element.innerHTML = '';\n",
              "          dataTable['output_type'] = 'display_data';\n",
              "          await google.colab.output.renderOutput(dataTable, element);\n",
              "          const docLink = document.createElement('div');\n",
              "          docLink.innerHTML = docLinkHtml;\n",
              "          element.appendChild(docLink);\n",
              "        }\n",
              "      </script>\n",
              "    </div>\n",
              "  </div>\n",
              "  "
            ]
          },
          "metadata": {},
          "execution_count": 14
        }
      ],
      "source": [
        "crime.tail() # Quick check of the end of the dataframe"
      ]
    },
    {
      "cell_type": "code",
      "execution_count": null,
      "id": "9ba67772",
      "metadata": {
        "colab": {
          "base_uri": "https://localhost:8080/",
          "height": 641
        },
        "id": "9ba67772",
        "outputId": "aa16a86b-1b5e-4601-b6a0-ed45d46d3103"
      },
      "outputs": [
        {
          "output_type": "execute_result",
          "data": {
            "text/plain": [
              "       INCIDENT_NUMBER  OFFENSE_CODE    OFFENSE_CODE_GROUP  \\\n",
              "0           I182070945           619               Larceny   \n",
              "1           I182070943          1402             Vandalism   \n",
              "2           I182070941          3410                 Towed   \n",
              "3           I182070940          3114  Investigate Property   \n",
              "4           I182070938          3114  Investigate Property   \n",
              "...                ...           ...                   ...   \n",
              "319068   I050310906-00          3125       Warrant Arrests   \n",
              "319069   I030217815-08           111              Homicide   \n",
              "319070   I030217815-08          3125       Warrant Arrests   \n",
              "319071   I010370257-00          3125       Warrant Arrests   \n",
              "319072       142052550          3125       Warrant Arrests   \n",
              "\n",
              "                        OFFENSE_DESCRIPTION DISTRICT REPORTING_AREA SHOOTING  \\\n",
              "0                        LARCENY ALL OTHERS      D14            808      NaN   \n",
              "1                                 VANDALISM      C11            347      NaN   \n",
              "2                       TOWED MOTOR VEHICLE       D4            151      NaN   \n",
              "3                      INVESTIGATE PROPERTY       D4            272      NaN   \n",
              "4                      INVESTIGATE PROPERTY       B3            421      NaN   \n",
              "...                                     ...      ...            ...      ...   \n",
              "319068                       WARRANT ARREST       D4            285      NaN   \n",
              "319069  MURDER, NON-NEGLIGIENT MANSLAUGHTER      E18            520      NaN   \n",
              "319070                       WARRANT ARREST      E18            520      NaN   \n",
              "319071                       WARRANT ARREST      E13            569      NaN   \n",
              "319072                       WARRANT ARREST       D4            903      NaN   \n",
              "\n",
              "           OCCURRED_ON_DATE  YEAR  MONTH DAY_OF_WEEK  HOUR    UCR_PART  \\\n",
              "0       2018-09-02 13:00:00  2018      9      Sunday    13    Part One   \n",
              "1       2018-08-21 00:00:00  2018      8     Tuesday     0    Part Two   \n",
              "2       2018-09-03 19:27:00  2018      9      Monday    19  Part Three   \n",
              "3       2018-09-03 21:16:00  2018      9      Monday    21  Part Three   \n",
              "4       2018-09-03 21:05:00  2018      9      Monday    21  Part Three   \n",
              "...                     ...   ...    ...         ...   ...         ...   \n",
              "319068  2016-06-05 17:25:00  2016      6      Sunday    17  Part Three   \n",
              "319069  2015-07-09 13:38:00  2015      7    Thursday    13    Part One   \n",
              "319070  2015-07-09 13:38:00  2015      7    Thursday    13  Part Three   \n",
              "319071  2016-05-31 19:35:00  2016      5     Tuesday    19  Part Three   \n",
              "319072  2015-06-22 00:12:00  2015      6      Monday     0  Part Three   \n",
              "\n",
              "                   STREET        Lat       Long                     Location  \n",
              "0              LINCOLN ST  42.357791 -71.139371  (42.35779134, -71.13937053)  \n",
              "1                HECLA ST  42.306821 -71.060300  (42.30682138, -71.06030035)  \n",
              "2             CAZENOVE ST  42.346589 -71.072429  (42.34658879, -71.07242943)  \n",
              "3              NEWCOMB ST  42.334182 -71.078664  (42.33418175, -71.07866441)  \n",
              "4                DELHI ST  42.275365 -71.090361  (42.27536542, -71.09036101)  \n",
              "...                   ...        ...        ...                          ...  \n",
              "319068        COVENTRY ST  42.336951 -71.085748  (42.33695098, -71.08574813)  \n",
              "319069           RIVER ST  42.255926 -71.123172  (42.25592648, -71.12317207)  \n",
              "319070           RIVER ST  42.255926 -71.123172  (42.25592648, -71.12317207)  \n",
              "319071  NEW WASHINGTON ST  42.302333 -71.111565  (42.30233307, -71.11156487)  \n",
              "319072      WASHINGTON ST  42.333839 -71.080290  (42.33383935, -71.08029038)  \n",
              "\n",
              "[319050 rows x 17 columns]"
            ],
            "text/html": [
              "\n",
              "  <div id=\"df-1a1a8b07-34f1-42df-a3e0-f668cdb86de1\">\n",
              "    <div class=\"colab-df-container\">\n",
              "      <div>\n",
              "<style scoped>\n",
              "    .dataframe tbody tr th:only-of-type {\n",
              "        vertical-align: middle;\n",
              "    }\n",
              "\n",
              "    .dataframe tbody tr th {\n",
              "        vertical-align: top;\n",
              "    }\n",
              "\n",
              "    .dataframe thead th {\n",
              "        text-align: right;\n",
              "    }\n",
              "</style>\n",
              "<table border=\"1\" class=\"dataframe\">\n",
              "  <thead>\n",
              "    <tr style=\"text-align: right;\">\n",
              "      <th></th>\n",
              "      <th>INCIDENT_NUMBER</th>\n",
              "      <th>OFFENSE_CODE</th>\n",
              "      <th>OFFENSE_CODE_GROUP</th>\n",
              "      <th>OFFENSE_DESCRIPTION</th>\n",
              "      <th>DISTRICT</th>\n",
              "      <th>REPORTING_AREA</th>\n",
              "      <th>SHOOTING</th>\n",
              "      <th>OCCURRED_ON_DATE</th>\n",
              "      <th>YEAR</th>\n",
              "      <th>MONTH</th>\n",
              "      <th>DAY_OF_WEEK</th>\n",
              "      <th>HOUR</th>\n",
              "      <th>UCR_PART</th>\n",
              "      <th>STREET</th>\n",
              "      <th>Lat</th>\n",
              "      <th>Long</th>\n",
              "      <th>Location</th>\n",
              "    </tr>\n",
              "  </thead>\n",
              "  <tbody>\n",
              "    <tr>\n",
              "      <th>0</th>\n",
              "      <td>I182070945</td>\n",
              "      <td>619</td>\n",
              "      <td>Larceny</td>\n",
              "      <td>LARCENY ALL OTHERS</td>\n",
              "      <td>D14</td>\n",
              "      <td>808</td>\n",
              "      <td>NaN</td>\n",
              "      <td>2018-09-02 13:00:00</td>\n",
              "      <td>2018</td>\n",
              "      <td>9</td>\n",
              "      <td>Sunday</td>\n",
              "      <td>13</td>\n",
              "      <td>Part One</td>\n",
              "      <td>LINCOLN ST</td>\n",
              "      <td>42.357791</td>\n",
              "      <td>-71.139371</td>\n",
              "      <td>(42.35779134, -71.13937053)</td>\n",
              "    </tr>\n",
              "    <tr>\n",
              "      <th>1</th>\n",
              "      <td>I182070943</td>\n",
              "      <td>1402</td>\n",
              "      <td>Vandalism</td>\n",
              "      <td>VANDALISM</td>\n",
              "      <td>C11</td>\n",
              "      <td>347</td>\n",
              "      <td>NaN</td>\n",
              "      <td>2018-08-21 00:00:00</td>\n",
              "      <td>2018</td>\n",
              "      <td>8</td>\n",
              "      <td>Tuesday</td>\n",
              "      <td>0</td>\n",
              "      <td>Part Two</td>\n",
              "      <td>HECLA ST</td>\n",
              "      <td>42.306821</td>\n",
              "      <td>-71.060300</td>\n",
              "      <td>(42.30682138, -71.06030035)</td>\n",
              "    </tr>\n",
              "    <tr>\n",
              "      <th>2</th>\n",
              "      <td>I182070941</td>\n",
              "      <td>3410</td>\n",
              "      <td>Towed</td>\n",
              "      <td>TOWED MOTOR VEHICLE</td>\n",
              "      <td>D4</td>\n",
              "      <td>151</td>\n",
              "      <td>NaN</td>\n",
              "      <td>2018-09-03 19:27:00</td>\n",
              "      <td>2018</td>\n",
              "      <td>9</td>\n",
              "      <td>Monday</td>\n",
              "      <td>19</td>\n",
              "      <td>Part Three</td>\n",
              "      <td>CAZENOVE ST</td>\n",
              "      <td>42.346589</td>\n",
              "      <td>-71.072429</td>\n",
              "      <td>(42.34658879, -71.07242943)</td>\n",
              "    </tr>\n",
              "    <tr>\n",
              "      <th>3</th>\n",
              "      <td>I182070940</td>\n",
              "      <td>3114</td>\n",
              "      <td>Investigate Property</td>\n",
              "      <td>INVESTIGATE PROPERTY</td>\n",
              "      <td>D4</td>\n",
              "      <td>272</td>\n",
              "      <td>NaN</td>\n",
              "      <td>2018-09-03 21:16:00</td>\n",
              "      <td>2018</td>\n",
              "      <td>9</td>\n",
              "      <td>Monday</td>\n",
              "      <td>21</td>\n",
              "      <td>Part Three</td>\n",
              "      <td>NEWCOMB ST</td>\n",
              "      <td>42.334182</td>\n",
              "      <td>-71.078664</td>\n",
              "      <td>(42.33418175, -71.07866441)</td>\n",
              "    </tr>\n",
              "    <tr>\n",
              "      <th>4</th>\n",
              "      <td>I182070938</td>\n",
              "      <td>3114</td>\n",
              "      <td>Investigate Property</td>\n",
              "      <td>INVESTIGATE PROPERTY</td>\n",
              "      <td>B3</td>\n",
              "      <td>421</td>\n",
              "      <td>NaN</td>\n",
              "      <td>2018-09-03 21:05:00</td>\n",
              "      <td>2018</td>\n",
              "      <td>9</td>\n",
              "      <td>Monday</td>\n",
              "      <td>21</td>\n",
              "      <td>Part Three</td>\n",
              "      <td>DELHI ST</td>\n",
              "      <td>42.275365</td>\n",
              "      <td>-71.090361</td>\n",
              "      <td>(42.27536542, -71.09036101)</td>\n",
              "    </tr>\n",
              "    <tr>\n",
              "      <th>...</th>\n",
              "      <td>...</td>\n",
              "      <td>...</td>\n",
              "      <td>...</td>\n",
              "      <td>...</td>\n",
              "      <td>...</td>\n",
              "      <td>...</td>\n",
              "      <td>...</td>\n",
              "      <td>...</td>\n",
              "      <td>...</td>\n",
              "      <td>...</td>\n",
              "      <td>...</td>\n",
              "      <td>...</td>\n",
              "      <td>...</td>\n",
              "      <td>...</td>\n",
              "      <td>...</td>\n",
              "      <td>...</td>\n",
              "      <td>...</td>\n",
              "    </tr>\n",
              "    <tr>\n",
              "      <th>319068</th>\n",
              "      <td>I050310906-00</td>\n",
              "      <td>3125</td>\n",
              "      <td>Warrant Arrests</td>\n",
              "      <td>WARRANT ARREST</td>\n",
              "      <td>D4</td>\n",
              "      <td>285</td>\n",
              "      <td>NaN</td>\n",
              "      <td>2016-06-05 17:25:00</td>\n",
              "      <td>2016</td>\n",
              "      <td>6</td>\n",
              "      <td>Sunday</td>\n",
              "      <td>17</td>\n",
              "      <td>Part Three</td>\n",
              "      <td>COVENTRY ST</td>\n",
              "      <td>42.336951</td>\n",
              "      <td>-71.085748</td>\n",
              "      <td>(42.33695098, -71.08574813)</td>\n",
              "    </tr>\n",
              "    <tr>\n",
              "      <th>319069</th>\n",
              "      <td>I030217815-08</td>\n",
              "      <td>111</td>\n",
              "      <td>Homicide</td>\n",
              "      <td>MURDER, NON-NEGLIGIENT MANSLAUGHTER</td>\n",
              "      <td>E18</td>\n",
              "      <td>520</td>\n",
              "      <td>NaN</td>\n",
              "      <td>2015-07-09 13:38:00</td>\n",
              "      <td>2015</td>\n",
              "      <td>7</td>\n",
              "      <td>Thursday</td>\n",
              "      <td>13</td>\n",
              "      <td>Part One</td>\n",
              "      <td>RIVER ST</td>\n",
              "      <td>42.255926</td>\n",
              "      <td>-71.123172</td>\n",
              "      <td>(42.25592648, -71.12317207)</td>\n",
              "    </tr>\n",
              "    <tr>\n",
              "      <th>319070</th>\n",
              "      <td>I030217815-08</td>\n",
              "      <td>3125</td>\n",
              "      <td>Warrant Arrests</td>\n",
              "      <td>WARRANT ARREST</td>\n",
              "      <td>E18</td>\n",
              "      <td>520</td>\n",
              "      <td>NaN</td>\n",
              "      <td>2015-07-09 13:38:00</td>\n",
              "      <td>2015</td>\n",
              "      <td>7</td>\n",
              "      <td>Thursday</td>\n",
              "      <td>13</td>\n",
              "      <td>Part Three</td>\n",
              "      <td>RIVER ST</td>\n",
              "      <td>42.255926</td>\n",
              "      <td>-71.123172</td>\n",
              "      <td>(42.25592648, -71.12317207)</td>\n",
              "    </tr>\n",
              "    <tr>\n",
              "      <th>319071</th>\n",
              "      <td>I010370257-00</td>\n",
              "      <td>3125</td>\n",
              "      <td>Warrant Arrests</td>\n",
              "      <td>WARRANT ARREST</td>\n",
              "      <td>E13</td>\n",
              "      <td>569</td>\n",
              "      <td>NaN</td>\n",
              "      <td>2016-05-31 19:35:00</td>\n",
              "      <td>2016</td>\n",
              "      <td>5</td>\n",
              "      <td>Tuesday</td>\n",
              "      <td>19</td>\n",
              "      <td>Part Three</td>\n",
              "      <td>NEW WASHINGTON ST</td>\n",
              "      <td>42.302333</td>\n",
              "      <td>-71.111565</td>\n",
              "      <td>(42.30233307, -71.11156487)</td>\n",
              "    </tr>\n",
              "    <tr>\n",
              "      <th>319072</th>\n",
              "      <td>142052550</td>\n",
              "      <td>3125</td>\n",
              "      <td>Warrant Arrests</td>\n",
              "      <td>WARRANT ARREST</td>\n",
              "      <td>D4</td>\n",
              "      <td>903</td>\n",
              "      <td>NaN</td>\n",
              "      <td>2015-06-22 00:12:00</td>\n",
              "      <td>2015</td>\n",
              "      <td>6</td>\n",
              "      <td>Monday</td>\n",
              "      <td>0</td>\n",
              "      <td>Part Three</td>\n",
              "      <td>WASHINGTON ST</td>\n",
              "      <td>42.333839</td>\n",
              "      <td>-71.080290</td>\n",
              "      <td>(42.33383935, -71.08029038)</td>\n",
              "    </tr>\n",
              "  </tbody>\n",
              "</table>\n",
              "<p>319050 rows × 17 columns</p>\n",
              "</div>\n",
              "      <button class=\"colab-df-convert\" onclick=\"convertToInteractive('df-1a1a8b07-34f1-42df-a3e0-f668cdb86de1')\"\n",
              "              title=\"Convert this dataframe to an interactive table.\"\n",
              "              style=\"display:none;\">\n",
              "        \n",
              "  <svg xmlns=\"http://www.w3.org/2000/svg\" height=\"24px\"viewBox=\"0 0 24 24\"\n",
              "       width=\"24px\">\n",
              "    <path d=\"M0 0h24v24H0V0z\" fill=\"none\"/>\n",
              "    <path d=\"M18.56 5.44l.94 2.06.94-2.06 2.06-.94-2.06-.94-.94-2.06-.94 2.06-2.06.94zm-11 1L8.5 8.5l.94-2.06 2.06-.94-2.06-.94L8.5 2.5l-.94 2.06-2.06.94zm10 10l.94 2.06.94-2.06 2.06-.94-2.06-.94-.94-2.06-.94 2.06-2.06.94z\"/><path d=\"M17.41 7.96l-1.37-1.37c-.4-.4-.92-.59-1.43-.59-.52 0-1.04.2-1.43.59L10.3 9.45l-7.72 7.72c-.78.78-.78 2.05 0 2.83L4 21.41c.39.39.9.59 1.41.59.51 0 1.02-.2 1.41-.59l7.78-7.78 2.81-2.81c.8-.78.8-2.07 0-2.86zM5.41 20L4 18.59l7.72-7.72 1.47 1.35L5.41 20z\"/>\n",
              "  </svg>\n",
              "      </button>\n",
              "      \n",
              "  <style>\n",
              "    .colab-df-container {\n",
              "      display:flex;\n",
              "      flex-wrap:wrap;\n",
              "      gap: 12px;\n",
              "    }\n",
              "\n",
              "    .colab-df-convert {\n",
              "      background-color: #E8F0FE;\n",
              "      border: none;\n",
              "      border-radius: 50%;\n",
              "      cursor: pointer;\n",
              "      display: none;\n",
              "      fill: #1967D2;\n",
              "      height: 32px;\n",
              "      padding: 0 0 0 0;\n",
              "      width: 32px;\n",
              "    }\n",
              "\n",
              "    .colab-df-convert:hover {\n",
              "      background-color: #E2EBFA;\n",
              "      box-shadow: 0px 1px 2px rgba(60, 64, 67, 0.3), 0px 1px 3px 1px rgba(60, 64, 67, 0.15);\n",
              "      fill: #174EA6;\n",
              "    }\n",
              "\n",
              "    [theme=dark] .colab-df-convert {\n",
              "      background-color: #3B4455;\n",
              "      fill: #D2E3FC;\n",
              "    }\n",
              "\n",
              "    [theme=dark] .colab-df-convert:hover {\n",
              "      background-color: #434B5C;\n",
              "      box-shadow: 0px 1px 3px 1px rgba(0, 0, 0, 0.15);\n",
              "      filter: drop-shadow(0px 1px 2px rgba(0, 0, 0, 0.3));\n",
              "      fill: #FFFFFF;\n",
              "    }\n",
              "  </style>\n",
              "\n",
              "      <script>\n",
              "        const buttonEl =\n",
              "          document.querySelector('#df-1a1a8b07-34f1-42df-a3e0-f668cdb86de1 button.colab-df-convert');\n",
              "        buttonEl.style.display =\n",
              "          google.colab.kernel.accessAllowed ? 'block' : 'none';\n",
              "\n",
              "        async function convertToInteractive(key) {\n",
              "          const element = document.querySelector('#df-1a1a8b07-34f1-42df-a3e0-f668cdb86de1');\n",
              "          const dataTable =\n",
              "            await google.colab.kernel.invokeFunction('convertToInteractive',\n",
              "                                                     [key], {});\n",
              "          if (!dataTable) return;\n",
              "\n",
              "          const docLinkHtml = 'Like what you see? Visit the ' +\n",
              "            '<a target=\"_blank\" href=https://colab.research.google.com/notebooks/data_table.ipynb>data table notebook</a>'\n",
              "            + ' to learn more about interactive tables.';\n",
              "          element.innerHTML = '';\n",
              "          dataTable['output_type'] = 'display_data';\n",
              "          await google.colab.output.renderOutput(dataTable, element);\n",
              "          const docLink = document.createElement('div');\n",
              "          docLink.innerHTML = docLinkHtml;\n",
              "          element.appendChild(docLink);\n",
              "        }\n",
              "      </script>\n",
              "    </div>\n",
              "  </div>\n",
              "  "
            ]
          },
          "metadata": {},
          "execution_count": 15
        }
      ],
      "source": [
        "crime"
      ]
    },
    {
      "cell_type": "code",
      "execution_count": null,
      "id": "4413e055",
      "metadata": {
        "scrolled": true,
        "colab": {
          "base_uri": "https://localhost:8080/"
        },
        "id": "4413e055",
        "outputId": "641abe95-f71b-4466-aba7-dcd1c1cbd1ca"
      },
      "outputs": [
        {
          "output_type": "stream",
          "name": "stdout",
          "text": [
            "<class 'pandas.core.frame.DataFrame'>\n",
            "Int64Index: 319050 entries, 0 to 319072\n",
            "Data columns (total 17 columns):\n",
            " #   Column               Non-Null Count   Dtype  \n",
            "---  ------               --------------   -----  \n",
            " 0   INCIDENT_NUMBER      319050 non-null  object \n",
            " 1   OFFENSE_CODE         319050 non-null  int64  \n",
            " 2   OFFENSE_CODE_GROUP   319050 non-null  object \n",
            " 3   OFFENSE_DESCRIPTION  319050 non-null  object \n",
            " 4   DISTRICT             317285 non-null  object \n",
            " 5   REPORTING_AREA       319050 non-null  object \n",
            " 6   SHOOTING             1019 non-null    object \n",
            " 7   OCCURRED_ON_DATE     319050 non-null  object \n",
            " 8   YEAR                 319050 non-null  int64  \n",
            " 9   MONTH                319050 non-null  int64  \n",
            " 10  DAY_OF_WEEK          319050 non-null  object \n",
            " 11  HOUR                 319050 non-null  int64  \n",
            " 12  UCR_PART             318960 non-null  object \n",
            " 13  STREET               308179 non-null  object \n",
            " 14  Lat                  299052 non-null  float64\n",
            " 15  Long                 299052 non-null  float64\n",
            " 16  Location             319050 non-null  object \n",
            "dtypes: float64(2), int64(4), object(11)\n",
            "memory usage: 43.8+ MB\n"
          ]
        }
      ],
      "source": [
        "crime.info() # Summary information about the dataframe"
      ]
    },
    {
      "cell_type": "code",
      "execution_count": null,
      "id": "b73455f0",
      "metadata": {
        "id": "b73455f0"
      },
      "outputs": [],
      "source": [
        "# Changing the data type from object to datetime for the OCCURRED_ON_DATE column\n",
        "crime.OCCURRED_ON_DATE = pd.to_datetime(crime.OCCURRED_ON_DATE)"
      ]
    },
    {
      "cell_type": "code",
      "execution_count": null,
      "id": "f36de48b",
      "metadata": {
        "colab": {
          "base_uri": "https://localhost:8080/"
        },
        "id": "f36de48b",
        "outputId": "db0cdb65-7ab9-48f0-8b80-28340346aaa2"
      },
      "outputs": [
        {
          "output_type": "stream",
          "name": "stdout",
          "text": [
            "<class 'pandas.core.frame.DataFrame'>\n",
            "Int64Index: 319050 entries, 0 to 319072\n",
            "Data columns (total 17 columns):\n",
            " #   Column               Non-Null Count   Dtype         \n",
            "---  ------               --------------   -----         \n",
            " 0   INCIDENT_NUMBER      319050 non-null  object        \n",
            " 1   OFFENSE_CODE         319050 non-null  int64         \n",
            " 2   OFFENSE_CODE_GROUP   319050 non-null  object        \n",
            " 3   OFFENSE_DESCRIPTION  319050 non-null  object        \n",
            " 4   DISTRICT             317285 non-null  object        \n",
            " 5   REPORTING_AREA       319050 non-null  object        \n",
            " 6   SHOOTING             1019 non-null    object        \n",
            " 7   OCCURRED_ON_DATE     319050 non-null  datetime64[ns]\n",
            " 8   YEAR                 319050 non-null  int64         \n",
            " 9   MONTH                319050 non-null  int64         \n",
            " 10  DAY_OF_WEEK          319050 non-null  object        \n",
            " 11  HOUR                 319050 non-null  int64         \n",
            " 12  UCR_PART             318960 non-null  object        \n",
            " 13  STREET               308179 non-null  object        \n",
            " 14  Lat                  299052 non-null  float64       \n",
            " 15  Long                 299052 non-null  float64       \n",
            " 16  Location             319050 non-null  object        \n",
            "dtypes: datetime64[ns](1), float64(2), int64(4), object(10)\n",
            "memory usage: 43.8+ MB\n"
          ]
        }
      ],
      "source": [
        "# Check if it worked\n",
        "crime.info()"
      ]
    },
    {
      "cell_type": "code",
      "execution_count": null,
      "id": "8e6d7208",
      "metadata": {
        "colab": {
          "base_uri": "https://localhost:8080/"
        },
        "id": "8e6d7208",
        "outputId": "5317d8b8-3235-46e9-be25-0159c08f0989"
      },
      "outputs": [
        {
          "output_type": "execute_result",
          "data": {
            "text/plain": [
              "0         2018\n",
              "1         2018\n",
              "2         2018\n",
              "3         2018\n",
              "4         2018\n",
              "          ... \n",
              "319068    2016\n",
              "319069    2015\n",
              "319070    2015\n",
              "319071    2016\n",
              "319072    2015\n",
              "Name: OCCURRED_ON_DATE, Length: 319050, dtype: int64"
            ]
          },
          "metadata": {},
          "execution_count": 19
        }
      ],
      "source": [
        "# easily extract datetime information frome the OCCURRED_ON_DATE column\n",
        "crime.OCCURRED_ON_DATE.dt.year"
      ]
    },
    {
      "cell_type": "code",
      "execution_count": null,
      "id": "a16d5dd8",
      "metadata": {
        "colab": {
          "base_uri": "https://localhost:8080/"
        },
        "id": "a16d5dd8",
        "outputId": "f30c53f7-c8a9-499c-cb9b-fb8a4501e5b0"
      },
      "outputs": [
        {
          "output_type": "execute_result",
          "data": {
            "text/plain": [
              "0         9\n",
              "1         8\n",
              "2         9\n",
              "3         9\n",
              "4         9\n",
              "         ..\n",
              "319068    6\n",
              "319069    7\n",
              "319070    7\n",
              "319071    5\n",
              "319072    6\n",
              "Name: OCCURRED_ON_DATE, Length: 319050, dtype: int64"
            ]
          },
          "metadata": {},
          "execution_count": 20
        }
      ],
      "source": [
        "crime.OCCURRED_ON_DATE.dt.month"
      ]
    },
    {
      "cell_type": "code",
      "execution_count": null,
      "id": "260527b7",
      "metadata": {
        "colab": {
          "base_uri": "https://localhost:8080/"
        },
        "id": "260527b7",
        "outputId": "144e1c66-663e-4580-bf90-b95b1ad3981b"
      },
      "outputs": [
        {
          "output_type": "stream",
          "name": "stderr",
          "text": [
            "<ipython-input-21-b84f30d90c8e>:1: FutureWarning: Series.dt.weekofyear and Series.dt.week have been deprecated. Please use Series.dt.isocalendar().week instead.\n",
            "  crime.OCCURRED_ON_DATE.dt.week\n"
          ]
        },
        {
          "output_type": "execute_result",
          "data": {
            "text/plain": [
              "0         35\n",
              "1         34\n",
              "2         36\n",
              "3         36\n",
              "4         36\n",
              "          ..\n",
              "319068    22\n",
              "319069    28\n",
              "319070    28\n",
              "319071    22\n",
              "319072    26\n",
              "Name: OCCURRED_ON_DATE, Length: 319050, dtype: int64"
            ]
          },
          "metadata": {},
          "execution_count": 21
        }
      ],
      "source": [
        "crime.OCCURRED_ON_DATE.dt.week"
      ]
    },
    {
      "cell_type": "code",
      "execution_count": null,
      "id": "5e6502e9",
      "metadata": {
        "colab": {
          "base_uri": "https://localhost:8080/"
        },
        "id": "5e6502e9",
        "outputId": "3a44fc31-16d9-4ecc-828e-892f23c2f807"
      },
      "outputs": [
        {
          "output_type": "execute_result",
          "data": {
            "text/plain": [
              "0         13\n",
              "1          0\n",
              "2         19\n",
              "3         21\n",
              "4         21\n",
              "          ..\n",
              "319068    17\n",
              "319069    13\n",
              "319070    13\n",
              "319071    19\n",
              "319072     0\n",
              "Name: OCCURRED_ON_DATE, Length: 319050, dtype: int64"
            ]
          },
          "metadata": {},
          "execution_count": 22
        }
      ],
      "source": [
        "crime.OCCURRED_ON_DATE.dt.hour"
      ]
    },
    {
      "cell_type": "code",
      "execution_count": null,
      "id": "0ef6d738",
      "metadata": {
        "colab": {
          "base_uri": "https://localhost:8080/"
        },
        "id": "0ef6d738",
        "outputId": "3d527ac7-d35f-43fa-bf21-af66bd722924"
      },
      "outputs": [
        {
          "output_type": "execute_result",
          "data": {
            "text/plain": [
              "0          0\n",
              "1          0\n",
              "2         27\n",
              "3         16\n",
              "4          5\n",
              "          ..\n",
              "319068    25\n",
              "319069    38\n",
              "319070    38\n",
              "319071    35\n",
              "319072    12\n",
              "Name: OCCURRED_ON_DATE, Length: 319050, dtype: int64"
            ]
          },
          "metadata": {},
          "execution_count": 23
        }
      ],
      "source": [
        "crime.OCCURRED_ON_DATE.dt.minute"
      ]
    },
    {
      "cell_type": "code",
      "execution_count": null,
      "id": "c03863c6",
      "metadata": {
        "scrolled": true,
        "colab": {
          "base_uri": "https://localhost:8080/",
          "height": 300
        },
        "id": "c03863c6",
        "outputId": "ed1cb730-b8ca-49d0-dc47-34ce88b21728"
      },
      "outputs": [
        {
          "output_type": "execute_result",
          "data": {
            "text/plain": [
              "        OFFENSE_CODE           YEAR          MONTH           HOUR  \\\n",
              "count  319050.000000  319050.000000  319050.000000  319050.000000   \n",
              "mean     2317.516957    2016.560674       6.609622      13.118176   \n",
              "std      1185.308921       0.996312       3.273677       6.294258   \n",
              "min       111.000000    2015.000000       1.000000       0.000000   \n",
              "25%      1001.000000    2016.000000       4.000000       9.000000   \n",
              "50%      2907.000000    2017.000000       7.000000      14.000000   \n",
              "75%      3201.000000    2017.000000       9.000000      18.000000   \n",
              "max      3831.000000    2018.000000      12.000000      23.000000   \n",
              "\n",
              "                 Lat           Long  \n",
              "count  299052.000000  299052.000000  \n",
              "mean       42.214373     -70.908260  \n",
              "std         2.159845       3.493746  \n",
              "min        -1.000000     -71.178674  \n",
              "25%        42.297438     -71.097135  \n",
              "50%        42.325538     -71.077524  \n",
              "75%        42.348624     -71.062467  \n",
              "max        42.395042      -1.000000  "
            ],
            "text/html": [
              "\n",
              "  <div id=\"df-87426970-d130-4ada-b6ae-18d3d02dc8e7\">\n",
              "    <div class=\"colab-df-container\">\n",
              "      <div>\n",
              "<style scoped>\n",
              "    .dataframe tbody tr th:only-of-type {\n",
              "        vertical-align: middle;\n",
              "    }\n",
              "\n",
              "    .dataframe tbody tr th {\n",
              "        vertical-align: top;\n",
              "    }\n",
              "\n",
              "    .dataframe thead th {\n",
              "        text-align: right;\n",
              "    }\n",
              "</style>\n",
              "<table border=\"1\" class=\"dataframe\">\n",
              "  <thead>\n",
              "    <tr style=\"text-align: right;\">\n",
              "      <th></th>\n",
              "      <th>OFFENSE_CODE</th>\n",
              "      <th>YEAR</th>\n",
              "      <th>MONTH</th>\n",
              "      <th>HOUR</th>\n",
              "      <th>Lat</th>\n",
              "      <th>Long</th>\n",
              "    </tr>\n",
              "  </thead>\n",
              "  <tbody>\n",
              "    <tr>\n",
              "      <th>count</th>\n",
              "      <td>319050.000000</td>\n",
              "      <td>319050.000000</td>\n",
              "      <td>319050.000000</td>\n",
              "      <td>319050.000000</td>\n",
              "      <td>299052.000000</td>\n",
              "      <td>299052.000000</td>\n",
              "    </tr>\n",
              "    <tr>\n",
              "      <th>mean</th>\n",
              "      <td>2317.516957</td>\n",
              "      <td>2016.560674</td>\n",
              "      <td>6.609622</td>\n",
              "      <td>13.118176</td>\n",
              "      <td>42.214373</td>\n",
              "      <td>-70.908260</td>\n",
              "    </tr>\n",
              "    <tr>\n",
              "      <th>std</th>\n",
              "      <td>1185.308921</td>\n",
              "      <td>0.996312</td>\n",
              "      <td>3.273677</td>\n",
              "      <td>6.294258</td>\n",
              "      <td>2.159845</td>\n",
              "      <td>3.493746</td>\n",
              "    </tr>\n",
              "    <tr>\n",
              "      <th>min</th>\n",
              "      <td>111.000000</td>\n",
              "      <td>2015.000000</td>\n",
              "      <td>1.000000</td>\n",
              "      <td>0.000000</td>\n",
              "      <td>-1.000000</td>\n",
              "      <td>-71.178674</td>\n",
              "    </tr>\n",
              "    <tr>\n",
              "      <th>25%</th>\n",
              "      <td>1001.000000</td>\n",
              "      <td>2016.000000</td>\n",
              "      <td>4.000000</td>\n",
              "      <td>9.000000</td>\n",
              "      <td>42.297438</td>\n",
              "      <td>-71.097135</td>\n",
              "    </tr>\n",
              "    <tr>\n",
              "      <th>50%</th>\n",
              "      <td>2907.000000</td>\n",
              "      <td>2017.000000</td>\n",
              "      <td>7.000000</td>\n",
              "      <td>14.000000</td>\n",
              "      <td>42.325538</td>\n",
              "      <td>-71.077524</td>\n",
              "    </tr>\n",
              "    <tr>\n",
              "      <th>75%</th>\n",
              "      <td>3201.000000</td>\n",
              "      <td>2017.000000</td>\n",
              "      <td>9.000000</td>\n",
              "      <td>18.000000</td>\n",
              "      <td>42.348624</td>\n",
              "      <td>-71.062467</td>\n",
              "    </tr>\n",
              "    <tr>\n",
              "      <th>max</th>\n",
              "      <td>3831.000000</td>\n",
              "      <td>2018.000000</td>\n",
              "      <td>12.000000</td>\n",
              "      <td>23.000000</td>\n",
              "      <td>42.395042</td>\n",
              "      <td>-1.000000</td>\n",
              "    </tr>\n",
              "  </tbody>\n",
              "</table>\n",
              "</div>\n",
              "      <button class=\"colab-df-convert\" onclick=\"convertToInteractive('df-87426970-d130-4ada-b6ae-18d3d02dc8e7')\"\n",
              "              title=\"Convert this dataframe to an interactive table.\"\n",
              "              style=\"display:none;\">\n",
              "        \n",
              "  <svg xmlns=\"http://www.w3.org/2000/svg\" height=\"24px\"viewBox=\"0 0 24 24\"\n",
              "       width=\"24px\">\n",
              "    <path d=\"M0 0h24v24H0V0z\" fill=\"none\"/>\n",
              "    <path d=\"M18.56 5.44l.94 2.06.94-2.06 2.06-.94-2.06-.94-.94-2.06-.94 2.06-2.06.94zm-11 1L8.5 8.5l.94-2.06 2.06-.94-2.06-.94L8.5 2.5l-.94 2.06-2.06.94zm10 10l.94 2.06.94-2.06 2.06-.94-2.06-.94-.94-2.06-.94 2.06-2.06.94z\"/><path d=\"M17.41 7.96l-1.37-1.37c-.4-.4-.92-.59-1.43-.59-.52 0-1.04.2-1.43.59L10.3 9.45l-7.72 7.72c-.78.78-.78 2.05 0 2.83L4 21.41c.39.39.9.59 1.41.59.51 0 1.02-.2 1.41-.59l7.78-7.78 2.81-2.81c.8-.78.8-2.07 0-2.86zM5.41 20L4 18.59l7.72-7.72 1.47 1.35L5.41 20z\"/>\n",
              "  </svg>\n",
              "      </button>\n",
              "      \n",
              "  <style>\n",
              "    .colab-df-container {\n",
              "      display:flex;\n",
              "      flex-wrap:wrap;\n",
              "      gap: 12px;\n",
              "    }\n",
              "\n",
              "    .colab-df-convert {\n",
              "      background-color: #E8F0FE;\n",
              "      border: none;\n",
              "      border-radius: 50%;\n",
              "      cursor: pointer;\n",
              "      display: none;\n",
              "      fill: #1967D2;\n",
              "      height: 32px;\n",
              "      padding: 0 0 0 0;\n",
              "      width: 32px;\n",
              "    }\n",
              "\n",
              "    .colab-df-convert:hover {\n",
              "      background-color: #E2EBFA;\n",
              "      box-shadow: 0px 1px 2px rgba(60, 64, 67, 0.3), 0px 1px 3px 1px rgba(60, 64, 67, 0.15);\n",
              "      fill: #174EA6;\n",
              "    }\n",
              "\n",
              "    [theme=dark] .colab-df-convert {\n",
              "      background-color: #3B4455;\n",
              "      fill: #D2E3FC;\n",
              "    }\n",
              "\n",
              "    [theme=dark] .colab-df-convert:hover {\n",
              "      background-color: #434B5C;\n",
              "      box-shadow: 0px 1px 3px 1px rgba(0, 0, 0, 0.15);\n",
              "      filter: drop-shadow(0px 1px 2px rgba(0, 0, 0, 0.3));\n",
              "      fill: #FFFFFF;\n",
              "    }\n",
              "  </style>\n",
              "\n",
              "      <script>\n",
              "        const buttonEl =\n",
              "          document.querySelector('#df-87426970-d130-4ada-b6ae-18d3d02dc8e7 button.colab-df-convert');\n",
              "        buttonEl.style.display =\n",
              "          google.colab.kernel.accessAllowed ? 'block' : 'none';\n",
              "\n",
              "        async function convertToInteractive(key) {\n",
              "          const element = document.querySelector('#df-87426970-d130-4ada-b6ae-18d3d02dc8e7');\n",
              "          const dataTable =\n",
              "            await google.colab.kernel.invokeFunction('convertToInteractive',\n",
              "                                                     [key], {});\n",
              "          if (!dataTable) return;\n",
              "\n",
              "          const docLinkHtml = 'Like what you see? Visit the ' +\n",
              "            '<a target=\"_blank\" href=https://colab.research.google.com/notebooks/data_table.ipynb>data table notebook</a>'\n",
              "            + ' to learn more about interactive tables.';\n",
              "          element.innerHTML = '';\n",
              "          dataTable['output_type'] = 'display_data';\n",
              "          await google.colab.output.renderOutput(dataTable, element);\n",
              "          const docLink = document.createElement('div');\n",
              "          docLink.innerHTML = docLinkHtml;\n",
              "          element.appendChild(docLink);\n",
              "        }\n",
              "      </script>\n",
              "    </div>\n",
              "  </div>\n",
              "  "
            ]
          },
          "metadata": {},
          "execution_count": 24
        }
      ],
      "source": [
        "crime.describe() # summary information on the numeric columns"
      ]
    },
    {
      "cell_type": "code",
      "execution_count": null,
      "id": "6dc94fdd",
      "metadata": {
        "colab": {
          "base_uri": "https://localhost:8080/",
          "height": 175
        },
        "id": "6dc94fdd",
        "outputId": "5bfd4291-72df-45e2-c33e-4364a856a032"
      },
      "outputs": [
        {
          "output_type": "execute_result",
          "data": {
            "text/plain": [
              "       INCIDENT_NUMBER               OFFENSE_CODE_GROUP  \\\n",
              "count           319050                           319050   \n",
              "unique          282517                               67   \n",
              "top         I162030584  Motor Vehicle Accident Response   \n",
              "freq                13                            37132   \n",
              "\n",
              "                  OFFENSE_DESCRIPTION DISTRICT REPORTING_AREA SHOOTING  \\\n",
              "count                          319050   317285         319050     1019   \n",
              "unique                            244       12            879        1   \n",
              "top     SICK/INJURED/MEDICAL - PERSON       B2                       Y   \n",
              "freq                            18783    49940          20250     1019   \n",
              "\n",
              "       DAY_OF_WEEK    UCR_PART         STREET                  Location  \n",
              "count       319050      318960         308179                    319050  \n",
              "unique           7           4           4657                     18194  \n",
              "top         Friday  Part Three  WASHINGTON ST  (0.00000000, 0.00000000)  \n",
              "freq         48489      158537          14192                     19998  "
            ],
            "text/html": [
              "\n",
              "  <div id=\"df-2f28e582-efc6-44b2-a14b-9d5f5e471784\">\n",
              "    <div class=\"colab-df-container\">\n",
              "      <div>\n",
              "<style scoped>\n",
              "    .dataframe tbody tr th:only-of-type {\n",
              "        vertical-align: middle;\n",
              "    }\n",
              "\n",
              "    .dataframe tbody tr th {\n",
              "        vertical-align: top;\n",
              "    }\n",
              "\n",
              "    .dataframe thead th {\n",
              "        text-align: right;\n",
              "    }\n",
              "</style>\n",
              "<table border=\"1\" class=\"dataframe\">\n",
              "  <thead>\n",
              "    <tr style=\"text-align: right;\">\n",
              "      <th></th>\n",
              "      <th>INCIDENT_NUMBER</th>\n",
              "      <th>OFFENSE_CODE_GROUP</th>\n",
              "      <th>OFFENSE_DESCRIPTION</th>\n",
              "      <th>DISTRICT</th>\n",
              "      <th>REPORTING_AREA</th>\n",
              "      <th>SHOOTING</th>\n",
              "      <th>DAY_OF_WEEK</th>\n",
              "      <th>UCR_PART</th>\n",
              "      <th>STREET</th>\n",
              "      <th>Location</th>\n",
              "    </tr>\n",
              "  </thead>\n",
              "  <tbody>\n",
              "    <tr>\n",
              "      <th>count</th>\n",
              "      <td>319050</td>\n",
              "      <td>319050</td>\n",
              "      <td>319050</td>\n",
              "      <td>317285</td>\n",
              "      <td>319050</td>\n",
              "      <td>1019</td>\n",
              "      <td>319050</td>\n",
              "      <td>318960</td>\n",
              "      <td>308179</td>\n",
              "      <td>319050</td>\n",
              "    </tr>\n",
              "    <tr>\n",
              "      <th>unique</th>\n",
              "      <td>282517</td>\n",
              "      <td>67</td>\n",
              "      <td>244</td>\n",
              "      <td>12</td>\n",
              "      <td>879</td>\n",
              "      <td>1</td>\n",
              "      <td>7</td>\n",
              "      <td>4</td>\n",
              "      <td>4657</td>\n",
              "      <td>18194</td>\n",
              "    </tr>\n",
              "    <tr>\n",
              "      <th>top</th>\n",
              "      <td>I162030584</td>\n",
              "      <td>Motor Vehicle Accident Response</td>\n",
              "      <td>SICK/INJURED/MEDICAL - PERSON</td>\n",
              "      <td>B2</td>\n",
              "      <td></td>\n",
              "      <td>Y</td>\n",
              "      <td>Friday</td>\n",
              "      <td>Part Three</td>\n",
              "      <td>WASHINGTON ST</td>\n",
              "      <td>(0.00000000, 0.00000000)</td>\n",
              "    </tr>\n",
              "    <tr>\n",
              "      <th>freq</th>\n",
              "      <td>13</td>\n",
              "      <td>37132</td>\n",
              "      <td>18783</td>\n",
              "      <td>49940</td>\n",
              "      <td>20250</td>\n",
              "      <td>1019</td>\n",
              "      <td>48489</td>\n",
              "      <td>158537</td>\n",
              "      <td>14192</td>\n",
              "      <td>19998</td>\n",
              "    </tr>\n",
              "  </tbody>\n",
              "</table>\n",
              "</div>\n",
              "      <button class=\"colab-df-convert\" onclick=\"convertToInteractive('df-2f28e582-efc6-44b2-a14b-9d5f5e471784')\"\n",
              "              title=\"Convert this dataframe to an interactive table.\"\n",
              "              style=\"display:none;\">\n",
              "        \n",
              "  <svg xmlns=\"http://www.w3.org/2000/svg\" height=\"24px\"viewBox=\"0 0 24 24\"\n",
              "       width=\"24px\">\n",
              "    <path d=\"M0 0h24v24H0V0z\" fill=\"none\"/>\n",
              "    <path d=\"M18.56 5.44l.94 2.06.94-2.06 2.06-.94-2.06-.94-.94-2.06-.94 2.06-2.06.94zm-11 1L8.5 8.5l.94-2.06 2.06-.94-2.06-.94L8.5 2.5l-.94 2.06-2.06.94zm10 10l.94 2.06.94-2.06 2.06-.94-2.06-.94-.94-2.06-.94 2.06-2.06.94z\"/><path d=\"M17.41 7.96l-1.37-1.37c-.4-.4-.92-.59-1.43-.59-.52 0-1.04.2-1.43.59L10.3 9.45l-7.72 7.72c-.78.78-.78 2.05 0 2.83L4 21.41c.39.39.9.59 1.41.59.51 0 1.02-.2 1.41-.59l7.78-7.78 2.81-2.81c.8-.78.8-2.07 0-2.86zM5.41 20L4 18.59l7.72-7.72 1.47 1.35L5.41 20z\"/>\n",
              "  </svg>\n",
              "      </button>\n",
              "      \n",
              "  <style>\n",
              "    .colab-df-container {\n",
              "      display:flex;\n",
              "      flex-wrap:wrap;\n",
              "      gap: 12px;\n",
              "    }\n",
              "\n",
              "    .colab-df-convert {\n",
              "      background-color: #E8F0FE;\n",
              "      border: none;\n",
              "      border-radius: 50%;\n",
              "      cursor: pointer;\n",
              "      display: none;\n",
              "      fill: #1967D2;\n",
              "      height: 32px;\n",
              "      padding: 0 0 0 0;\n",
              "      width: 32px;\n",
              "    }\n",
              "\n",
              "    .colab-df-convert:hover {\n",
              "      background-color: #E2EBFA;\n",
              "      box-shadow: 0px 1px 2px rgba(60, 64, 67, 0.3), 0px 1px 3px 1px rgba(60, 64, 67, 0.15);\n",
              "      fill: #174EA6;\n",
              "    }\n",
              "\n",
              "    [theme=dark] .colab-df-convert {\n",
              "      background-color: #3B4455;\n",
              "      fill: #D2E3FC;\n",
              "    }\n",
              "\n",
              "    [theme=dark] .colab-df-convert:hover {\n",
              "      background-color: #434B5C;\n",
              "      box-shadow: 0px 1px 3px 1px rgba(0, 0, 0, 0.15);\n",
              "      filter: drop-shadow(0px 1px 2px rgba(0, 0, 0, 0.3));\n",
              "      fill: #FFFFFF;\n",
              "    }\n",
              "  </style>\n",
              "\n",
              "      <script>\n",
              "        const buttonEl =\n",
              "          document.querySelector('#df-2f28e582-efc6-44b2-a14b-9d5f5e471784 button.colab-df-convert');\n",
              "        buttonEl.style.display =\n",
              "          google.colab.kernel.accessAllowed ? 'block' : 'none';\n",
              "\n",
              "        async function convertToInteractive(key) {\n",
              "          const element = document.querySelector('#df-2f28e582-efc6-44b2-a14b-9d5f5e471784');\n",
              "          const dataTable =\n",
              "            await google.colab.kernel.invokeFunction('convertToInteractive',\n",
              "                                                     [key], {});\n",
              "          if (!dataTable) return;\n",
              "\n",
              "          const docLinkHtml = 'Like what you see? Visit the ' +\n",
              "            '<a target=\"_blank\" href=https://colab.research.google.com/notebooks/data_table.ipynb>data table notebook</a>'\n",
              "            + ' to learn more about interactive tables.';\n",
              "          element.innerHTML = '';\n",
              "          dataTable['output_type'] = 'display_data';\n",
              "          await google.colab.output.renderOutput(dataTable, element);\n",
              "          const docLink = document.createElement('div');\n",
              "          docLink.innerHTML = docLinkHtml;\n",
              "          element.appendChild(docLink);\n",
              "        }\n",
              "      </script>\n",
              "    </div>\n",
              "  </div>\n",
              "  "
            ]
          },
          "metadata": {},
          "execution_count": 25
        }
      ],
      "source": [
        "crime.describe(include='object') # summary information on the non-numeric columns"
      ]
    },
    {
      "cell_type": "code",
      "execution_count": null,
      "id": "58e96c07",
      "metadata": {
        "colab": {
          "base_uri": "https://localhost:8080/"
        },
        "id": "58e96c07",
        "outputId": "7eea2766-e78f-42ff-cca5-7e0c6a6a5b70"
      },
      "outputs": [
        {
          "output_type": "execute_result",
          "data": {
            "text/plain": [
              "Index(['DISTRICT', 'SHOOTING', 'UCR_PART', 'STREET', 'Lat', 'Long'], dtype='object')"
            ]
          },
          "metadata": {},
          "execution_count": 26
        }
      ],
      "source": [
        "# Checking for columns with missing values\n",
        "crime.columns[np.sum(crime.isnull()) != 0]"
      ]
    },
    {
      "cell_type": "code",
      "execution_count": null,
      "id": "62eb70c4",
      "metadata": {
        "colab": {
          "base_uri": "https://localhost:8080/"
        },
        "id": "62eb70c4",
        "outputId": "b1deff64-1b21-45f0-f71a-0afe2f09a9fa"
      },
      "outputs": [
        {
          "output_type": "stream",
          "name": "stdout",
          "text": [
            "Missing values in each column \n",
            "\n"
          ]
        },
        {
          "output_type": "execute_result",
          "data": {
            "text/plain": [
              "INCIDENT_NUMBER             0\n",
              "OFFENSE_CODE                0\n",
              "OFFENSE_CODE_GROUP          0\n",
              "OFFENSE_DESCRIPTION         0\n",
              "DISTRICT                 1765\n",
              "REPORTING_AREA              0\n",
              "SHOOTING               318031\n",
              "OCCURRED_ON_DATE            0\n",
              "YEAR                        0\n",
              "MONTH                       0\n",
              "DAY_OF_WEEK                 0\n",
              "HOUR                        0\n",
              "UCR_PART                   90\n",
              "STREET                  10871\n",
              "Lat                     19998\n",
              "Long                    19998\n",
              "Location                    0\n",
              "dtype: int64"
            ]
          },
          "metadata": {},
          "execution_count": 27
        }
      ],
      "source": [
        "# Checking for the number of missing values in each column\n",
        "print('Missing values in each column \\n')\n",
        "crime[crime.columns].isnull().sum()"
      ]
    },
    {
      "cell_type": "code",
      "execution_count": null,
      "id": "906c0994",
      "metadata": {
        "colab": {
          "base_uri": "https://localhost:8080/"
        },
        "id": "906c0994",
        "outputId": "c1466067-4741-47d0-9320-bdf971319c24"
      },
      "outputs": [
        {
          "output_type": "execute_result",
          "data": {
            "text/plain": [
              "Index(['INCIDENT_NUMBER', 'OFFENSE_CODE', 'OFFENSE_CODE_GROUP',\n",
              "       'OFFENSE_DESCRIPTION', 'REPORTING_AREA', 'OCCURRED_ON_DATE', 'YEAR',\n",
              "       'MONTH', 'DAY_OF_WEEK', 'HOUR', 'Location'],\n",
              "      dtype='object')"
            ]
          },
          "metadata": {},
          "execution_count": 28
        }
      ],
      "source": [
        "# Checking for columns with no missing values\n",
        "crime.columns[np.sum(crime.isnull()) == 0]"
      ]
    },
    {
      "cell_type": "code",
      "execution_count": null,
      "id": "887b29bf",
      "metadata": {
        "colab": {
          "base_uri": "https://localhost:8080/"
        },
        "id": "887b29bf",
        "outputId": "3a67311f-6f75-4ee6-985e-9c7bb92b0dec"
      },
      "outputs": [
        {
          "output_type": "stream",
          "name": "stdout",
          "text": [
            "INCIDENT_NUMBER has 282517 unique values\n",
            "OFFENSE_CODE has 222 unique values\n",
            "OFFENSE_CODE_GROUP has 67 unique values\n",
            "OFFENSE_DESCRIPTION has 244 unique values\n",
            "DISTRICT has 12 unique values\n",
            "REPORTING_AREA has 879 unique values\n",
            "SHOOTING has 1 unique values\n",
            "OCCURRED_ON_DATE has 233229 unique values\n",
            "YEAR has 4 unique values\n",
            "MONTH has 12 unique values\n",
            "DAY_OF_WEEK has 7 unique values\n",
            "HOUR has 24 unique values\n",
            "UCR_PART has 4 unique values\n",
            "STREET has 4657 unique values\n",
            "Lat has 18178 unique values\n",
            "Long has 18178 unique values\n",
            "Location has 18194 unique values\n"
          ]
        }
      ],
      "source": [
        "# Checking for the number of unique values in each column\n",
        "for col in crime.columns:\n",
        "    unique_count = crime[col].nunique()\n",
        "    print(col + \" has \" + str(unique_count) + \" unique values\")"
      ]
    },
    {
      "cell_type": "markdown",
      "id": "7e12d2c7",
      "metadata": {
        "id": "7e12d2c7"
      },
      "source": [
        "### Let's answer some questions"
      ]
    },
    {
      "cell_type": "code",
      "execution_count": null,
      "id": "5ce85da1",
      "metadata": {
        "colab": {
          "base_uri": "https://localhost:8080/"
        },
        "id": "5ce85da1",
        "outputId": "b8d52e20-fb87-40bb-f238-cf6b4eae4cc3"
      },
      "outputs": [
        {
          "output_type": "execute_result",
          "data": {
            "text/plain": [
              "Motor Vehicle Accident Response              37132\n",
              "Larceny                                      25935\n",
              "Medical Assistance                           23540\n",
              "Investigate Person                           18749\n",
              "Other                                        18073\n",
              "                                             ...  \n",
              "HUMAN TRAFFICKING                                7\n",
              "INVESTIGATE PERSON                               4\n",
              "Biological Threat                                2\n",
              "HUMAN TRAFFICKING - INVOLUNTARY SERVITUDE        2\n",
              "Burglary - No Property Taken                     2\n",
              "Name: OFFENSE_CODE_GROUP, Length: 67, dtype: int64"
            ]
          },
          "metadata": {},
          "execution_count": 30
        }
      ],
      "source": [
        "# What are the most common crimes in terms of offense group?\n",
        "crime.OFFENSE_CODE_GROUP.value_counts()"
      ]
    },
    {
      "cell_type": "code",
      "execution_count": null,
      "id": "0ba23067",
      "metadata": {
        "scrolled": true,
        "colab": {
          "base_uri": "https://localhost:8080/",
          "height": 870
        },
        "id": "0ba23067",
        "outputId": "5e32ad3d-21b0-427f-ad50-1974778cd0a8"
      },
      "outputs": [
        {
          "output_type": "display_data",
          "data": {
            "text/plain": [
              "Motor Vehicle Accident Response    0.116383\n",
              "Larceny                            0.081288\n",
              "Medical Assistance                 0.073782\n",
              "Investigate Person                 0.058765\n",
              "Other                              0.056646\n",
              "Drug Violation                     0.051857\n",
              "Simple Assault                     0.049604\n",
              "Vandalism                          0.048312\n",
              "Verbal Disputes                    0.041056\n",
              "Towed                              0.035377\n",
              "Name: OFFENSE_CODE_GROUP, dtype: float64"
            ]
          },
          "metadata": {}
        },
        {
          "output_type": "display_data",
          "data": {
            "text/plain": [
              "<Figure size 640x480 with 1 Axes>"
            ],
            "image/png": "[encoded data removed]"
          },
          "metadata": {}
        }
      ],
      "source": [
        "offense_group_vals = crime.OFFENSE_CODE_GROUP.value_counts()[:10]\n",
        "\n",
        "display(offense_group_vals / crime.shape[0])\n",
        "\n",
        "# Creating a bar chart of the Top 10 offense groups\n",
        "(offense_group_vals / crime.shape[0]).plot(kind='bar');\n",
        "plt.title('Top 10 Offense Groups (as % of all crimes)');"
      ]
    },
    {
      "cell_type": "code",
      "execution_count": null,
      "id": "e15c0db4",
      "metadata": {
        "colab": {
          "base_uri": "https://localhost:8080/"
        },
        "id": "e15c0db4",
        "outputId": "29d1a8b4-5b09-4844-f7f4-c2727037bca1"
      },
      "outputs": [
        {
          "output_type": "execute_result",
          "data": {
            "text/plain": [
              "Burglary - No Property Taken                  2\n",
              "HUMAN TRAFFICKING - INVOLUNTARY SERVITUDE     2\n",
              "Biological Threat                             2\n",
              "INVESTIGATE PERSON                            4\n",
              "HUMAN TRAFFICKING                             7\n",
              "Gambling                                      8\n",
              "Manslaughter                                  8\n",
              "Explosives                                   27\n",
              "Phone Call Complaints                        31\n",
              "Aircraft                                     36\n",
              "Name: OFFENSE_CODE_GROUP, dtype: int64"
            ]
          },
          "metadata": {},
          "execution_count": 32
        }
      ],
      "source": [
        "# What are the least common offense groups?\n",
        "crime.OFFENSE_CODE_GROUP.value_counts().sort_values(ascending=True)[:10]"
      ]
    },
    {
      "cell_type": "markdown",
      "source": [
        "# Question 1\n",
        "\n",
        "What are the most common offense descriptions?"
      ],
      "metadata": {
        "id": "kRKWL_yZYwJU"
      },
      "id": "kRKWL_yZYwJU"
    },
    {
      "cell_type": "code",
      "execution_count": null,
      "id": "d269207d",
      "metadata": {
        "colab": {
          "base_uri": "https://localhost:8080/"
        },
        "id": "d269207d",
        "outputId": "ab7fdfa5-39ba-4493-cac3-52c8fbad8bf2"
      },
      "outputs": [
        {
          "output_type": "execute_result",
          "data": {
            "text/plain": [
              "SICK/INJURED/MEDICAL - PERSON                  18783\n",
              "INVESTIGATE PERSON                             18753\n",
              "M/V - LEAVING SCENE - PROPERTY DAMAGE          16323\n",
              "VANDALISM                                      15153\n",
              "ASSAULT SIMPLE - BATTERY                       14791\n",
              "                                               ...  \n",
              "KILLING OF FELON BY POLICE                         1\n",
              "AUTO THEFT - OUTSIDE - RECOVERED IN BOSTON         1\n",
              "DRUGS - GLUE INHALATION                            1\n",
              "ROBBERY - KNIFE - STREET                           1\n",
              "DRUGS - POSS CLASS D - INTENT MFR DIST DISP        1\n",
              "Name: OFFENSE_DESCRIPTION, Length: 244, dtype: int64"
            ]
          },
          "metadata": {},
          "execution_count": 33
        }
      ],
      "source": [
        "crime.OFFENSE_DESCRIPTION.value_counts()"
      ]
    },
    {
      "cell_type": "code",
      "execution_count": null,
      "id": "da299784",
      "metadata": {
        "scrolled": true,
        "colab": {
          "base_uri": "https://localhost:8080/",
          "height": 942
        },
        "id": "da299784",
        "outputId": "3dc884ed-033c-42ad-cbc9-e164c8fe5aef"
      },
      "outputs": [
        {
          "output_type": "display_data",
          "data": {
            "text/plain": [
              "SICK/INJURED/MEDICAL - PERSON            0.058872\n",
              "INVESTIGATE PERSON                       0.058778\n",
              "M/V - LEAVING SCENE - PROPERTY DAMAGE    0.051161\n",
              "VANDALISM                                0.047494\n",
              "ASSAULT SIMPLE - BATTERY                 0.046360\n",
              "VERBAL DISPUTE                           0.041056\n",
              "TOWED MOTOR VEHICLE                      0.035377\n",
              "INVESTIGATE PROPERTY                     0.034866\n",
              "LARCENY THEFT FROM BUILDING              0.028425\n",
              "THREATS TO DO BODILY HARM                0.028340\n",
              "Name: OFFENSE_DESCRIPTION, dtype: float64"
            ]
          },
          "metadata": {}
        },
        {
          "output_type": "display_data",
          "data": {
            "text/plain": [
              "<Figure size 640x480 with 1 Axes>"
            ],
            "image/png": "[encoded data removed]"
          },
          "metadata": {}
        }
      ],
      "source": [
        "# Question 2 - Now try and create a bar chart of the Top 10 Offense Descriptions as a % of total crimes\n",
        "\n",
        "offense_description_vals = crime.OFFENSE_DESCRIPTION.value_counts()[:10]\n",
        "\n",
        "display(offense_description_vals / crime.shape[0])\n",
        "\n",
        "(offense_description_vals / crime.shape[0]).plot(kind='bar');\n",
        "plt.title('Top 10 Offense Descriptions (as % of all crimes)');"
      ]
    },
    {
      "cell_type": "code",
      "execution_count": null,
      "id": "004ed113",
      "metadata": {
        "colab": {
          "base_uri": "https://localhost:8080/",
          "height": 493
        },
        "id": "004ed113",
        "outputId": "d8d2858b-d8da-4e9a-cb96-4750928b4d50"
      },
      "outputs": [
        {
          "output_type": "display_data",
          "data": {
            "text/plain": [
              "<Figure size 640x480 with 1 Axes>"
            ],
            "image/png": "[encoded data removed]"
          },
          "metadata": {}
        }
      ],
      "source": [
        "# In which year were the most crimes committed?\n",
        "crime.groupby('YEAR').count()['INCIDENT_NUMBER'].plot(kind='bar');\n",
        "plt.title('Number of crimes');"
      ]
    },
    {
      "cell_type": "code",
      "execution_count": null,
      "id": "88ba7a14",
      "metadata": {
        "colab": {
          "base_uri": "https://localhost:8080/",
          "height": 682
        },
        "id": "88ba7a14",
        "outputId": "4d52172c-de58-4632-9db1-2873f52a3fa4"
      },
      "outputs": [
        {
          "output_type": "display_data",
          "data": {
            "text/plain": [
              "DAY_OF_WEEK\n",
              "Friday       48489\n",
              "Wednesday    46727\n",
              "Thursday     46655\n",
              "Tuesday      46376\n",
              "Monday       45674\n",
              "Saturday     44816\n",
              "Sunday       40313\n",
              "Name: INCIDENT_NUMBER, dtype: int64"
            ]
          },
          "metadata": {}
        },
        {
          "output_type": "display_data",
          "data": {
            "text/plain": [
              "<Figure size 640x480 with 1 Axes>"
            ],
            "image/png": "[encoded data removed]"
          },
          "metadata": {}
        }
      ],
      "source": [
        "# Question 3 - Are there more crimes committed on specific days?\n",
        "\n",
        "display(crime.groupby('DAY_OF_WEEK').count()['INCIDENT_NUMBER'].sort_values(ascending=False));\n",
        "\n",
        "crime.groupby('DAY_OF_WEEK').count()['INCIDENT_NUMBER'].sort_values(ascending=False).plot(kind='bar');"
      ]
    },
    {
      "cell_type": "code",
      "execution_count": null,
      "id": "880134ba",
      "metadata": {
        "colab": {
          "base_uri": "https://localhost:8080/",
          "height": 453
        },
        "id": "880134ba",
        "outputId": "70147511-dac6-4636-f1cc-46f1462d4b3c"
      },
      "outputs": [
        {
          "output_type": "display_data",
          "data": {
            "text/plain": [
              "<Figure size 640x480 with 1 Axes>"
            ],
            "image/png": "[encoded data removed]"
          },
          "metadata": {}
        }
      ],
      "source": [
        "# Are there more crimes during specific hours?\n",
        "crime.groupby('HOUR').count()['INCIDENT_NUMBER'].plot(kind='bar');"
      ]
    },
    {
      "cell_type": "code",
      "execution_count": null,
      "id": "a968bcce",
      "metadata": {
        "id": "a968bcce"
      },
      "outputs": [],
      "source": [
        "# On what days and during which hours are the most crimes committed?\n",
        "week_and_hour = crime.groupby(['HOUR','DAY_OF_WEEK']).count()['INCIDENT_NUMBER'].unstack()"
      ]
    },
    {
      "cell_type": "code",
      "execution_count": null,
      "id": "158e5597",
      "metadata": {
        "id": "158e5597"
      },
      "outputs": [],
      "source": [
        "week_and_hour = week_and_hour[['Monday', 'Tuesday', 'Wednesday', 'Thursday', 'Friday', 'Saturday', 'Sunday']]"
      ]
    },
    {
      "cell_type": "code",
      "execution_count": null,
      "id": "7053f34d",
      "metadata": {
        "scrolled": false,
        "colab": {
          "base_uri": "https://localhost:8080/",
          "height": 516
        },
        "id": "7053f34d",
        "outputId": "b858b755-99a4-4e1b-9ef9-daa7d6e8e633"
      },
      "outputs": [
        {
          "output_type": "display_data",
          "data": {
            "text/plain": [
              "<Figure size 640x480 with 2 Axes>"
            ],
            "image/png": "[encoded data removed]"
          },
          "metadata": {}
        }
      ],
      "source": [
        "sns.heatmap(week_and_hour, cmap=sns.cubehelix_palette(as_cmap=True));"
      ]
    },
    {
      "cell_type": "code",
      "execution_count": null,
      "id": "bb5d8f47",
      "metadata": {
        "id": "bb5d8f47"
      },
      "outputs": [],
      "source": [
        "# In which months were the number of crimes below average? \n",
        "# In which months on average did the most crimes occur?"
      ]
    },
    {
      "cell_type": "code",
      "execution_count": null,
      "id": "e43ec5b7",
      "metadata": {
        "colab": {
          "base_uri": "https://localhost:8080/",
          "height": 475
        },
        "id": "e43ec5b7",
        "outputId": "938a6f58-4818-4e82-c619-cf5ebfa7c24b"
      },
      "outputs": [
        {
          "output_type": "stream",
          "name": "stdout",
          "text": [
            "The average number of crimes is 7976.25\n"
          ]
        },
        {
          "output_type": "execute_result",
          "data": {
            "text/plain": [
              "<pandas.io.formats.style.Styler at 0x7f5e5d6f5930>"
            ],
            "text/html": [
              "<style type=\"text/css\">\n",
              "#T_7b7cf_row0_col1, #T_7b7cf_row0_col3, #T_7b7cf_row1_col1, #T_7b7cf_row1_col2, #T_7b7cf_row1_col3, #T_7b7cf_row2_col3, #T_7b7cf_row3_col3, #T_7b7cf_row5_col0, #T_7b7cf_row8_col3, #T_7b7cf_row10_col0, #T_7b7cf_row10_col1, #T_7b7cf_row10_col2, #T_7b7cf_row11_col1, #T_7b7cf_row11_col2 {\n",
              "  color: blue;\n",
              "}\n",
              "</style>\n",
              "<table id=\"T_7b7cf\" class=\"dataframe\">\n",
              "  <thead>\n",
              "    <tr>\n",
              "      <th class=\"index_name level0\" >YEAR</th>\n",
              "      <th id=\"T_7b7cf_level0_col0\" class=\"col_heading level0 col0\" >2015</th>\n",
              "      <th id=\"T_7b7cf_level0_col1\" class=\"col_heading level0 col1\" >2016</th>\n",
              "      <th id=\"T_7b7cf_level0_col2\" class=\"col_heading level0 col2\" >2017</th>\n",
              "      <th id=\"T_7b7cf_level0_col3\" class=\"col_heading level0 col3\" >2018</th>\n",
              "    </tr>\n",
              "    <tr>\n",
              "      <th class=\"index_name level0\" >MONTH</th>\n",
              "      <th class=\"blank col0\" >&nbsp;</th>\n",
              "      <th class=\"blank col1\" >&nbsp;</th>\n",
              "      <th class=\"blank col2\" >&nbsp;</th>\n",
              "      <th class=\"blank col3\" >&nbsp;</th>\n",
              "    </tr>\n",
              "  </thead>\n",
              "  <tbody>\n",
              "    <tr>\n",
              "      <th id=\"T_7b7cf_level0_row0\" class=\"row_heading level0 row0\" >1</th>\n",
              "      <td id=\"T_7b7cf_row0_col0\" class=\"data row0 col0\" >nan</td>\n",
              "      <td id=\"T_7b7cf_row0_col1\" class=\"data row0 col1\" >7835.000000</td>\n",
              "      <td id=\"T_7b7cf_row0_col2\" class=\"data row0 col2\" >7991.000000</td>\n",
              "      <td id=\"T_7b7cf_row0_col3\" class=\"data row0 col3\" >7782.000000</td>\n",
              "    </tr>\n",
              "    <tr>\n",
              "      <th id=\"T_7b7cf_level0_row1\" class=\"row_heading level0 row1\" >2</th>\n",
              "      <td id=\"T_7b7cf_row1_col0\" class=\"data row1 col0\" >nan</td>\n",
              "      <td id=\"T_7b7cf_row1_col1\" class=\"data row1 col1\" >7307.000000</td>\n",
              "      <td id=\"T_7b7cf_row1_col2\" class=\"data row1 col2\" >7408.000000</td>\n",
              "      <td id=\"T_7b7cf_row1_col3\" class=\"data row1 col3\" >6937.000000</td>\n",
              "    </tr>\n",
              "    <tr>\n",
              "      <th id=\"T_7b7cf_level0_row2\" class=\"row_heading level0 row2\" >3</th>\n",
              "      <td id=\"T_7b7cf_row2_col0\" class=\"data row2 col0\" >nan</td>\n",
              "      <td id=\"T_7b7cf_row2_col1\" class=\"data row2 col1\" >8199.000000</td>\n",
              "      <td id=\"T_7b7cf_row2_col2\" class=\"data row2 col2\" >8179.000000</td>\n",
              "      <td id=\"T_7b7cf_row2_col3\" class=\"data row2 col3\" >7768.000000</td>\n",
              "    </tr>\n",
              "    <tr>\n",
              "      <th id=\"T_7b7cf_level0_row3\" class=\"row_heading level0 row3\" >4</th>\n",
              "      <td id=\"T_7b7cf_row3_col0\" class=\"data row3 col0\" >nan</td>\n",
              "      <td id=\"T_7b7cf_row3_col1\" class=\"data row3 col1\" >8101.000000</td>\n",
              "      <td id=\"T_7b7cf_row3_col2\" class=\"data row3 col2\" >8069.000000</td>\n",
              "      <td id=\"T_7b7cf_row3_col3\" class=\"data row3 col3\" >7916.000000</td>\n",
              "    </tr>\n",
              "    <tr>\n",
              "      <th id=\"T_7b7cf_level0_row4\" class=\"row_heading level0 row4\" >5</th>\n",
              "      <td id=\"T_7b7cf_row4_col0\" class=\"data row4 col0\" >nan</td>\n",
              "      <td id=\"T_7b7cf_row4_col1\" class=\"data row4 col1\" >8578.000000</td>\n",
              "      <td id=\"T_7b7cf_row4_col2\" class=\"data row4 col2\" >8715.000000</td>\n",
              "      <td id=\"T_7b7cf_row4_col3\" class=\"data row4 col3\" >8906.000000</td>\n",
              "    </tr>\n",
              "    <tr>\n",
              "      <th id=\"T_7b7cf_level0_row5\" class=\"row_heading level0 row5\" >6</th>\n",
              "      <td id=\"T_7b7cf_row5_col0\" class=\"data row5 col0\" >4188.000000</td>\n",
              "      <td id=\"T_7b7cf_row5_col1\" class=\"data row5 col1\" >8558.000000</td>\n",
              "      <td id=\"T_7b7cf_row5_col2\" class=\"data row5 col2\" >8985.000000</td>\n",
              "      <td id=\"T_7b7cf_row5_col3\" class=\"data row5 col3\" >8834.000000</td>\n",
              "    </tr>\n",
              "    <tr>\n",
              "      <th id=\"T_7b7cf_level0_row6\" class=\"row_heading level0 row6\" >7</th>\n",
              "      <td id=\"T_7b7cf_row6_col0\" class=\"data row6 col0\" >8322.000000</td>\n",
              "      <td id=\"T_7b7cf_row6_col1\" class=\"data row6 col1\" >8618.000000</td>\n",
              "      <td id=\"T_7b7cf_row6_col2\" class=\"data row6 col2\" >9075.000000</td>\n",
              "      <td id=\"T_7b7cf_row6_col3\" class=\"data row6 col3\" >8538.000000</td>\n",
              "    </tr>\n",
              "    <tr>\n",
              "      <th id=\"T_7b7cf_level0_row7\" class=\"row_heading level0 row7\" >8</th>\n",
              "      <td id=\"T_7b7cf_row7_col0\" class=\"data row7 col0\" >8340.000000</td>\n",
              "      <td id=\"T_7b7cf_row7_col1\" class=\"data row7 col1\" >8938.000000</td>\n",
              "      <td id=\"T_7b7cf_row7_col2\" class=\"data row7 col2\" >9206.000000</td>\n",
              "      <td id=\"T_7b7cf_row7_col3\" class=\"data row7 col3\" >8337.000000</td>\n",
              "    </tr>\n",
              "    <tr>\n",
              "      <th id=\"T_7b7cf_level0_row8\" class=\"row_heading level0 row8\" >9</th>\n",
              "      <td id=\"T_7b7cf_row8_col0\" class=\"data row8 col0\" >8411.000000</td>\n",
              "      <td id=\"T_7b7cf_row8_col1\" class=\"data row8 col1\" >8521.000000</td>\n",
              "      <td id=\"T_7b7cf_row8_col2\" class=\"data row8 col2\" >8940.000000</td>\n",
              "      <td id=\"T_7b7cf_row8_col3\" class=\"data row8 col3\" >667.000000</td>\n",
              "    </tr>\n",
              "    <tr>\n",
              "      <th id=\"T_7b7cf_level0_row9\" class=\"row_heading level0 row9\" >10</th>\n",
              "      <td id=\"T_7b7cf_row9_col0\" class=\"data row9 col0\" >8305.000000</td>\n",
              "      <td id=\"T_7b7cf_row9_col1\" class=\"data row9 col1\" >8582.000000</td>\n",
              "      <td id=\"T_7b7cf_row9_col2\" class=\"data row9 col2\" >8846.000000</td>\n",
              "      <td id=\"T_7b7cf_row9_col3\" class=\"data row9 col3\" >nan</td>\n",
              "    </tr>\n",
              "    <tr>\n",
              "      <th id=\"T_7b7cf_level0_row10\" class=\"row_heading level0 row10\" >11</th>\n",
              "      <td id=\"T_7b7cf_row10_col0\" class=\"data row10 col0\" >7818.000000</td>\n",
              "      <td id=\"T_7b7cf_row10_col1\" class=\"data row10 col1\" >7922.000000</td>\n",
              "      <td id=\"T_7b7cf_row10_col2\" class=\"data row10 col2\" >7935.000000</td>\n",
              "      <td id=\"T_7b7cf_row10_col3\" class=\"data row10 col3\" >nan</td>\n",
              "    </tr>\n",
              "    <tr>\n",
              "      <th id=\"T_7b7cf_level0_row11\" class=\"row_heading level0 row11\" >12</th>\n",
              "      <td id=\"T_7b7cf_row11_col0\" class=\"data row11 col0\" >7987.000000</td>\n",
              "      <td id=\"T_7b7cf_row11_col1\" class=\"data row11 col1\" >7951.000000</td>\n",
              "      <td id=\"T_7b7cf_row11_col2\" class=\"data row11 col2\" >7535.000000</td>\n",
              "      <td id=\"T_7b7cf_row11_col3\" class=\"data row11 col3\" >nan</td>\n",
              "    </tr>\n",
              "  </tbody>\n",
              "</table>\n"
            ]
          },
          "metadata": {},
          "execution_count": 42
        }
      ],
      "source": [
        "# if the value is less than the average crime per month, highlight the value in blue\n",
        "\n",
        "avg_crime = crime.groupby(['YEAR', 'MONTH']).count()['INCIDENT_NUMBER'].mean()\n",
        "print(\"The average number of crimes is \" + str(avg_crime))\n",
        "\n",
        "year_and_month = crime.groupby(['MONTH', 'YEAR']).count()['INCIDENT_NUMBER'].unstack()\n",
        "\n",
        "def style_negative(v, props=''):\n",
        "    return props if v < avg_crime else None\n",
        "s2 = year_and_month.style.applymap(style_negative, props='color:blue;')\\\n",
        "              .applymap(lambda v: 'opacity: 20%;' if (v < 0.3) and (v > -0.3) else None)\n",
        "s2"
      ]
    },
    {
      "cell_type": "code",
      "execution_count": null,
      "id": "4e9cfcfc",
      "metadata": {
        "scrolled": true,
        "colab": {
          "base_uri": "https://localhost:8080/",
          "height": 457
        },
        "id": "4e9cfcfc",
        "outputId": "3427c536-30e0-48ef-d980-c97d73f1a0da"
      },
      "outputs": [
        {
          "output_type": "execute_result",
          "data": {
            "text/plain": [
              "<pandas.io.formats.style.Styler at 0x7f5e5d6f5930>"
            ],
            "text/html": [
              "<style type=\"text/css\">\n",
              "#T_7b7cf_row0_col1, #T_7b7cf_row0_col3, #T_7b7cf_row1_col1, #T_7b7cf_row1_col2, #T_7b7cf_row1_col3, #T_7b7cf_row2_col3, #T_7b7cf_row3_col3, #T_7b7cf_row5_col0, #T_7b7cf_row8_col3, #T_7b7cf_row10_col0, #T_7b7cf_row10_col1, #T_7b7cf_row10_col2, #T_7b7cf_row11_col1, #T_7b7cf_row11_col2 {\n",
              "  color: blue;\n",
              "}\n",
              "#T_7b7cf_row4_col3, #T_7b7cf_row7_col1, #T_7b7cf_row7_col2, #T_7b7cf_row8_col0 {\n",
              "  color: white;\n",
              "  background-color: darkgreen;\n",
              "}\n",
              "</style>\n",
              "<table id=\"T_7b7cf\" class=\"dataframe\">\n",
              "  <thead>\n",
              "    <tr>\n",
              "      <th class=\"index_name level0\" >YEAR</th>\n",
              "      <th id=\"T_7b7cf_level0_col0\" class=\"col_heading level0 col0\" >2015</th>\n",
              "      <th id=\"T_7b7cf_level0_col1\" class=\"col_heading level0 col1\" >2016</th>\n",
              "      <th id=\"T_7b7cf_level0_col2\" class=\"col_heading level0 col2\" >2017</th>\n",
              "      <th id=\"T_7b7cf_level0_col3\" class=\"col_heading level0 col3\" >2018</th>\n",
              "    </tr>\n",
              "    <tr>\n",
              "      <th class=\"index_name level0\" >MONTH</th>\n",
              "      <th class=\"blank col0\" >&nbsp;</th>\n",
              "      <th class=\"blank col1\" >&nbsp;</th>\n",
              "      <th class=\"blank col2\" >&nbsp;</th>\n",
              "      <th class=\"blank col3\" >&nbsp;</th>\n",
              "    </tr>\n",
              "  </thead>\n",
              "  <tbody>\n",
              "    <tr>\n",
              "      <th id=\"T_7b7cf_level0_row0\" class=\"row_heading level0 row0\" >1</th>\n",
              "      <td id=\"T_7b7cf_row0_col0\" class=\"data row0 col0\" >nan</td>\n",
              "      <td id=\"T_7b7cf_row0_col1\" class=\"data row0 col1\" >7835.000000</td>\n",
              "      <td id=\"T_7b7cf_row0_col2\" class=\"data row0 col2\" >7991.000000</td>\n",
              "      <td id=\"T_7b7cf_row0_col3\" class=\"data row0 col3\" >7782.000000</td>\n",
              "    </tr>\n",
              "    <tr>\n",
              "      <th id=\"T_7b7cf_level0_row1\" class=\"row_heading level0 row1\" >2</th>\n",
              "      <td id=\"T_7b7cf_row1_col0\" class=\"data row1 col0\" >nan</td>\n",
              "      <td id=\"T_7b7cf_row1_col1\" class=\"data row1 col1\" >7307.000000</td>\n",
              "      <td id=\"T_7b7cf_row1_col2\" class=\"data row1 col2\" >7408.000000</td>\n",
              "      <td id=\"T_7b7cf_row1_col3\" class=\"data row1 col3\" >6937.000000</td>\n",
              "    </tr>\n",
              "    <tr>\n",
              "      <th id=\"T_7b7cf_level0_row2\" class=\"row_heading level0 row2\" >3</th>\n",
              "      <td id=\"T_7b7cf_row2_col0\" class=\"data row2 col0\" >nan</td>\n",
              "      <td id=\"T_7b7cf_row2_col1\" class=\"data row2 col1\" >8199.000000</td>\n",
              "      <td id=\"T_7b7cf_row2_col2\" class=\"data row2 col2\" >8179.000000</td>\n",
              "      <td id=\"T_7b7cf_row2_col3\" class=\"data row2 col3\" >7768.000000</td>\n",
              "    </tr>\n",
              "    <tr>\n",
              "      <th id=\"T_7b7cf_level0_row3\" class=\"row_heading level0 row3\" >4</th>\n",
              "      <td id=\"T_7b7cf_row3_col0\" class=\"data row3 col0\" >nan</td>\n",
              "      <td id=\"T_7b7cf_row3_col1\" class=\"data row3 col1\" >8101.000000</td>\n",
              "      <td id=\"T_7b7cf_row3_col2\" class=\"data row3 col2\" >8069.000000</td>\n",
              "      <td id=\"T_7b7cf_row3_col3\" class=\"data row3 col3\" >7916.000000</td>\n",
              "    </tr>\n",
              "    <tr>\n",
              "      <th id=\"T_7b7cf_level0_row4\" class=\"row_heading level0 row4\" >5</th>\n",
              "      <td id=\"T_7b7cf_row4_col0\" class=\"data row4 col0\" >nan</td>\n",
              "      <td id=\"T_7b7cf_row4_col1\" class=\"data row4 col1\" >8578.000000</td>\n",
              "      <td id=\"T_7b7cf_row4_col2\" class=\"data row4 col2\" >8715.000000</td>\n",
              "      <td id=\"T_7b7cf_row4_col3\" class=\"data row4 col3\" >8906.000000</td>\n",
              "    </tr>\n",
              "    <tr>\n",
              "      <th id=\"T_7b7cf_level0_row5\" class=\"row_heading level0 row5\" >6</th>\n",
              "      <td id=\"T_7b7cf_row5_col0\" class=\"data row5 col0\" >4188.000000</td>\n",
              "      <td id=\"T_7b7cf_row5_col1\" class=\"data row5 col1\" >8558.000000</td>\n",
              "      <td id=\"T_7b7cf_row5_col2\" class=\"data row5 col2\" >8985.000000</td>\n",
              "      <td id=\"T_7b7cf_row5_col3\" class=\"data row5 col3\" >8834.000000</td>\n",
              "    </tr>\n",
              "    <tr>\n",
              "      <th id=\"T_7b7cf_level0_row6\" class=\"row_heading level0 row6\" >7</th>\n",
              "      <td id=\"T_7b7cf_row6_col0\" class=\"data row6 col0\" >8322.000000</td>\n",
              "      <td id=\"T_7b7cf_row6_col1\" class=\"data row6 col1\" >8618.000000</td>\n",
              "      <td id=\"T_7b7cf_row6_col2\" class=\"data row6 col2\" >9075.000000</td>\n",
              "      <td id=\"T_7b7cf_row6_col3\" class=\"data row6 col3\" >8538.000000</td>\n",
              "    </tr>\n",
              "    <tr>\n",
              "      <th id=\"T_7b7cf_level0_row7\" class=\"row_heading level0 row7\" >8</th>\n",
              "      <td id=\"T_7b7cf_row7_col0\" class=\"data row7 col0\" >8340.000000</td>\n",
              "      <td id=\"T_7b7cf_row7_col1\" class=\"data row7 col1\" >8938.000000</td>\n",
              "      <td id=\"T_7b7cf_row7_col2\" class=\"data row7 col2\" >9206.000000</td>\n",
              "      <td id=\"T_7b7cf_row7_col3\" class=\"data row7 col3\" >8337.000000</td>\n",
              "    </tr>\n",
              "    <tr>\n",
              "      <th id=\"T_7b7cf_level0_row8\" class=\"row_heading level0 row8\" >9</th>\n",
              "      <td id=\"T_7b7cf_row8_col0\" class=\"data row8 col0\" >8411.000000</td>\n",
              "      <td id=\"T_7b7cf_row8_col1\" class=\"data row8 col1\" >8521.000000</td>\n",
              "      <td id=\"T_7b7cf_row8_col2\" class=\"data row8 col2\" >8940.000000</td>\n",
              "      <td id=\"T_7b7cf_row8_col3\" class=\"data row8 col3\" >667.000000</td>\n",
              "    </tr>\n",
              "    <tr>\n",
              "      <th id=\"T_7b7cf_level0_row9\" class=\"row_heading level0 row9\" >10</th>\n",
              "      <td id=\"T_7b7cf_row9_col0\" class=\"data row9 col0\" >8305.000000</td>\n",
              "      <td id=\"T_7b7cf_row9_col1\" class=\"data row9 col1\" >8582.000000</td>\n",
              "      <td id=\"T_7b7cf_row9_col2\" class=\"data row9 col2\" >8846.000000</td>\n",
              "      <td id=\"T_7b7cf_row9_col3\" class=\"data row9 col3\" >nan</td>\n",
              "    </tr>\n",
              "    <tr>\n",
              "      <th id=\"T_7b7cf_level0_row10\" class=\"row_heading level0 row10\" >11</th>\n",
              "      <td id=\"T_7b7cf_row10_col0\" class=\"data row10 col0\" >7818.000000</td>\n",
              "      <td id=\"T_7b7cf_row10_col1\" class=\"data row10 col1\" >7922.000000</td>\n",
              "      <td id=\"T_7b7cf_row10_col2\" class=\"data row10 col2\" >7935.000000</td>\n",
              "      <td id=\"T_7b7cf_row10_col3\" class=\"data row10 col3\" >nan</td>\n",
              "    </tr>\n",
              "    <tr>\n",
              "      <th id=\"T_7b7cf_level0_row11\" class=\"row_heading level0 row11\" >12</th>\n",
              "      <td id=\"T_7b7cf_row11_col0\" class=\"data row11 col0\" >7987.000000</td>\n",
              "      <td id=\"T_7b7cf_row11_col1\" class=\"data row11 col1\" >7951.000000</td>\n",
              "      <td id=\"T_7b7cf_row11_col2\" class=\"data row11 col2\" >7535.000000</td>\n",
              "      <td id=\"T_7b7cf_row11_col3\" class=\"data row11 col3\" >nan</td>\n",
              "    </tr>\n",
              "  </tbody>\n",
              "</table>\n"
            ]
          },
          "metadata": {},
          "execution_count": 43
        }
      ],
      "source": [
        "# Use apply to highlight the maximum in a column in darkgreen\n",
        "\n",
        "def highlight_max(s, props=''):\n",
        "    return np.where(s == np.nanmax(s.values), props, '')\n",
        "s2.apply(highlight_max, props='color:white;background-color:darkgreen', axis=0)"
      ]
    },
    {
      "cell_type": "code",
      "execution_count": null,
      "id": "3d7bb38f",
      "metadata": {
        "scrolled": false,
        "colab": {
          "base_uri": "https://localhost:8080/",
          "height": 449
        },
        "id": "3d7bb38f",
        "outputId": "db116c59-02ea-4fdd-da64-c5192d672c59"
      },
      "outputs": [
        {
          "output_type": "display_data",
          "data": {
            "text/plain": [
              "<Figure size 640x480 with 2 Axes>"
            ],
            "image/png": "[encoded data removed]"
          },
          "metadata": {}
        }
      ],
      "source": [
        "# Question 4 - In which districts were the most crimes commmitted on yearly basis? \n",
        "# Try and use everything you've learned in this video to answer this question.\n",
        "# Feel free to use functions, tables and other visuals.\n",
        "\n",
        "district_and_year = crime.groupby(['DISTRICT', 'YEAR']).count()['INCIDENT_NUMBER'].unstack()\n",
        "\n",
        "sns.heatmap(district_and_year, cmap=sns.cubehelix_palette(as_cmap=True));"
      ]
    },
    {
      "cell_type": "code",
      "execution_count": null,
      "id": "13cbc3eb",
      "metadata": {
        "scrolled": true,
        "colab": {
          "base_uri": "https://localhost:8080/",
          "height": 475
        },
        "id": "13cbc3eb",
        "outputId": "ae650ee8-15f0-4a81-c648-f22f9b53d759"
      },
      "outputs": [
        {
          "output_type": "stream",
          "name": "stdout",
          "text": [
            "The average crime per district per year is: 6610.104166666667\n"
          ]
        },
        {
          "output_type": "execute_result",
          "data": {
            "text/plain": [
              "<pandas.io.formats.style.Styler at 0x7f5e5d431090>"
            ],
            "text/html": [
              "<style type=\"text/css\">\n",
              "#T_90f1a_row0_col0, #T_90f1a_row1_col0, #T_90f1a_row1_col1, #T_90f1a_row1_col2, #T_90f1a_row1_col3, #T_90f1a_row2_col0, #T_90f1a_row2_col1, #T_90f1a_row2_col2, #T_90f1a_row2_col3, #T_90f1a_row4_col0, #T_90f1a_row6_col0, #T_90f1a_row6_col3, #T_90f1a_row7_col0, #T_90f1a_row7_col1, #T_90f1a_row7_col2, #T_90f1a_row7_col3, #T_90f1a_row9_col0, #T_90f1a_row9_col1, #T_90f1a_row9_col2, #T_90f1a_row9_col3, #T_90f1a_row10_col0, #T_90f1a_row10_col1, #T_90f1a_row10_col2, #T_90f1a_row10_col3, #T_90f1a_row11_col0, #T_90f1a_row11_col1, #T_90f1a_row11_col2, #T_90f1a_row11_col3 {\n",
              "  color: blue;\n",
              "}\n",
              "</style>\n",
              "<table id=\"T_90f1a\" class=\"dataframe\">\n",
              "  <thead>\n",
              "    <tr>\n",
              "      <th class=\"index_name level0\" >YEAR</th>\n",
              "      <th id=\"T_90f1a_level0_col0\" class=\"col_heading level0 col0\" >2015</th>\n",
              "      <th id=\"T_90f1a_level0_col1\" class=\"col_heading level0 col1\" >2016</th>\n",
              "      <th id=\"T_90f1a_level0_col2\" class=\"col_heading level0 col2\" >2017</th>\n",
              "      <th id=\"T_90f1a_level0_col3\" class=\"col_heading level0 col3\" >2018</th>\n",
              "    </tr>\n",
              "    <tr>\n",
              "      <th class=\"index_name level0\" >DISTRICT</th>\n",
              "      <th class=\"blank col0\" >&nbsp;</th>\n",
              "      <th class=\"blank col1\" >&nbsp;</th>\n",
              "      <th class=\"blank col2\" >&nbsp;</th>\n",
              "      <th class=\"blank col3\" >&nbsp;</th>\n",
              "    </tr>\n",
              "  </thead>\n",
              "  <tbody>\n",
              "    <tr>\n",
              "      <th id=\"T_90f1a_level0_row0\" class=\"row_heading level0 row0\" >A1</th>\n",
              "      <td id=\"T_90f1a_row0_col0\" class=\"data row0 col0\" >6010</td>\n",
              "      <td id=\"T_90f1a_row0_col1\" class=\"data row0 col1\" >10922</td>\n",
              "      <td id=\"T_90f1a_row0_col2\" class=\"data row0 col2\" >11374</td>\n",
              "      <td id=\"T_90f1a_row0_col3\" class=\"data row0 col3\" >7404</td>\n",
              "    </tr>\n",
              "    <tr>\n",
              "      <th id=\"T_90f1a_level0_row1\" class=\"row_heading level0 row1\" >A15</th>\n",
              "      <td id=\"T_90f1a_row1_col0\" class=\"data row1 col0\" >1027</td>\n",
              "      <td id=\"T_90f1a_row1_col1\" class=\"data row1 col1\" >1986</td>\n",
              "      <td id=\"T_90f1a_row1_col2\" class=\"data row1 col2\" >2167</td>\n",
              "      <td id=\"T_90f1a_row1_col3\" class=\"data row1 col3\" >1325</td>\n",
              "    </tr>\n",
              "    <tr>\n",
              "      <th id=\"T_90f1a_level0_row2\" class=\"row_heading level0 row2\" >A7</th>\n",
              "      <td id=\"T_90f1a_row2_col0\" class=\"data row2 col0\" >2426</td>\n",
              "      <td id=\"T_90f1a_row2_col1\" class=\"data row2 col1\" >4130</td>\n",
              "      <td id=\"T_90f1a_row2_col2\" class=\"data row2 col2\" >4264</td>\n",
              "      <td id=\"T_90f1a_row2_col3\" class=\"data row2 col3\" >2724</td>\n",
              "    </tr>\n",
              "    <tr>\n",
              "      <th id=\"T_90f1a_level0_row3\" class=\"row_heading level0 row3\" >B2</th>\n",
              "      <td id=\"T_90f1a_row3_col0\" class=\"data row3 col0\" >8682</td>\n",
              "      <td id=\"T_90f1a_row3_col1\" class=\"data row3 col1\" >15706</td>\n",
              "      <td id=\"T_90f1a_row3_col2\" class=\"data row3 col2\" >15680</td>\n",
              "      <td id=\"T_90f1a_row3_col3\" class=\"data row3 col3\" >9872</td>\n",
              "    </tr>\n",
              "    <tr>\n",
              "      <th id=\"T_90f1a_level0_row4\" class=\"row_heading level0 row4\" >B3</th>\n",
              "      <td id=\"T_90f1a_row4_col0\" class=\"data row4 col0\" >5616</td>\n",
              "      <td id=\"T_90f1a_row4_col1\" class=\"data row4 col1\" >11145</td>\n",
              "      <td id=\"T_90f1a_row4_col2\" class=\"data row4 col2\" >11195</td>\n",
              "      <td id=\"T_90f1a_row4_col3\" class=\"data row4 col3\" >7485</td>\n",
              "    </tr>\n",
              "    <tr>\n",
              "      <th id=\"T_90f1a_level0_row5\" class=\"row_heading level0 row5\" >C11</th>\n",
              "      <td id=\"T_90f1a_row5_col0\" class=\"data row5 col0\" >7363</td>\n",
              "      <td id=\"T_90f1a_row5_col1\" class=\"data row5 col1\" >13602</td>\n",
              "      <td id=\"T_90f1a_row5_col2\" class=\"data row5 col2\" >13281</td>\n",
              "      <td id=\"T_90f1a_row5_col3\" class=\"data row5 col3\" >8282</td>\n",
              "    </tr>\n",
              "    <tr>\n",
              "      <th id=\"T_90f1a_level0_row6\" class=\"row_heading level0 row6\" >C6</th>\n",
              "      <td id=\"T_90f1a_row6_col0\" class=\"data row6 col0\" >3939</td>\n",
              "      <td id=\"T_90f1a_row6_col1\" class=\"data row6 col1\" >7072</td>\n",
              "      <td id=\"T_90f1a_row6_col2\" class=\"data row6 col2\" >7247</td>\n",
              "      <td id=\"T_90f1a_row6_col3\" class=\"data row6 col3\" >5199</td>\n",
              "    </tr>\n",
              "    <tr>\n",
              "      <th id=\"T_90f1a_level0_row7\" class=\"row_heading level0 row7\" >D14</th>\n",
              "      <td id=\"T_90f1a_row7_col0\" class=\"data row7 col0\" >3280</td>\n",
              "      <td id=\"T_90f1a_row7_col1\" class=\"data row7 col1\" >6279</td>\n",
              "      <td id=\"T_90f1a_row7_col2\" class=\"data row7 col2\" >6509</td>\n",
              "      <td id=\"T_90f1a_row7_col3\" class=\"data row7 col3\" >4059</td>\n",
              "    </tr>\n",
              "    <tr>\n",
              "      <th id=\"T_90f1a_level0_row8\" class=\"row_heading level0 row8\" >D4</th>\n",
              "      <td id=\"T_90f1a_row8_col0\" class=\"data row8 col0\" >7203</td>\n",
              "      <td id=\"T_90f1a_row8_col1\" class=\"data row8 col1\" >12953</td>\n",
              "      <td id=\"T_90f1a_row8_col2\" class=\"data row8 col2\" >13157</td>\n",
              "      <td id=\"T_90f1a_row8_col3\" class=\"data row8 col3\" >8601</td>\n",
              "    </tr>\n",
              "    <tr>\n",
              "      <th id=\"T_90f1a_level0_row9\" class=\"row_heading level0 row9\" >E13</th>\n",
              "      <td id=\"T_90f1a_row9_col0\" class=\"data row9 col0\" >2800</td>\n",
              "      <td id=\"T_90f1a_row9_col1\" class=\"data row9 col1\" >5558</td>\n",
              "      <td id=\"T_90f1a_row9_col2\" class=\"data row9 col2\" >5514</td>\n",
              "      <td id=\"T_90f1a_row9_col3\" class=\"data row9 col3\" >3662</td>\n",
              "    </tr>\n",
              "    <tr>\n",
              "      <th id=\"T_90f1a_level0_row10\" class=\"row_heading level0 row10\" >E18</th>\n",
              "      <td id=\"T_90f1a_row10_col0\" class=\"data row10 col0\" >2740</td>\n",
              "      <td id=\"T_90f1a_row10_col1\" class=\"data row10 col1\" >5223</td>\n",
              "      <td id=\"T_90f1a_row10_col2\" class=\"data row10 col2\" >5611</td>\n",
              "      <td id=\"T_90f1a_row10_col3\" class=\"data row10 col3\" >3773</td>\n",
              "    </tr>\n",
              "    <tr>\n",
              "      <th id=\"T_90f1a_level0_row11\" class=\"row_heading level0 row11\" >E5</th>\n",
              "      <td id=\"T_90f1a_row11_col0\" class=\"data row11 col0\" >2157</td>\n",
              "      <td id=\"T_90f1a_row11_col1\" class=\"data row11 col1\" >4017</td>\n",
              "      <td id=\"T_90f1a_row11_col2\" class=\"data row11 col2\" >4309</td>\n",
              "      <td id=\"T_90f1a_row11_col3\" class=\"data row11 col3\" >2755</td>\n",
              "    </tr>\n",
              "  </tbody>\n",
              "</table>\n"
            ]
          },
          "metadata": {},
          "execution_count": 45
        }
      ],
      "source": [
        "# if the value is less than the average crime per district per year, highlight the value in blue\n",
        "\n",
        "avg_crime_district = crime.groupby(['DISTRICT', 'YEAR']).count()['INCIDENT_NUMBER'].mean()\n",
        "print(\"The average crime per district per year is: \" + str(avg_crime_district))\n",
        "\n",
        "def style_negative(v, props=''):\n",
        "    return props if v < avg_crime_district else None\n",
        "s3 = district_and_year.style.applymap(style_negative, props='color:blue;')\\\n",
        "              .applymap(lambda v: 'opacity: 20%;' if (v < 0.3) and (v > -0.3) else None)\n",
        "s3"
      ]
    },
    {
      "cell_type": "code",
      "execution_count": null,
      "id": "01eb7d85",
      "metadata": {
        "colab": {
          "base_uri": "https://localhost:8080/",
          "height": 457
        },
        "id": "01eb7d85",
        "outputId": "0f542bb2-2cab-438d-f62d-04b3eb9de1f2"
      },
      "outputs": [
        {
          "output_type": "execute_result",
          "data": {
            "text/plain": [
              "<pandas.io.formats.style.Styler at 0x7f5e5d431090>"
            ],
            "text/html": [
              "<style type=\"text/css\">\n",
              "#T_90f1a_row0_col0, #T_90f1a_row1_col0, #T_90f1a_row1_col1, #T_90f1a_row1_col2, #T_90f1a_row1_col3, #T_90f1a_row2_col0, #T_90f1a_row2_col1, #T_90f1a_row2_col2, #T_90f1a_row2_col3, #T_90f1a_row4_col0, #T_90f1a_row6_col0, #T_90f1a_row6_col3, #T_90f1a_row7_col0, #T_90f1a_row7_col1, #T_90f1a_row7_col2, #T_90f1a_row7_col3, #T_90f1a_row9_col0, #T_90f1a_row9_col1, #T_90f1a_row9_col2, #T_90f1a_row9_col3, #T_90f1a_row10_col0, #T_90f1a_row10_col1, #T_90f1a_row10_col2, #T_90f1a_row10_col3, #T_90f1a_row11_col0, #T_90f1a_row11_col1, #T_90f1a_row11_col2, #T_90f1a_row11_col3 {\n",
              "  color: blue;\n",
              "}\n",
              "#T_90f1a_row3_col0, #T_90f1a_row3_col1, #T_90f1a_row3_col2, #T_90f1a_row3_col3 {\n",
              "  color: white;\n",
              "  background-color: darkgreen;\n",
              "}\n",
              "</style>\n",
              "<table id=\"T_90f1a\" class=\"dataframe\">\n",
              "  <thead>\n",
              "    <tr>\n",
              "      <th class=\"index_name level0\" >YEAR</th>\n",
              "      <th id=\"T_90f1a_level0_col0\" class=\"col_heading level0 col0\" >2015</th>\n",
              "      <th id=\"T_90f1a_level0_col1\" class=\"col_heading level0 col1\" >2016</th>\n",
              "      <th id=\"T_90f1a_level0_col2\" class=\"col_heading level0 col2\" >2017</th>\n",
              "      <th id=\"T_90f1a_level0_col3\" class=\"col_heading level0 col3\" >2018</th>\n",
              "    </tr>\n",
              "    <tr>\n",
              "      <th class=\"index_name level0\" >DISTRICT</th>\n",
              "      <th class=\"blank col0\" >&nbsp;</th>\n",
              "      <th class=\"blank col1\" >&nbsp;</th>\n",
              "      <th class=\"blank col2\" >&nbsp;</th>\n",
              "      <th class=\"blank col3\" >&nbsp;</th>\n",
              "    </tr>\n",
              "  </thead>\n",
              "  <tbody>\n",
              "    <tr>\n",
              "      <th id=\"T_90f1a_level0_row0\" class=\"row_heading level0 row0\" >A1</th>\n",
              "      <td id=\"T_90f1a_row0_col0\" class=\"data row0 col0\" >6010</td>\n",
              "      <td id=\"T_90f1a_row0_col1\" class=\"data row0 col1\" >10922</td>\n",
              "      <td id=\"T_90f1a_row0_col2\" class=\"data row0 col2\" >11374</td>\n",
              "      <td id=\"T_90f1a_row0_col3\" class=\"data row0 col3\" >7404</td>\n",
              "    </tr>\n",
              "    <tr>\n",
              "      <th id=\"T_90f1a_level0_row1\" class=\"row_heading level0 row1\" >A15</th>\n",
              "      <td id=\"T_90f1a_row1_col0\" class=\"data row1 col0\" >1027</td>\n",
              "      <td id=\"T_90f1a_row1_col1\" class=\"data row1 col1\" >1986</td>\n",
              "      <td id=\"T_90f1a_row1_col2\" class=\"data row1 col2\" >2167</td>\n",
              "      <td id=\"T_90f1a_row1_col3\" class=\"data row1 col3\" >1325</td>\n",
              "    </tr>\n",
              "    <tr>\n",
              "      <th id=\"T_90f1a_level0_row2\" class=\"row_heading level0 row2\" >A7</th>\n",
              "      <td id=\"T_90f1a_row2_col0\" class=\"data row2 col0\" >2426</td>\n",
              "      <td id=\"T_90f1a_row2_col1\" class=\"data row2 col1\" >4130</td>\n",
              "      <td id=\"T_90f1a_row2_col2\" class=\"data row2 col2\" >4264</td>\n",
              "      <td id=\"T_90f1a_row2_col3\" class=\"data row2 col3\" >2724</td>\n",
              "    </tr>\n",
              "    <tr>\n",
              "      <th id=\"T_90f1a_level0_row3\" class=\"row_heading level0 row3\" >B2</th>\n",
              "      <td id=\"T_90f1a_row3_col0\" class=\"data row3 col0\" >8682</td>\n",
              "      <td id=\"T_90f1a_row3_col1\" class=\"data row3 col1\" >15706</td>\n",
              "      <td id=\"T_90f1a_row3_col2\" class=\"data row3 col2\" >15680</td>\n",
              "      <td id=\"T_90f1a_row3_col3\" class=\"data row3 col3\" >9872</td>\n",
              "    </tr>\n",
              "    <tr>\n",
              "      <th id=\"T_90f1a_level0_row4\" class=\"row_heading level0 row4\" >B3</th>\n",
              "      <td id=\"T_90f1a_row4_col0\" class=\"data row4 col0\" >5616</td>\n",
              "      <td id=\"T_90f1a_row4_col1\" class=\"data row4 col1\" >11145</td>\n",
              "      <td id=\"T_90f1a_row4_col2\" class=\"data row4 col2\" >11195</td>\n",
              "      <td id=\"T_90f1a_row4_col3\" class=\"data row4 col3\" >7485</td>\n",
              "    </tr>\n",
              "    <tr>\n",
              "      <th id=\"T_90f1a_level0_row5\" class=\"row_heading level0 row5\" >C11</th>\n",
              "      <td id=\"T_90f1a_row5_col0\" class=\"data row5 col0\" >7363</td>\n",
              "      <td id=\"T_90f1a_row5_col1\" class=\"data row5 col1\" >13602</td>\n",
              "      <td id=\"T_90f1a_row5_col2\" class=\"data row5 col2\" >13281</td>\n",
              "      <td id=\"T_90f1a_row5_col3\" class=\"data row5 col3\" >8282</td>\n",
              "    </tr>\n",
              "    <tr>\n",
              "      <th id=\"T_90f1a_level0_row6\" class=\"row_heading level0 row6\" >C6</th>\n",
              "      <td id=\"T_90f1a_row6_col0\" class=\"data row6 col0\" >3939</td>\n",
              "      <td id=\"T_90f1a_row6_col1\" class=\"data row6 col1\" >7072</td>\n",
              "      <td id=\"T_90f1a_row6_col2\" class=\"data row6 col2\" >7247</td>\n",
              "      <td id=\"T_90f1a_row6_col3\" class=\"data row6 col3\" >5199</td>\n",
              "    </tr>\n",
              "    <tr>\n",
              "      <th id=\"T_90f1a_level0_row7\" class=\"row_heading level0 row7\" >D14</th>\n",
              "      <td id=\"T_90f1a_row7_col0\" class=\"data row7 col0\" >3280</td>\n",
              "      <td id=\"T_90f1a_row7_col1\" class=\"data row7 col1\" >6279</td>\n",
              "      <td id=\"T_90f1a_row7_col2\" class=\"data row7 col2\" >6509</td>\n",
              "      <td id=\"T_90f1a_row7_col3\" class=\"data row7 col3\" >4059</td>\n",
              "    </tr>\n",
              "    <tr>\n",
              "      <th id=\"T_90f1a_level0_row8\" class=\"row_heading level0 row8\" >D4</th>\n",
              "      <td id=\"T_90f1a_row8_col0\" class=\"data row8 col0\" >7203</td>\n",
              "      <td id=\"T_90f1a_row8_col1\" class=\"data row8 col1\" >12953</td>\n",
              "      <td id=\"T_90f1a_row8_col2\" class=\"data row8 col2\" >13157</td>\n",
              "      <td id=\"T_90f1a_row8_col3\" class=\"data row8 col3\" >8601</td>\n",
              "    </tr>\n",
              "    <tr>\n",
              "      <th id=\"T_90f1a_level0_row9\" class=\"row_heading level0 row9\" >E13</th>\n",
              "      <td id=\"T_90f1a_row9_col0\" class=\"data row9 col0\" >2800</td>\n",
              "      <td id=\"T_90f1a_row9_col1\" class=\"data row9 col1\" >5558</td>\n",
              "      <td id=\"T_90f1a_row9_col2\" class=\"data row9 col2\" >5514</td>\n",
              "      <td id=\"T_90f1a_row9_col3\" class=\"data row9 col3\" >3662</td>\n",
              "    </tr>\n",
              "    <tr>\n",
              "      <th id=\"T_90f1a_level0_row10\" class=\"row_heading level0 row10\" >E18</th>\n",
              "      <td id=\"T_90f1a_row10_col0\" class=\"data row10 col0\" >2740</td>\n",
              "      <td id=\"T_90f1a_row10_col1\" class=\"data row10 col1\" >5223</td>\n",
              "      <td id=\"T_90f1a_row10_col2\" class=\"data row10 col2\" >5611</td>\n",
              "      <td id=\"T_90f1a_row10_col3\" class=\"data row10 col3\" >3773</td>\n",
              "    </tr>\n",
              "    <tr>\n",
              "      <th id=\"T_90f1a_level0_row11\" class=\"row_heading level0 row11\" >E5</th>\n",
              "      <td id=\"T_90f1a_row11_col0\" class=\"data row11 col0\" >2157</td>\n",
              "      <td id=\"T_90f1a_row11_col1\" class=\"data row11 col1\" >4017</td>\n",
              "      <td id=\"T_90f1a_row11_col2\" class=\"data row11 col2\" >4309</td>\n",
              "      <td id=\"T_90f1a_row11_col3\" class=\"data row11 col3\" >2755</td>\n",
              "    </tr>\n",
              "  </tbody>\n",
              "</table>\n"
            ]
          },
          "metadata": {},
          "execution_count": 46
        }
      ],
      "source": [
        "# Highlight the maximum value in each colummn with darkgreen\n",
        "def highlight_max(s, props=''):\n",
        "    return np.where(s == np.nanmax(s.values), props, '')\n",
        "s3.apply(highlight_max, props='color:white;background-color:darkgreen', axis=0)"
      ]
    }
  ],
  "metadata": {
    "kernelspec": {
      "display_name": "Python 3 (ipykernel)",
      "language": "python",
      "name": "python3"
    },
    "language_info": {
      "codemirror_mode": {
        "name": "ipython",
        "version": 3
      },
      "file_extension": ".py",
      "mimetype": "text/x-python",
      "name": "python",
      "nbconvert_exporter": "python",
      "pygments_lexer": "ipython3",
      "version": "3.10.6"
    },
    "colab": {
      "provenance": []
    }
  },
  "nbformat": 4,
  "nbformat_minor": 5
}