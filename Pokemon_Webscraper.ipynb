{
  "nbformat": 4,
  "nbformat_minor": 0,
  "metadata": {
    "colab": {
      "provenance": [],
      "authorship_tag": "ABX9TyOtaRtMbXA6n1fnFDA54jqK",
      "include_colab_link": true
    },
    "kernelspec": {
      "name": "python3",
      "display_name": "Python 3"
    },
    "language_info": {
      "name": "python"
    }
  },
  "cells": [
    {
      "cell_type": "markdown",
      "metadata": {
        "id": "view-in-github",
        "colab_type": "text"
      },
      "source": [
        "<a href=\"https://colab.research.google.com/github/blackcrowX/Data_Analytics_Projects/blob/main/Pokemon_Webscraper.ipynb\" target=\"_parent\"><img src=\"https://colab.research.google.com/assets/colab-badge.svg\" alt=\"Open In Colab\"/></a>"
      ]
    },
    {
      "cell_type": "code",
      "source": [
        "from bs4 import BeautifulSoup\n",
        "from datetime import datetime\n",
        "import json\n",
        "import time\n",
        "import random\n",
        "import re\n",
        "import pandas as pd\n",
        "import numpy as np"
      ],
      "metadata": {
        "id": "FYgP66H3AXY2"
      },
      "execution_count": 86,
      "outputs": []
    },
    {
      "cell_type": "code",
      "source": [
        "import plotly.offline as py # plotly for interactive and presentation graphs\n",
        "import plotly.graph_objs as go\n",
        "import plotly.express as px\n",
        "import seaborn as sns\n",
        "import matplotlib.pyplot as plt\n",
        "%matplotlib inline\n",
        "py.init_notebook_mode(connected=True)\n",
        "plt.style.use('seaborn') # use the seaborn style for matplotlib graphs"
      ],
      "metadata": {
        "colab": {
          "base_uri": "https://localhost:8080/",
          "height": 91
        },
        "id": "4mPqPQvtAYMg",
        "outputId": "5ce8b792-57a6-476c-f7d1-ed5b13bc38a9"
      },
      "execution_count": 87,
      "outputs": [
        {
          "output_type": "display_data",
          "data": {
            "text/html": [
              "        <script type=\"text/javascript\">\n",
              "        window.PlotlyConfig = {MathJaxConfig: 'local'};\n",
              "        if (window.MathJax && window.MathJax.Hub && window.MathJax.Hub.Config) {window.MathJax.Hub.Config({SVG: {font: \"STIX-Web\"}});}\n",
              "        if (typeof require !== 'undefined') {\n",
              "        require.undef(\"plotly\");\n",
              "        requirejs.config({\n",
              "            paths: {\n",
              "                'plotly': ['https://cdn.plot.ly/plotly-2.18.2.min']\n",
              "            }\n",
              "        });\n",
              "        require(['plotly'], function(Plotly) {\n",
              "            window._Plotly = Plotly;\n",
              "        });\n",
              "        }\n",
              "        </script>\n",
              "        "
            ]
          },
          "metadata": {}
        },
        {
          "output_type": "stream",
          "name": "stderr",
          "text": [
            "<ipython-input-87-181bd44d64e8>:8: MatplotlibDeprecationWarning:\n",
            "\n",
            "The seaborn styles shipped by Matplotlib are deprecated since 3.6, as they no longer correspond to the styles shipped by seaborn. However, they will remain available as 'seaborn-v0_8-<style>'. Alternatively, directly use the seaborn API instead.\n",
            "\n"
          ]
        }
      ]
    },
    {
      "cell_type": "code",
      "source": [
        "import requests\n",
        "import bs4\n",
        "import csv\n",
        "import os\n",
        "from multiprocessing import Pool"
      ],
      "metadata": {
        "id": "YnvZG0lK8ybN"
      },
      "execution_count": 140,
      "outputs": []
    },
    {
      "cell_type": "code",
      "source": [
        "scrape_date = datetime.today().strftime('%Y-%m-%d')\n",
        "scrape_date"
      ],
      "metadata": {
        "colab": {
          "base_uri": "https://localhost:8080/",
          "height": 36
        },
        "id": "uniX2kHAAlsp",
        "outputId": "0c8e93a6-b3f2-443c-b1ae-ff0b7679e893"
      },
      "execution_count": 88,
      "outputs": [
        {
          "output_type": "execute_result",
          "data": {
            "text/plain": [
              "'2023-05-25'"
            ],
            "application/vnd.google.colaboratory.intrinsic+json": {
              "type": "string"
            }
          },
          "metadata": {},
          "execution_count": 88
        }
      ]
    },
    {
      "cell_type": "code",
      "source": [
        "url_list =[\n",
        "  'https://bulbapedia.bulbagarden.net/wiki/Bulbasaur_(Pok%C3%A9mon)',\n",
        "  'https://bulbapedia.bulbagarden.net/wiki/Bulbasaur_(Pok%C3%A9mon)',\n",
        "  'https://bulbapedia.bulbagarden.net/wiki/Pidgeotto_(Pok%C3%A9mon)'\n",
        "]"
      ],
      "metadata": {
        "id": "7jA7MIaKA8Xa"
      },
      "execution_count": null,
      "outputs": []
    },
    {
      "cell_type": "code",
      "source": [
        "url = \"https://bulbapedia.bulbagarden.net/wiki/Bulbasaur_(Pok%C3%A9mon)\"\n",
        "headers = {\"User-Agent\": \"Mozilla/5.0 (Windows NT 10.0; Win64; x64) AppleWebKit/537.36 (KHTML, like Gecko) Chrome/78.0.3904.108 Safari/537.36\", \"Accept-Encoding\":\"gzip, deflate\", \"Accept\":\"text/html,application/xhtml+xml,application/xml;q=0.9,*/*;q=0.8\", \"DNT\":\"1\",\"Connection\":\"close\", \"Upgrade-Insecure-Requests\":\"1\"}\n",
        "page = requests.get(url, headers=headers)\n",
        "\n",
        "soup1 = BeautifulSoup(page.content, 'html.parser')\n",
        "soup2 = BeautifulSoup(soup1.prettify(), \"html.parser\")"
      ],
      "metadata": {
        "id": "_Ze0FQoU6s3t"
      },
      "execution_count": 120,
      "outputs": []
    },
    {
      "cell_type": "code",
      "source": [
        "pokemonData = [0]*13"
      ],
      "metadata": {
        "id": "n3i7R4cRFsdg"
      },
      "execution_count": 90,
      "outputs": []
    },
    {
      "cell_type": "code",
      "source": [
        "pokemonData[ 0 ] = (int) ((soup2.select( 'th big big a[href*=\"/wiki/List_of_Pok%C3%A9mon_by_National_Pok%C3%A9dex_numbe\"] span' )[ 0 ].get_text()).replace( '#', ''))\n",
        "print(pokemonData[ 0 ])"
      ],
      "metadata": {
        "colab": {
          "base_uri": "https://localhost:8080/"
        },
        "id": "c6UXylfkEoeh",
        "outputId": "8ba55c32-5e34-4e03-b9d7-cf66d43bf9cb"
      },
      "execution_count": 121,
      "outputs": [
        {
          "output_type": "stream",
          "name": "stdout",
          "text": [
            "1\n"
          ]
        }
      ]
    },
    {
      "cell_type": "code",
      "source": [
        "pokemonData[ 1 ] = (soup2.find(id=\"firstHeading\").get_text())[ :-16 ]\n",
        "print(pokemonData[ 1 ])"
      ],
      "metadata": {
        "colab": {
          "base_uri": "https://localhost:8080/"
        },
        "id": "XxOnZcOTFX_w",
        "outputId": "9c08a34e-c34a-45a1-da96-799ede6ca099"
      },
      "execution_count": 122,
      "outputs": [
        {
          "output_type": "stream",
          "name": "stdout",
          "text": [
            "\n",
            "      Bulbasaur\n"
          ]
        }
      ]
    },
    {
      "cell_type": "code",
      "source": [
        "# get types of pokemon\n",
        "pokemonData[ 2 ] = soup2.select( 'td[width=\"45px\"] a[href*=\"(type)\"] span b')[ 0 ].get_text()\n",
        "pokemonData[ 3 ] = soup2.select( 'td[width=\"45px\"] a[href*=\"(type)\"] span b' )[ 1 ].get_text()\n",
        "\n",
        "print(pokemonData[ 2 ])\n",
        "print(pokemonData[ 3 ])"
      ],
      "metadata": {
        "colab": {
          "base_uri": "https://localhost:8080/"
        },
        "id": "--cW3TBXJ2dB",
        "outputId": "30a4c6a9-a2f6-4459-bcc7-c32eb6d4d270"
      },
      "execution_count": 137,
      "outputs": [
        {
          "output_type": "stream",
          "name": "stdout",
          "text": [
            "\n",
            "                       Grass\n",
            "                      \n",
            "\n",
            "                       Poison\n",
            "                      \n"
          ]
        }
      ]
    },
    {
      "cell_type": "code",
      "source": [
        "# get abilities of pokemon (including hidden abilities)\n",
        "\n",
        "pokemonData[ 4 ] = soup2.select( 'td a[href*=\"(Ability)\"] span' )[ 0 ].get_text()\n",
        "pokemonData[ 5 ] = soup2.select( 'td a[href*=\"(Ability)\"] span' )[ 1 ].get_text()\n",
        "pokemonData[ 6 ] = soup2.select( 'td a[href*=\"(Ability)\"] span' )[ 3 ].get_text() + \"/\" + soup2.select( 'td a[href*=\"(Ability)\"] span' )[ 4 ].get_text()\n",
        " \n",
        "print(pokemonData[ 4 ])\n",
        "print(pokemonData[ 5 ])\n",
        "print(pokemonData[ 6 ])"
      ],
      "metadata": {
        "colab": {
          "base_uri": "https://localhost:8080/"
        },
        "id": "75gR4N4RK747",
        "outputId": "9f9d3cff-58e1-4c16-8d32-992b3617686b"
      },
      "execution_count": 139,
      "outputs": [
        {
          "output_type": "stream",
          "name": "stdout",
          "text": [
            "\n",
            "                  Overgrow\n",
            "                 \n",
            "\n",
            "                  Cacophony\n",
            "                 \n",
            "\n",
            "                  Chlorophyll\n",
            "                 /\n",
            "                  Cacophony\n",
            "                 \n"
          ]
        }
      ]
    },
    {
      "cell_type": "code",
      "source": [
        "#get base stats of pokemon\n",
        "#no for loop because easier to put in db + can't index items with variable with bs4\n",
        "\n",
        "pokemonData[ 7 ]   = (int) (soup2.select( 'tbody tr th div' )[ 1 ].get_text())\n",
        "pokemonData[ 8 ]   = (int) (soup2.select( 'tbody tr th div' )[ 3 ].get_text())\n",
        "pokemonData[ 9 ]   = (int) (soup2.select( 'tbody tr th div' )[ 5 ].get_text())\n",
        "pokemonData[ 10 ]  = (int) (soup2.select( 'tbody tr th div' )[ 7 ].get_text())\n",
        "pokemonData[ 11 ]  = (int) (soup2.select( 'tbody tr th div' )[ 9 ].get_text())\n",
        "pokemonData[ 12 ]  = (int) (soup2.select( 'tbody tr th div' )[ 11 ].get_text())\n",
        "pokemonData[ 13 ]  = (int) (soup2.select( 'tbody tr th div' )[ 13 ].get_text())\n",
        "\n",
        "print(pokemonData[ 7 ])\n",
        "print(pokemonData[ 8 ])\n",
        "print(pokemonData[ 9 ])\n",
        "print(pokemonData[ 10 ])\n",
        "print(pokemonData[ 11 ])\n",
        "print(pokemonData[ 12 ])\n",
        "print(pokemonData[ 13 ])"
      ],
      "metadata": {
        "colab": {
          "base_uri": "https://localhost:8080/"
        },
        "id": "nlnVT0xu37rA",
        "outputId": "1c6cb7f0-6689-4b26-e880-a49bd606a990"
      },
      "execution_count": 128,
      "outputs": [
        {
          "output_type": "stream",
          "name": "stdout",
          "text": [
            "45\n",
            "49\n",
            "49\n",
            "65\n",
            "65\n",
            "45\n",
            "318\n"
          ]
        }
      ]
    }
  ]
}